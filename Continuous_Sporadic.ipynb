{
 "cells": [
  {
   "cell_type": "code",
   "execution_count": 1,
   "metadata": {},
   "outputs": [],
   "source": [
    "import torch\n",
    "import xml.etree.ElementTree as ET\n",
    "from sentence_transformers import SentenceTransformer, util"
   ]
  },
  {
   "cell_type": "code",
   "execution_count": 2,
   "metadata": {},
   "outputs": [],
   "source": [
    "ca_ru = ET.parse('data/full data/t1989-9-canada-russian-federation-bit-1989.xml')\n",
    "ca_cz = ET.parse('data/full data/t1990-14-canada-czech-republic-bit-1990.xml')\n"
   ]
  },
  {
   "cell_type": "code",
   "execution_count": 9,
   "metadata": {},
   "outputs": [
    {
     "name": "stdout",
     "output_type": "stream",
     "text": [
      "16\n"
     ]
    }
   ],
   "source": [
    "root_ru = ca_ru.getroot()\n",
    "root_cz = ca_cz.getroot()\n",
    "article1_ru = root_ru[1][2][0]\n",
    "article1_cz = root_cz[1][2][0]\n",
    "\n",
    "sentences_ru = []\n",
    "sentences_cz = []\n",
    "\n",
    "for child in article1_ru:\n",
    "   sentences_ru.append(child.text)\n",
    "for child in article1_cz:\n",
    "   sentences_cz.append(child.text)\n",
    "\n",
    "print(len(sentences_cz))\n"
   ]
  },
  {
   "cell_type": "code",
   "execution_count": 10,
   "metadata": {},
   "outputs": [
    {
     "data": {
      "text/plain": [
       "['For the purpose of this Agreement:',\n",
       " '(a) The term \"territory\" means the territory of Canada or the territory of the Union of Soviet Socialist Republics respectively, as well as those maritime areas, including the seabed and subsoil adjacent to the outer limit of the territorial sea of either of the above territories, over which the State concerned exercises, in accordance with international law, sovereign rights for the purpose of exploration and exploitation of the natural resources of such areas;',\n",
       " '(b) The term \"investment\" means any kind of asset invested either directly, or indirectly through an investor of a third State, by an investor of one Contracting Party in the territory of the other Contracting Party and in particular, though not exclusively, shall include:',\n",
       " '(i) Any movable and immovable property and any related property rights, such as mortgages;',\n",
       " '(ii) Shares, stock, bonds and debentures or any other form of participation in a company, business enterprise or joint venture;',\n",
       " '(iii) Claims to money, and claims to performance under contract having a financial value;',\n",
       " '(iv) Any intellectual property rights, including rights with respect to copyrights, patents, trademarks, trade names, industrial designs, trade secrets as well as know-how;',\n",
       " '(v) Rights, conferred by law or under contract, to undertake any economic and commercial activity, including any rights to search for, cultivate, extract or exploit natural resources.',\n",
       " 'Any change in the form of an investment does not affect its character as an investment;',\n",
       " '(c) The term \"returns\" means all amounts yielded by an investment and in particular, though not exclusively, profits, interest, capital gains, dividends, royalties, fees or other current income;',\n",
       " '(d) The term \"investor\" means with regard to either Contracting Party:',\n",
       " '(i) Any natural person possessing the citizenship of or permanently residing in a Contracting Party in accordance with its laws; or',\n",
       " '(ii) Any corporation, partnership, trust, joint venture, organization, association or enterprise incorporated or duly constituted in accordance with applicable laws of that Contracting Party;',\n",
       " 'Provided that such natural person, corporation, partnership, trust, joint venture, organization, association or enterprise has the legal right, in accordance with the laws of that Contracting Party, to make investments in the territory of the other Contracting Party.']"
      ]
     },
     "execution_count": 10,
     "metadata": {},
     "output_type": "execute_result"
    }
   ],
   "source": [
    "sentences_ru"
   ]
  },
  {
   "cell_type": "code",
   "execution_count": 4,
   "metadata": {},
   "outputs": [
    {
     "data": {
      "application/vnd.jupyter.widget-view+json": {
       "model_id": "5b191ba4091146e8854ad25cc6d2a818",
       "version_major": 2,
       "version_minor": 0
      },
      "text/plain": [
       "Downloading:   0%|          | 0.00/690 [00:00<?, ?B/s]"
      ]
     },
     "metadata": {},
     "output_type": "display_data"
    },
    {
     "data": {
      "application/vnd.jupyter.widget-view+json": {
       "model_id": "82ab925a397744d994991506411d8d31",
       "version_major": 2,
       "version_minor": 0
      },
      "text/plain": [
       "Downloading:   0%|          | 0.00/190 [00:00<?, ?B/s]"
      ]
     },
     "metadata": {},
     "output_type": "display_data"
    },
    {
     "data": {
      "application/vnd.jupyter.widget-view+json": {
       "model_id": "0e63d7d6ac0343c7a12443b6aee65261",
       "version_major": 2,
       "version_minor": 0
      },
      "text/plain": [
       "Downloading:   0%|          | 0.00/3.99k [00:00<?, ?B/s]"
      ]
     },
     "metadata": {},
     "output_type": "display_data"
    },
    {
     "data": {
      "application/vnd.jupyter.widget-view+json": {
       "model_id": "219f8f487bc24614828cdd9c61e16cc5",
       "version_major": 2,
       "version_minor": 0
      },
      "text/plain": [
       "Downloading:   0%|          | 0.00/550 [00:00<?, ?B/s]"
      ]
     },
     "metadata": {},
     "output_type": "display_data"
    },
    {
     "data": {
      "application/vnd.jupyter.widget-view+json": {
       "model_id": "b8692803e2cd49df8fa4a0c1975a1bd9",
       "version_major": 2,
       "version_minor": 0
      },
      "text/plain": [
       "Downloading:   0%|          | 0.00/122 [00:00<?, ?B/s]"
      ]
     },
     "metadata": {},
     "output_type": "display_data"
    },
    {
     "data": {
      "application/vnd.jupyter.widget-view+json": {
       "model_id": "911e7b6dd045446d841da013d2804d01",
       "version_major": 2,
       "version_minor": 0
      },
      "text/plain": [
       "Downloading:   0%|          | 0.00/265M [00:00<?, ?B/s]"
      ]
     },
     "metadata": {},
     "output_type": "display_data"
    },
    {
     "data": {
      "application/vnd.jupyter.widget-view+json": {
       "model_id": "68c047b9a5c049b19ad7189f73f546d8",
       "version_major": 2,
       "version_minor": 0
      },
      "text/plain": [
       "Downloading:   0%|          | 0.00/53.0 [00:00<?, ?B/s]"
      ]
     },
     "metadata": {},
     "output_type": "display_data"
    },
    {
     "data": {
      "application/vnd.jupyter.widget-view+json": {
       "model_id": "3c536362af534d339779e079cb5ab651",
       "version_major": 2,
       "version_minor": 0
      },
      "text/plain": [
       "Downloading:   0%|          | 0.00/112 [00:00<?, ?B/s]"
      ]
     },
     "metadata": {},
     "output_type": "display_data"
    },
    {
     "data": {
      "application/vnd.jupyter.widget-view+json": {
       "model_id": "be5488b9edb04bdb8c91bcb15395709a",
       "version_major": 2,
       "version_minor": 0
      },
      "text/plain": [
       "Downloading:   0%|          | 0.00/466k [00:00<?, ?B/s]"
      ]
     },
     "metadata": {},
     "output_type": "display_data"
    },
    {
     "data": {
      "application/vnd.jupyter.widget-view+json": {
       "model_id": "b14bfa3d225c49288ad69d7c3376a3be",
       "version_major": 2,
       "version_minor": 0
      },
      "text/plain": [
       "Downloading:   0%|          | 0.00/450 [00:00<?, ?B/s]"
      ]
     },
     "metadata": {},
     "output_type": "display_data"
    },
    {
     "data": {
      "application/vnd.jupyter.widget-view+json": {
       "model_id": "cf3889634a814e13a23c28dc14884780",
       "version_major": 2,
       "version_minor": 0
      },
      "text/plain": [
       "Downloading:   0%|          | 0.00/232k [00:00<?, ?B/s]"
      ]
     },
     "metadata": {},
     "output_type": "display_data"
    },
    {
     "data": {
      "application/vnd.jupyter.widget-view+json": {
       "model_id": "3d69666efce7418b8e5cf324929a3f89",
       "version_major": 2,
       "version_minor": 0
      },
      "text/plain": [
       "Downloading:   0%|          | 0.00/229 [00:00<?, ?B/s]"
      ]
     },
     "metadata": {},
     "output_type": "display_data"
    }
   ],
   "source": [
    "model = SentenceTransformer('distilbert-base-nli-mean-tokens')\n",
    "\n",
    "sentence_ru_embeddings = model.encode(sentences_ru)\n",
    "sentence_cz_embeddings = model.encode(sentences_cz)"
   ]
  },
  {
   "cell_type": "code",
   "execution_count": 5,
   "metadata": {},
   "outputs": [
    {
     "name": "stdout",
     "output_type": "stream",
     "text": [
      "(d) The term \"territory\" means:\n",
      "(ii) In respect of the Czech and Slovak Federal Republic, the territory of the Czech and Slovak Federal Republic.\n"
     ]
    }
   ],
   "source": [
    "for id, embd in enumerate(sentence_cz_embeddings):\n",
    "\n",
    "    scores = util.cos_sim(embd, sentence_ru_embeddings)\n",
    "\n",
    "    if max(scores[0])<0.8 :\n",
    "        print(sentences_cz[id])\n"
   ]
  },
  {
   "cell_type": "code",
   "execution_count": null,
   "metadata": {},
   "outputs": [],
   "source": []
  }
 ],
 "metadata": {
  "kernelspec": {
   "display_name": "Python 3.8.12 ('d2l')",
   "language": "python",
   "name": "python3"
  },
  "language_info": {
   "codemirror_mode": {
    "name": "ipython",
    "version": 3
   },
   "file_extension": ".py",
   "mimetype": "text/x-python",
   "name": "python",
   "nbconvert_exporter": "python",
   "pygments_lexer": "ipython3",
   "version": "3.8.12"
  },
  "orig_nbformat": 4,
  "vscode": {
   "interpreter": {
    "hash": "b6811291ebc6a1101dad9e06911db63e2939aee7bbc2b0dc38a0c92b3ecb53df"
   }
  }
 },
 "nbformat": 4,
 "nbformat_minor": 2
}
