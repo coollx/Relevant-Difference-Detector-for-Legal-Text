{
 "cells": [
  {
   "cell_type": "code",
   "execution_count": 1,
   "metadata": {},
   "outputs": [],
   "source": [
    "import torch\n",
    "import xml.etree.ElementTree as ET\n",
    "from sentence_transformers import SentenceTransformer, util"
   ]
  },
  {
   "cell_type": "code",
   "execution_count": 2,
   "metadata": {},
   "outputs": [],
   "source": [
    "ca_ru = ET.parse('data/full data/t1989-9-canada-russian-federation-bit-1989.xml')\n",
    "ca_cz = ET.parse('data/full data/t1990-14-canada-czech-republic-bit-1990.xml')\n"
   ]
  },
  {
   "cell_type": "code",
   "execution_count": 9,
   "metadata": {},
   "outputs": [
    {
     "name": "stdout",
     "output_type": "stream",
     "text": [
      "16\n"
     ]
    }
   ],
   "source": [
    "root_ru = ca_ru.getroot()\n",
    "root_cz = ca_cz.getroot()\n",
    "article1_ru = root_ru[1][2][0]\n",
    "article1_cz = root_cz[1][2][0]\n",
    "\n",
    "sentences_ru = []\n",
    "sentences_cz = []\n",
    "\n",
    "for child in article1_ru:\n",
    "   sentences_ru.append(child.text)\n",
    "for child in article1_cz:\n",
    "   sentences_cz.append(child.text)\n",
    "\n",
    "print(len(sentences_cz))\n"
   ]
  },
  {
   "cell_type": "code",
   "execution_count": 4,
   "metadata": {},
   "outputs": [
    {
     "data": {
      "application/vnd.jupyter.widget-view+json": {
       "model_id": "5b191ba4091146e8854ad25cc6d2a818",
       "version_major": 2,
       "version_minor": 0
      },
      "text/plain": [
       "Downloading:   0%|          | 0.00/690 [00:00<?, ?B/s]"
      ]
     },
     "metadata": {},
     "output_type": "display_data"
    },
    {
     "data": {
      "application/vnd.jupyter.widget-view+json": {
       "model_id": "82ab925a397744d994991506411d8d31",
       "version_major": 2,
       "version_minor": 0
      },
      "text/plain": [
       "Downloading:   0%|          | 0.00/190 [00:00<?, ?B/s]"
      ]
     },
     "metadata": {},
     "output_type": "display_data"
    },
    {
     "data": {
      "application/vnd.jupyter.widget-view+json": {
       "model_id": "0e63d7d6ac0343c7a12443b6aee65261",
       "version_major": 2,
       "version_minor": 0
      },
      "text/plain": [
       "Downloading:   0%|          | 0.00/3.99k [00:00<?, ?B/s]"
      ]
     },
     "metadata": {},
     "output_type": "display_data"
    },
    {
     "data": {
      "application/vnd.jupyter.widget-view+json": {
       "model_id": "219f8f487bc24614828cdd9c61e16cc5",
       "version_major": 2,
       "version_minor": 0
      },
      "text/plain": [
       "Downloading:   0%|          | 0.00/550 [00:00<?, ?B/s]"
      ]
     },
     "metadata": {},
     "output_type": "display_data"
    },
    {
     "data": {
      "application/vnd.jupyter.widget-view+json": {
       "model_id": "b8692803e2cd49df8fa4a0c1975a1bd9",
       "version_major": 2,
       "version_minor": 0
      },
      "text/plain": [
       "Downloading:   0%|          | 0.00/122 [00:00<?, ?B/s]"
      ]
     },
     "metadata": {},
     "output_type": "display_data"
    },
    {
     "data": {
      "application/vnd.jupyter.widget-view+json": {
       "model_id": "911e7b6dd045446d841da013d2804d01",
       "version_major": 2,
       "version_minor": 0
      },
      "text/plain": [
       "Downloading:   0%|          | 0.00/265M [00:00<?, ?B/s]"
      ]
     },
     "metadata": {},
     "output_type": "display_data"
    },
    {
     "data": {
      "application/vnd.jupyter.widget-view+json": {
       "model_id": "68c047b9a5c049b19ad7189f73f546d8",
       "version_major": 2,
       "version_minor": 0
      },
      "text/plain": [
       "Downloading:   0%|          | 0.00/53.0 [00:00<?, ?B/s]"
      ]
     },
     "metadata": {},
     "output_type": "display_data"
    },
    {
     "data": {
      "application/vnd.jupyter.widget-view+json": {
       "model_id": "3c536362af534d339779e079cb5ab651",
       "version_major": 2,
       "version_minor": 0
      },
      "text/plain": [
       "Downloading:   0%|          | 0.00/112 [00:00<?, ?B/s]"
      ]
     },
     "metadata": {},
     "output_type": "display_data"
    },
    {
     "data": {
      "application/vnd.jupyter.widget-view+json": {
       "model_id": "be5488b9edb04bdb8c91bcb15395709a",
       "version_major": 2,
       "version_minor": 0
      },
      "text/plain": [
       "Downloading:   0%|          | 0.00/466k [00:00<?, ?B/s]"
      ]
     },
     "metadata": {},
     "output_type": "display_data"
    },
    {
     "data": {
      "application/vnd.jupyter.widget-view+json": {
       "model_id": "b14bfa3d225c49288ad69d7c3376a3be",
       "version_major": 2,
       "version_minor": 0
      },
      "text/plain": [
       "Downloading:   0%|          | 0.00/450 [00:00<?, ?B/s]"
      ]
     },
     "metadata": {},
     "output_type": "display_data"
    },
    {
     "data": {
      "application/vnd.jupyter.widget-view+json": {
       "model_id": "cf3889634a814e13a23c28dc14884780",
       "version_major": 2,
       "version_minor": 0
      },
      "text/plain": [
       "Downloading:   0%|          | 0.00/232k [00:00<?, ?B/s]"
      ]
     },
     "metadata": {},
     "output_type": "display_data"
    },
    {
     "data": {
      "application/vnd.jupyter.widget-view+json": {
       "model_id": "3d69666efce7418b8e5cf324929a3f89",
       "version_major": 2,
       "version_minor": 0
      },
      "text/plain": [
       "Downloading:   0%|          | 0.00/229 [00:00<?, ?B/s]"
      ]
     },
     "metadata": {},
     "output_type": "display_data"
    }
   ],
   "source": [
    "model = SentenceTransformer('distilbert-base-nli-mean-tokens')\n",
    "\n",
    "sentence_ru_embeddings = model.encode(sentences_ru)\n",
    "sentence_cz_embeddings = model.encode(sentences_cz)"
   ]
  },
  {
   "cell_type": "code",
   "execution_count": 18,
   "metadata": {},
   "outputs": [],
   "source": [
    "for id, embd in enumerate(sentence_cz_embeddings):\n",
    "\n",
    "    scores = util.cos_sim(embd, sentence_ru_embeddings)\n",
    "\n",
    "    if max(scores[0])<0.9:\n",
    "        print(sentences_cz[id])\n"
   ]
  },
  {
   "cell_type": "code",
   "execution_count": 67,
   "metadata": {},
   "outputs": [
    {
     "name": "stdout",
     "output_type": "stream",
     "text": [
      "num_pages: 14\n",
      "page_id: 0\n",
      "The following sentences appear in doc2 but not in doc1:\n",
      "(d) The term \"territory\" means:\n",
      "(ii) In respect of the Czech and Slovak Federal Republic, the territory of the Czech and Slovak Federal Republic.\n",
      "\n",
      "\n",
      "\n",
      "page_id: 1\n",
      "----[All the sentences in this page are the same.]----\n",
      "\n",
      "\n",
      "\n",
      "page_id: 2\n",
      "----[All the sentences in this page are the same.]----\n",
      "\n",
      "\n",
      "\n",
      "page_id: 3\n",
      "The following sentences appear in doc1 but not in doc2:\n",
      "(d) Any existing or future convention relating to double taxation or other fiscal matters.\n",
      "\n",
      "\n",
      "The following sentences appear in doc2 but not in doc1:\n",
      "(d) Any existing or future convention relating to taxation.\n",
      "\n",
      "\n",
      "\n",
      "page_id: 4\n",
      "----[All the sentences in this page are the same.]----\n",
      "\n",
      "\n",
      "\n",
      "page_id: 5\n",
      "----[All the sentences in this page are the same.]----\n",
      "\n",
      "\n",
      "\n",
      "page_id: 6\n",
      "The following sentences appear in doc1 but not in doc2:\n",
      "(a) The returns accruing from any investment;\n",
      "In any convertible currency agreed upon between the investor and the Contracting Party concerned at the exchange rate on the day of the transfer.\n",
      "For the purpose of this paragraph, prompt transfer means transfer on a pro rata basis within a period not exceeding two years.\n",
      "(2) In cases where exceptional balance of payments difficulties exist, and then for a period not exceeding eighteen months, the Contracting Party shall guarantee the transfer of any amount mentioned in paragraph (1) of this Article on a pro rata basis, provided that the total period for the transfer does not exceed five years.\n",
      "(3) The Contracting Parties undertake to accord to transfers referred to in paragraph (1) of this Article a treatment no less favourable than that accorded to transfers originating from investments made by investors of any third State.\n",
      "\n",
      "\n",
      "The following sentences appear in doc2 but not in doc1:\n",
      "(2) Transfers shall be effected without delay in the convertible currency in which the capital was originally invested or in any other convertible currency agreed by the investor and the Contracting Party concerned. Unless otherwise agreed by the investor, transfers shall be made at the rate of the exchange applicable on the date of transfer.\n",
      "\n",
      "\n",
      "\n",
      "page_id: 7\n",
      "----[All the sentences in this page are the same.]----\n",
      "\n",
      "\n",
      "\n",
      "page_id: 8\n",
      "The following sentences appear in doc1 but not in doc2:\n",
      "(3) In that case, the dispute shall then be settled in conformity with the Arbitration Rules of the United Nations Commission on International Trade Law , as adopted in Resolution 31/98 of the United Nations General Assembly on 15 December 1976.\n",
      "\n",
      "\n",
      "The following sentences appear in doc2 but not in doc1:\n",
      "(3) In that case, the dispute shall then be settled in conformity with the Arbitration Rules of the United Nations Commission on International Trade Law, as then in force.Arbitration Rules of the United Nations Commission on International Trade Law, as then in force.\n",
      "\n",
      "\n",
      "\n",
      "page_id: 9\n",
      "----[All the sentences in this page are the same.]----\n",
      "\n",
      "\n",
      "\n",
      "page_id: 10\n",
      "The following sentences appear in doc1 but not in doc2:\n",
      "(1) Any dispute between the Contracting Parties concerning the interpretation or application of this Agreement shall, whenever possible, be settled through diplomatic channels.\n",
      "\n",
      "\n",
      "The following sentences appear in doc2 but not in doc1:\n",
      "(1) Any dispute between the Contracting Parties concerning the interpretation or application of this Agreement shall, whenever possible, be settled amicably through consultations.\n",
      "(6) Each Contracting Party shall bear the costs of its own member of the tribunal and of its representation in the arbitral proceedings; the costs related to the Chairman and any remaining costs shall be borne equally by the Contracting Parties. The arbitral tribunal may, however, in its decision direct that a higher proportion of costs shall be borne by one of the two Contracting Parties, and this award shall be binding on both Contracting Parties.\n",
      "\n",
      "\n",
      "\n",
      "page_id: 11\n",
      "The following sentences appear in doc1 but not in doc2:\n",
      "This Agreement may be amended by mutual consent of the Contracting Parties. Such amendments shall enter into force on a date which shall be mutually agreed upon through an exchange of notes on this matter.\n",
      "\n",
      "\n",
      "The following sentences appear in doc2 but not in doc1:\n",
      "When a matter is covered both by the provisions of Agreement and any other international agreement to which both Contracting Parties are bound, nothing in this Agreement shall prevent an investor of one Contracting Party that has investments in the territory of the other Contracting Party from benefitting from the most favourable regime.\n",
      "\n",
      "\n",
      "\n",
      "page_id: 12\n",
      "The following sentences appear in doc1 but not in doc2:\n",
      "Where a matter is covered both by the provisions of this Agreement and any other international agreement to which both Contracting Parties are bound, nothing in this Agreement shall prevent an investor of one Contracting Party that has investments in the territory of the other Contracting Party from benefitting from the most favourable regime.\n",
      "\n",
      "\n",
      "The following sentences appear in doc2 but not in doc1:\n",
      "This Agreement shall apply to any investment made by an investor of one Contracting Party in the territory of the other Contracting Party on or after January 1st 1955.\n",
      "\n",
      "\n",
      "\n",
      "page_id: 13\n",
      "The following sentences appear in doc1 but not in doc2:\n",
      "(1) This Agreement shall enter into force on the day the two Contracting Parties notify each other in writing that their constitutional requirements for the entry into force of this Agreement have been fulfilled.\n",
      "(2) This Agreement shall apply to any investment made by an investor of one Contracting Party in the territory of the other Contracting Party on or after January 1st 1950.\n",
      "\n",
      "\n",
      "The following sentences appear in doc2 but not in doc1:\n",
      "(1) Each Contracting Party shall notify the other in writing of the completion of the constitutional formalities required in its territory for the entry into force of this Agreement. This Agreement shall enter into force on the date of the latter of the two notifications.\n",
      "\n",
      "\n",
      "\n"
     ]
    }
   ],
   "source": [
    "def compare_all(doc1_path, doc2_path):\n",
    "    doc1, doc2 = ET.parse(doc1_path), ET.parse(doc2_path)\n",
    "    root1, root2 = doc1.getroot(), doc2.getroot()\n",
    "\n",
    "    num_pages = max(len(root1[1][2]), len(root2[1][2]))\n",
    "    print('num_pages:', num_pages)\n",
    "    model = SentenceTransformer('distilbert-base-nli-mean-tokens')\n",
    "\n",
    "    for page_id in range(num_pages):\n",
    "        print('page_id:', page_id)\n",
    "        all_the_same = True\n",
    "        page1 = root1[1][2][page_id]\n",
    "        page2 = root2[1][2][page_id]\n",
    "        sentences_on_page1 = [child.text for child in page1]\n",
    "        sentences_on_page2 = [child.text for child in page2]\n",
    "\n",
    "        sentence_embeddings_on_page1 = model.encode(sentences_on_page1)\n",
    "        sentence_embeddings_on_page2 = model.encode(sentences_on_page2)\n",
    "        \n",
    "        temp1 = []\n",
    "        for id, embd in enumerate(sentence_embeddings_on_page1):\n",
    "            scores = util.cos_sim(embd, sentence_embeddings_on_page2)\n",
    "            if max(scores[0])<0.9:\n",
    "                all_the_same = False\n",
    "                temp1.append(sentences_on_page1[id])\n",
    "        if temp1:\n",
    "            print(\"The following sentences appear in doc1 but not in doc2:\")\n",
    "            for elem in temp1:\n",
    "                print(elem)\n",
    "\n",
    "        if not all_the_same:\n",
    "            print('\\n')\n",
    "\n",
    "        temp2 = []\n",
    "        for id, embd in enumerate(sentence_embeddings_on_page2):\n",
    "            scores = util.cos_sim(embd, sentence_embeddings_on_page1)\n",
    "            if max(scores[0])<0.9:\n",
    "                all_the_same = False\n",
    "                temp2.append(sentences_on_page2[id])\n",
    "        if temp2:\n",
    "            print(\"The following sentences appear in doc2 but not in doc1:\")\n",
    "            for elem in temp2:\n",
    "                print(elem)\n",
    "            \n",
    "\n",
    "        if all_the_same:\n",
    "            print(\"----[All the sentences in this page are the same.]----\")\n",
    "        print('\\n\\n')\n",
    "\n",
    "compare_all('data/full data/t1989-9-canada-russian-federation-bit-1989.xml', 'data/full data/t1990-14-canada-czech-republic-bit-1990.xml')"
   ]
  },
  {
   "cell_type": "code",
   "execution_count": null,
   "metadata": {},
   "outputs": [],
   "source": []
  }
 ],
 "metadata": {
  "kernelspec": {
   "display_name": "Python 3.8.12 ('d2l')",
   "language": "python",
   "name": "python3"
  },
  "language_info": {
   "codemirror_mode": {
    "name": "ipython",
    "version": 3
   },
   "file_extension": ".py",
   "mimetype": "text/x-python",
   "name": "python",
   "nbconvert_exporter": "python",
   "pygments_lexer": "ipython3",
   "version": "3.8.12"
  },
  "orig_nbformat": 4,
  "vscode": {
   "interpreter": {
    "hash": "b6811291ebc6a1101dad9e06911db63e2939aee7bbc2b0dc38a0c92b3ecb53df"
   }
  }
 },
 "nbformat": 4,
 "nbformat_minor": 2
}
