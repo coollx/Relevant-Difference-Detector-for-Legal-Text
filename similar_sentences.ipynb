{
 "cells": [
  {
   "cell_type": "code",
   "execution_count": 3,
   "metadata": {},
   "outputs": [],
   "source": [
    "import pandas as pd\n",
    "import torch\n",
    "from transformers import AutoTokenizer, AutoModelForSequenceClassification\n",
    "from sentence_transformers import SentenceTransformer, util\n",
    "import xml.etree.ElementTree as ET\n",
    "import numpy as np\n",
    "import time\n",
    "import os\n",
    "import random"
   ]
  },
  {
   "cell_type": "markdown",
   "metadata": {},
   "source": [
    "## Load model and metadata from disk"
   ]
  },
  {
   "cell_type": "code",
   "execution_count": 4,
   "metadata": {},
   "outputs": [],
   "source": [
    "model = SentenceTransformer('distilbert-base-nli-mean-tokens')\n",
    "meta_data_df = pd.read_excel('data/category_configuration_09-08-2022_08-08-01.xlsx', sheet_name = 'article_names_matching')\n",
    "title2category = dict(zip(meta_data_df[\"Article Title\"], meta_data_df[\"Category 2\"]))"
   ]
  },
  {
   "cell_type": "markdown",
   "metadata": {},
   "source": [
    "## Code for calculate similarity between two documents"
   ]
  },
  {
   "cell_type": "code",
   "execution_count": 5,
   "metadata": {},
   "outputs": [],
   "source": [
    "def elem2sent(article, break_sentence = True):\n",
    "    '''\n",
    "    Break article into sentences. Break sentences with \".\"\n",
    "    article: xml element\n",
    "    '''\n",
    "    #if article is a list of sentences\n",
    "    sentences = [_ for _ in article.itertext() if not _.isspace() and len(_.split()) > 5]\n",
    "    \n",
    "    #break sentences with \".\"\n",
    "    if break_sentence:\n",
    "        sentences = [sent for sub in map(lambda x: x.split('.'), sentences) for sent in sub if len(sent.split()) > 5]\n",
    "    \n",
    "    #remove empty sentences\n",
    "    return list(filter(None, sentences))\n",
    "\n",
    "\n",
    "def get_article_alignment(all_articles1, all_articles2, title2category, sanity_check = True):\n",
    "    '''\n",
    "    Get article alignment between two documents\n",
    "    article_body: xml element\n",
    "    title2category: dictionary of title to category\n",
    "    sanity_check: use similarity score to check if the alignment is correct\n",
    "    return a dictionary of article alignment\n",
    "    '''\n",
    "    alignment_match = {}\n",
    "\n",
    "    #if both articles attribute includes title\n",
    "    if 'title' in all_articles1[0].attrib and 'title' in all_articles2[0].attrib:\n",
    "        article_title1 = [(article.get('title').lower(), article.get('num')) for article in all_articles1 if article.get('title')]\n",
    "        article_title2 = [(article.get('title').lower(), article.get('num')) for article in all_articles2 if article.get('title')]\n",
    "        for index1, (title1, num1) in enumerate(article_title1):\n",
    "            for index2, (title2, num2) in enumerate(article_title2):\n",
    "                if title2category.get(title1) == title2category.get(title2):\n",
    "                    #to make sure that they have a high similarity\n",
    "                    if sanity_check and max(util.cos_sim(\n",
    "                        model.encode(''.join(elem2sent(all_articles1[index1]))),\n",
    "                        model.encode(''.join(elem2sent(all_articles2[index2])))\n",
    "                    )).item() < 0.7:\n",
    "                        continue\n",
    "                    alignment_match[num1] = num2\n",
    "                    break\n",
    "                \n",
    "    #title not included in article attri, use sentence similarity instead\n",
    "    else:\n",
    "        for article1 in all_articles1:\n",
    "            text1_embd = model.encode(''.join(elem2sent(article1)))\n",
    "            text2_list_embd = model.encode([''.join(elem2sent(article2)) for article2 in all_articles2])\n",
    "            scores = util.cos_sim(text1_embd, text2_list_embd)\n",
    "            if max(scores[0]).item() > 0.7:\n",
    "                index = np.argmax(scores[0])\n",
    "                alignment_match[article1.get('num')] = all_articles2[index].get('num')\n",
    "\n",
    "    return alignment_match\n",
    "    \n",
    "\n",
    "def extract_similar_sentences_from_article(article1, article2):\n",
    "    '''\n",
    "    article1, article2: xml element\n",
    "    return: list of similar sentences: (sentence1, sentence2, similarity)\n",
    "    '''\n",
    "    article1_sents, article2_sents = elem2sent(article1, break_sentence = False), elem2sent(article2, break_sentence = False)\n",
    "    #article1_sents, article2_sents = elem2sent(article1), elem2sent(article2)\n",
    "\n",
    "    #Embed article1 and article2\n",
    "    article1_embd, article2_embd = model.encode(article1_sents), model.encode(article2_sents)\n",
    "\n",
    "    #Get similarity between article1 and article2\n",
    "    scores = util.cos_sim(article1_embd, article2_embd)\n",
    "\n",
    "    visited = set() #to make sure that we don't add the same sentence twice\n",
    "\n",
    "    #filter out the sentence with similarity greater than 0.98, this means they are perfect match and no need to compare\n",
    "    identical = (scores > 0.98).to(torch.int64)\n",
    "    for i, j in identical.nonzero().tolist():\n",
    "        visited.add('row' + str(i))\n",
    "        visited.add('col' + str(j))\n",
    "\n",
    "    #filter out the sentences with similarity between 0.5 and 0.98\n",
    "    mask = (scores > 0.5) & (scores < 0.98)\n",
    "    scores *= mask.to(torch.int64) \n",
    "\n",
    "    #get the index of the sentences with similarity between 0.5 and 0.98\n",
    "    sim_pairs = [(scores[i][j], i, j) for i, j in mask.nonzero().tolist()]\n",
    "    sim_pairs.sort(key = lambda x: x[0]) #sort by similarity score\n",
    "    \n",
    "    ret = []\n",
    "    while sim_pairs:\n",
    "        score, i, j = sim_pairs.pop()\n",
    "        if 'row' + str(i) not in visited and 'col' + str(j) not in visited:\n",
    "            ret.append((article1_sents[i], article2_sents[j], scores[i][j].item()))\n",
    "            visited.add('row' + str(i))\n",
    "            visited.add('col' + str(j))\n",
    "\n",
    "    return ret\n",
    "\n",
    "def extract_similar_from_doc(doc1_path, doc2_path, title2category, min_length = 5):\n",
    "    '''\n",
    "    doc_path: path to first document\n",
    "    title2category: dictionary of title to category\n",
    "    '''\n",
    "\n",
    "    try:   \n",
    "        doc1, doc2 = ET.parse(doc1_path), ET.parse(doc2_path)\n",
    "        doc_root1, doc_root2 = doc1.getroot(), doc2.getroot()\n",
    "        doc_body1, doc_body2 = doc_root1[1][2], doc_root2[1][2]\n",
    "        \n",
    "    except Exception as e:\n",
    "        print(e); return []\n",
    "    \n",
    "    #get article alignment between two documents\n",
    "    all_articles1, all_articles2 = doc_body1.findall(\".//div[@type='article']\"), doc_body2.findall(\".//div[@type='article']\")\n",
    "    #alignment_match = get_article_alignment(doc_body1, doc_body2, title2category)\n",
    "    alignment_match = get_article_alignment(all_articles1, all_articles2, title2category)\n",
    "\n",
    "\n",
    "    ret = []\n",
    "    for page1, page2 in alignment_match.items():\n",
    "        article1, article2 = doc_body1.find(\".//div[@num='\" + page1 + \"']\"), doc_body2.find(\".//div[@num='\" + page2 + \"']\")\n",
    "        ret.extend(extract_similar_sentences_from_article(article1, article2))\n",
    "    \n",
    "    #filter out the pairs in which both sentences are longer than min_length words and length difference is less than 4 * min_length\n",
    "    ret = [x for x in ret if len(x[0].split()) > min_length and len(x[1].split()) > min_length and abs(len(x[0].split()) - len(x[1].split())) < 4 * min_length]\n",
    "\n",
    "    #sort by similarity score\n",
    "    ret.sort(key = lambda x: x[2], reverse = True)\n",
    "\n",
    "    return ret"
   ]
  },
  {
   "cell_type": "code",
   "execution_count": 6,
   "metadata": {},
   "outputs": [
    {
     "name": "stdout",
     "output_type": "stream",
     "text": [
      "3.446413278579712\n"
     ]
    }
   ],
   "source": [
    "start = time.time()\n",
    "diff = extract_similar_from_doc(\n",
    "    'data/full data/t1989-9-canada-russian-federation-bit-1989.xml', \n",
    "    'data/full data/t1990-14-canada-czech-republic-bit-1990.xml',\n",
    "    title2category\n",
    ")\n",
    "print(time.time() - start)"
   ]
  },
  {
   "cell_type": "code",
   "execution_count": 12,
   "metadata": {},
   "outputs": [],
   "source": [
    "_ = extract_similar_from_doc(\n",
    "    'data/full data/t1995-139-hong-kong-china-sar-italy-bit-1995.xml',\n",
    "    'data/full data/t1995-140-hong-kong-china-sar-new-zealand-bit-1995.xml',\n",
    "    title2category\n",
    ")"
   ]
  },
  {
   "cell_type": "code",
   "execution_count": 8,
   "metadata": {},
   "outputs": [],
   "source": [
    "#random sample 20 canada documents\n",
    "random.seed(42)\n",
    "canada_docs = ['data/canada data/' + _ for _ in os.listdir('data/canada data') if 'canada' in _]\n",
    "#canada_docs = random.sample(canada_docs, 20)"
   ]
  },
  {
   "cell_type": "markdown",
   "metadata": {},
   "source": [
    "Sanity check to make sure the code is not reporting errors:"
   ]
  },
  {
   "cell_type": "code",
   "execution_count": 10,
   "metadata": {},
   "outputs": [],
   "source": [
    "for i in range(5):\n",
    "    #randomly select one of the canada documents\n",
    "    doc1 = random.choice(canada_docs)\n",
    "    doc2 = random.choice(canada_docs)\n",
    "\n",
    "    l = []\n",
    "\n",
    "    try:\n",
    "        _ = extract_similar_from_doc(doc1, doc2, title2category)\n",
    "        l.append(_)\n",
    "    except Exception as e:\n",
    "        print(e)\n",
    "        print(doc1, doc2)\n",
    "        continue"
   ]
  },
  {
   "cell_type": "code",
   "execution_count": 13,
   "metadata": {},
   "outputs": [
    {
     "name": "stdout",
     "output_type": "stream",
     "text": [
      "[(\"5. If a Tribunal's order designates information as confidential and a Contracting Party's law on access to information requires public access to that information, the Contracting Party's law on access to information prevails. However, the Contracting Party should try to apply its law on access to information so as to protect information that the Tribunal's order has designated as confidential.\", \"5. If a Tribunal's order designates information as confidential and a Party's law on access to information requires public access to that information, the Party's law on access to information prevails. However, the Party should try to apply its law on access to information so as to protect information that the Tribunal's order has designated as confidential.\", 0.9788036346435547), ('2. A Contracting Party may require that a majority of the board of directors, ora committee thereof, of an enterprise of that Contracting Party that is a covered investment, be of a particular nationality or a resident in the territory of the Contracting Party, provided that the requirement does not materially impair the ability of the investor to exercise control over its investment.', '2. A Party may require that a majority of the board of directors, or a committee thereof, of an enterprise of that Party that is a covered investment be of a particular nationality or resident in the territory of the Party, provided that the requirement does not materially impair the ability of the investor to exercise control over its investment.', 0.9758350849151611), ('1. Except in respect of a Tribunal established under Article 30 (Consolidation), and unless the disputing parties agree otherwise, the Tribunal shall be composed of three arbitrators. One arbitrator shall be appointed by each of the disputing parties and the third, who shall be the presiding arbitrator, shall be appointed by agreement of the disputing parties.', '1. Except in respect of a Tribunal established under Article 28, and unless the disputing parties agree otherwise, the Tribunal shall be composed of three arbitrators. One arbitrator shall be appointed by each of the disputing parties and the third, who will be the presiding arbitrator, shall be appointed by agreement of the disputing parties.', 0.9754117131233215), ('\"confidential information\" means confidential business information or information that is privileged or otherwise protected from disclosure under the law of a Contracting Party;', '\"confidential information\" means confidential business information or information that is privileged or otherwise protected from disclosure under the law of a Party;', 0.9753106832504272), ('1. An investor of a Contracting Party may submit to arbitration under this Chapter a claim that:', '1. An investor of a Party may submit to arbitration under this Section a claim that:', 0.974761962890625), ('\"financial institution\" means a financial intermediary or other enterprise that is authorized to do business and regulated or supervised as a financial institution under the law of the Contracting Party in whose territory it is located;', '\"financial institution\" means a financial intermediary or other enterprise that is authorized to do business and regulated or supervised as a financial institution under the law of the Party in whose territory it is located;', 0.9741069078445435), ('(d) a natural person who is a citizen of one Contracting Party and a permanent resident of the other Contracting Party shall be deemed to be exclusively a national of the Contracting Party of their citizenship;', '(b) a natural person who is a citizen of one Party and a permanent resident of the other Party shall be deemed to be exclusively a national of the Party of his or her citizenship;', 0.9624538421630859), ('(a) for Canada, the Commissioner of Competition or a successor to be notified to Benin by diplomatic note; and', 'for Canada, the Commissioner of Competition or a successor to be notified to the Republic of Serbia by diplomatic note; and', 0.9618685841560364), ('1. A Contracting Party may not nationalize or expropriate a covered investment either directly or indirectly through measures having an effect equivalent to nationalization or expropriation (\"expropriation\"), except for a public purpose, in accordance with due process of law, in a non-discriminatory manner and on payment of compensation in accordance with paragraphs 2 and 3. For greater certainty, this paragraph shall be interpreted in accordance with Annex I.', '1. A Party may not nationalize or expropriate a covered investment either directly or indirectly through measures having an effect equivalent to nationalization or expropriation (\"expropriation\"), except for a public purpose, in accordance with due process of law, in a non-discriminatory manner and on payment of compensation in accordance with paragraphs 2 and 3. For greater certainty, this paragraph shall be interpreted in accordance with Annex B.10.', 0.9617589712142944), ('(c) a natural person who is a dual citizen of Canada and Benin shall be deemed to be exclusively a national of the Contracting Party of their dominant and effective nationality; and', '(a) a natural person who is a dual citizen of Canada and the Republic of Serbia shall be deemed to be exclusively a national of the Party of his or her dominant and effective nationality; and', 0.960324227809906), ('\"covered investment\" means, with respect to a Contracting Party, an investment in its territory of an investor of the other Contracting Party existing on the date of coming into force of this Agreement, as well as an investment made or acquired subsequently;', '\"covered investment\" means, with respect to a Party, an investment in its territory that is owned or controlled, directly or indirectly, by an investor of the other Party existing on the date of entry into force of this Agreement, as well as an investment made or acquired thereafter;', 0.958943247795105), ('Chapters III and IV of this Agreement do not apply to questions covered in Annex IV.', 'Sections C and D of this Agreement do not apply to the matters set out in Annex IV.', 0.9553000330924988), ('6. Where a Tribunal has been established under this Article, an investor that has submitted a claim to arbitration under Article 26 (Submission of a Claim to Arbitration) and that has not been named in a request made under paragraph 1 may make a written request to the Tribunal that it be included in an order made under paragraph 5, and shall specify in the request:', '6. Where a Tribunal has been established under this Article, an investor that has submitted a claim to arbitration under Article 24 and that has not been named in a request made under paragraph 1 may make a written request to the Tribunal that it be included in an order made under paragraph 5, and shall specify in the request:', 0.9541701674461365), ('(ii) both the investor and the enterprise waive their right to initiate or continue before an administrative tribunal or court under the domestic law of a Party, or other dispute settlement procedures, proceedings with respect to the measure of the respondent Contracting Party that is alleged to be a breach referred to in Article 23 (Claim by an Investor of a Contracting Party on its Own Behalf or on Behalf of an Enterprise).', '(ii) both the investor and the enterprise waive their right to initiate or continue before an administrative tribunal or court under the domestic law of a Party, or other dispute settlement procedures, proceedings with respect to the measure of the respondent Party that is alleged to be a breach referred to in Article 21.', 0.9441430568695068), ('\"sub-national government\" means with respect to Canada, a provincial, territorial or local government;', 'for Canada, a provincial, territorial or local government; and', 0.9301722049713135), ('\"TRIPS Agreement\" means the Agreement on Trade-Related Aspects of Intellectual Property Rights; \"UNCITRAL Arbitration Rules\" means the Arbitration Rules of the United Nations Commission on International Trade Law, in their most recent form; and', '‘\"UNCITRAL Arbitration Rules\" means the arbitration rules of the United Nations Commission on International Trade Law, in their most recent form; and', 0.9219852685928345), ('(b) for Benin, the Director of Competition and Struggle Against Fraud or his Deputy, or a successor to be notified to Canada by diplomatic note;', 'for the Republic of Serbia, the Commission for the Protection of Competition or a successor to be notified to Canada by diplomatic note;', 0.9132195711135864), ('8. A Tribunal established under Article 26 (Submission of a Claim to Arbitration) does not have jurisdiction to decide a claim, or a part of a claim, over which a Tribunal established under this Article has assumed jurisdiction.', '8. A Tribunal established under Article 24 does not have jurisdiction to decide a claim, or a part of a claim, over which a Tribunal established under this Article has assumed jurisdiction.', 0.9012773036956787), ('2. An investor may submit a claim to arbitration under Article 23 (Claim by an Investor of a Contracting Party on Its Own Behalf or on Behalf of an Enterprise) only if:', '2. An investor may submit a claim to arbitration under Article 21 only if:', 0.8888161182403564), ('5. If a Tribunal established under this Article is satisfied that claims submitted to arbitration under Article 26 (Submission of a Claim to Arbitration) have a question of law or fact in common, the Tribunal may, in the interest of fair and efficient resolution of the claims and after hearing the respondent Contracting Party and the disputing investors, by order:', '5. If a Tribunal established under this Article is satisfied that claims submitted to arbitration under Article 24 have a question of law or fact in common, the Tribunal may, in the interest of fair and efficient resolution of the claims and after hearing the disputing parties, by order:', 0.8762356042861938), ('\"disputing party\" means the investor that has made a claim under Chapter III or the respondent Contracting Party;', '\"disputing party\" means either the respondent Party or the investor that has made a claim under Section C;', 0.8752987384796143), ('that does not involve the kinds of interests set out in subparagraphs (a) to (j);', '(l) any other claim to money; that does not involve the kinds of interests set out in subparagraphs (a) to (j);', 0.8662552237510681), ('2. The consent given in paragraph 1 and the submission by an investor of a claim to arbitration satisfy the requirement of:', '(d) the investor has delivered evidence establishing that it is an investor of the other Party with its notice of intent to submit a claim to arbitration under subparagraph 2(c);', 0.8617023229598999), ('\"national government\" means for Canada, the federal government; and for Benin, the Government of the Republic of Benin;', 'for Canada, the federal government; and', 0.8567644357681274), ('\"Tribunal\" means an arbitration tribunal established under Article 26 (Submission of a Claim to Arbitration) or Article 30 (Consolidation) of this Agreement;', '\"Tribunal\" means an arbitration tribunal established under Article 24 or Article 28 of this Agreement;', 0.856053352355957), ('1. A Contracting Party may not impose or enforce the following requirements, or enforce a commitment or undertaking, in connection with the establishment, acquisition, expansion, management, conduct or operation of an investment of an investor of a Contracting Party or of a non-Party in its territory:', '1. A Party may not require that an enterprise of that Party that is a covered investment appoint to a senior management position an individual of any particular nationality.', 0.8421597480773926), ('1. An investor that meets the conditions precedent in Article 24 (Conditions Precedent to Submission of a Claim to Arbitration) may submit a claim to arbitration under:', '(d) the investor has delivered evidence establishing that it is an investor of the other Party with its notice of intent to submit a claim to arbitration under subparagraph 2(c);', 0.826612114906311), ('(i) applied in a manner that constitutes arbitrary or unjustifiable discrimination between investments or between investors, or', '(b) the investor has incurred loss or damage by reason of, or arising out of, that breach.', 0.8221120834350586), ('\"enterprise\" means an entity constituted or organized under applicable law, whether or not for profit, whether privately owned or governmentally owned, including a corporation, trust, partnership, sole proprietorship, joint venture or other association and a branch of any such entity;', '\"enterprise\" means an entity constituted or organized under applicable law, whether or not for profit, whether privately owned or governmentally owned, including a corporation, trust, partnership, sole proprietorship, joint venture or other association and a branch of any such entity. For greater certainty, the term enterprise in the case of the Republic of Serbia, includes an enterprise undergoing privatization;', 0.8128423690795898), ('1. This Agreement shall apply to measures adopted or maintained by a Contracting Party relating to:', '1. An investor of a Party may submit to arbitration under this Section a claim that:', 0.8126142024993896), ('2. This Agreement does not affect the rights and obligations of a Contracting Party under a tax convention. In the event of inconsistency between this Agreement and a tax convention, that convention prevails.', '1. A Party may not require that an enterprise of that Party that is a covered investment appoint to a senior management position an individual of any particular nationality.', 0.8091245293617249), ('(a) a Contracting Party may adopt or enforce a measure necessary:', '1. An investor of a Party may submit to arbitration under this Section a claim that:', 0.8072850704193115), ('3. This Agreement may be amended by agreement of the Contracting Parties, that is through their written mutual consent.', '1. This Agreement shall apply to measures adopted or maintained by a Party relating to:', 0.7989319562911987), ('3. Upon request by a Contracting Party, the other Contracting Party shall provide information on a measure that may have an impact on a covered investment.', '2. The other Party has the right to attend hearings held under this Section. Upon written notice to the disputing parties, the other Party may make submissions to a Tribunal on questions of interpretation of this Agreement.', 0.7906356453895569), ('For the purpose of this Agreement, the following terms and expressions shall have the meanings herein assigned to them:', 'For the purpose of this Agreement: \"competition authority\" means:', 0.7890348434448242), ('(b) the enterprise has no substantial business activities in the territory of the Contracting Party under whose domestic law it is constituted or organized.', '1. A Party may not require that an enterprise of that Party that is a covered investment appoint to a senior management position an individual of any particular nationality.', 0.7857522368431091), ('2. In the application of this Chapter, each Contracting Party shall give sympathetic consideration to the requests of the other Contracting Party.', '2. The other Party has the right to attend hearings held under this Section. Upon written notice to the disputing parties, the other Party may make submissions to a Tribunal on questions of interpretation of this Agreement.', 0.7824362516403198), ('1. If a dispute cannot be settled by consultation within the Joint Commission, it shall, at the request of one of the Contracting Parties, be submitted to a special arbitral group for decision.', '2. The other Party has the right to attend hearings held under this Section. Upon written notice to the disputing parties, the other Party may make submissions to a Tribunal on questions of interpretation of this Agreement.', 0.7811436057090759), ('2. When a Contracting Party determines that a dispute involves measures adopted relating to financial institutions or to investors or their investments in those institutions or when a Contracting Party invokes paragraph 6 of Article 12 (Transfers) or paragraph 2 or 3 of Article 20 (General Exceptions), the arbitrators shall, in addition to the criteria set out in paragraph 1, have expertise or experience in financial services or practice, which may include the regulation of financial institutions.', '2. A Party may require that a majority of the board of directors, or a committee thereof, of an enterprise of that Party that is a covered investment be of a particular nationality or resident in the territory of the Party, provided that the requirement does not materially impair the ability of the investor to exercise control over its investment.', 0.7765023708343506), ('(c) the continental shelf of the Contracting Party, as determined by its domestic law, consistent with Part VI of UNCLOS;', '(iii) the continental shelf of Canada, as determined by its domestic law, consistent with Part VI of UNCLOS; and', 0.7691724300384521), ('(a) protecting investors, depositors, financial market participants, policy holders, policy-claimants, or persons to whom a fiduciary duty is owed by a financial institution;', '2. An investor of a Party, on behalf of an enterprise of the respondent Party that is a juridical person that the investor owns or controls directly or indirectly, may submit to arbitration under this Section a claim that:', 0.7674526572227478), ('2. A special arbitral group shall be constituted for each dispute. Within two months after receipt through diplomatic channels of the request for arbitration, each Contracting Party shall appoint one member to the special arbitral group. The two members shall then select a national of a third State who, upon approval by the two Contracting Parties, shall be appointed Chair of the special arbitral group. The Chair shall be appointed within 60 days from the date of appointment of the other two members of the special arbitral group.', '1. The respondent Party shall deliver to the other Party a copy of the notice of intent to submit a claim to arbitration and other documents within 30 days of the date those documents have been delivered to the respondent Party. The other Party is entitled, at its cost, to receive from the respondent Party a copy of the evidence that has been tendered to the Tribunal, copies of pleadings filed in the arbitration, and the written argument of the disputing parties. The Party receiving such information shall treat the information as if it were a respondent Party.', 0.7673001289367676), ('(b) the exclusive economic zone of the Contracting Party, as determined by its domestic law, consistent with Part V of theUnited Nations Convention on the Law of the Sea, done at Montego Bay on 10 December 1982 (UNCLOS); and', '(ii) the exclusive economic zone of Canada, as determined by its domestic law, consistent with Part V of the United Nations Convention on the Law of the Sea, done at Montego Bay on 10 December 1982 (UNCLOS); and', 0.76564621925354), ('In an arbitration under this Chapter, a respondent Contracting Party may not assert as a defence, counterclaim, right of setoff, or otherwise that the investor has received or will receive, under an insurance or guarantee contract, indemnification or other compensation for all or part of its alleged damages.', '1. A Party may not require that an enterprise of that Party that is a covered investment appoint to a senior management position an individual of any particular nationality.', 0.7610083222389221), ('(a) the ICSID Convention, provided that both Contracting Parties are parties to the ICSID Convention;', '(a) the investor and, where a claim is made under Article 21(2), the enterprise,consent to arbitration in accordance with the procedures set out in thisAgreement;', 0.7539055943489075), ('\"respondent Contracting Party\" means a Contracting Party against which a claim is made under Chapter III;', '\"respondent Party\" means a Party against which a claim is made under Section C;', 0.749695897102356), ('A Contracting Party may deny the benefits of this Chapter to an investor of the other Contracting Party that is an enterprise of that Contracting Party and to investments of that investor if investors of a non-Party or of the denying Contracting Party own or control the enterprise and:', '2. A Party may require that a majority of the board of directors, or a committee thereof, of an enterprise of that Party that is a covered investment be of a particular nationality or resident in the territory of the Party, provided that the requirement does not materially impair the ability of the investor to exercise control over its investment.', 0.7355861067771912), ('3. A breach of another provision of this Agreement, or of a separate international agreement, does not establish that there has been a breach of this Article.', '1. A Party may not require that an enterprise of that Party that is a covered investment appoint to a senior management position an individual of any particular nationality.', 0.7311779260635376), ('1. Arbitrators shall have expertise or experience in public international law, international trade or international investment rules, or the resolution of disputes arising under international trade or international investment agreements. They shall be independent of, and not be affiliated with or take instructions from, a Contracting Party.', '1. A Party may not require that an enterprise of that Party that is a covered investment appoint to a senior management position an individual of any particular nationality.', 0.7264072895050049), ('and (b) for Benin, a natural person who is a citizen or permanent resident of Benin;', 'for the Republic of Serbia, a natural person having the nationality of the Republic of Serbia;', 0.7250021696090698), ('3. For greater certainty, the treatment accorded by a Contracting Party under paragraphs 1 and 2 means, with respect to a sub-national government, treatment accorded, in like circumstances, by that sub-national government to investors, and to investments of investors, of a non-Party.', '2. The other Party has the right to attend hearings held under this Section. Upon written notice to the disputing parties, the other Party may make submissions to a Tribunal on questions of interpretation of this Agreement.', 0.7154988050460815), ('2. Except to the extent modified by this Agreement, the arbitration is governed by the arbitration rules applicable under paragraph 1 that are in effect on the date that the claim is submitted to arbitration under this Chapter.', '(c) the investor has delivered to the respondent Party a written notice of itsintent to submit a claim to arbitration at least 90 days prior to submittingthe claim, which notice shall specify:', 0.7141965627670288), ('(b) the Additional Facility Rules of ICSID, if only one Contracting Party is a party to the ICSID Convention; or', '2. An investor may submit a claim to arbitration under Article 21 only if:', 0.7124283909797668), ('All disputes between the Contracting Parties relating to the interpretation or application of this Agreement shall be, whenever possible, settled amicably by consultations within the Joint Commission.', '3. Further to consultations under this Article, the Parties may take an action as they may agree, including making and adopting rules supplementing the applicable arbitral tules under Section C of this Agreement.', 0.7122475504875183), ('2. The obligations in Chapter II of this Agreement apply to a person of a Contracting Party who exercises a regulatory, administrative or any other public prerogative power delegated to that person by that Contracting Party.', '(a) Chapter I of the ICSID Convention (Jurisdiction of the Centre) and the ICSID Additional Facility Rules for written consent of the disputing parties; and', 0.7099596858024597), ('6. In the course of a dispute settlement procedure under this Agreement:', '(a) Chapter I of the ICSID Convention (Jurisdiction of the Centre) and the ICSID Additional Facility Rules for written consent of the disputing parties; and', 0.7043086886405945), ('3. Article 6 (Most-Favoured-Nation Treatment) of this Agreement does not apply to financial services.', '1. A Party may not require that an enterprise of that Party that is a covered investment appoint to a senior management position an individual of any particular nationality.', 0.7012542486190796), ('\"investor of a Contracting Party\" means a national or an enterprise of a Contracting Party, that seeks to make, is making or has made an investment;', '\"TRIPS Agreement\" means the Agreement on Trade-Related Aspects of Intellectual Property Rights;', 0.7008377313613892), ('4. A Tribunal may not order the respondent Contracting Party to pay punitive damages.', '1. A Party may not require that an enterprise of that Party that is a covered investment appoint to a senior management position an individual of any particular nationality.', 0.700501561164856), ('3. If the Vice-President is a national of one of the Contracting Parties, or if he or she cannot fulfil this function for another reason, the member of the International Court of Justice who is next in rank and who is not a national of one of the Contracting Parties shall be invited to proceed with the appointments.', '2. A Party may require that a majority of the board of directors, or a committee thereof, of an enterprise of that Party that is a covered investment be of a particular nationality or resident in the territory of the Party, provided that the requirement does not materially impair the ability of the investor to exercise control over its investment.', 0.7000895738601685), ('3. The Contracting Parties may adopt supplemental rules of procedure that complement the arbitration rules listed in paragraph 1 and these rules apply to the arbitration. The Contracting Parties shall promptly publish the supplemental rules of procedure that they adopt or otherwise make them available in such a manner as to enable interested persons to become acquainted with them.', '1. The disputing parties shall hold consultations and attempt to settle a claimamicably before an investor may submit a claim to arbitration. Unless the disputingparties agree to a longer period, consultations shall be held within 60 days of thesubmission of the notice of intent to submit a claim to arbitration undersubparagraph 2(c). The place of consultation shall be the capital of the respondent Party,unless the disputing parties otherwise agree.', 0.6998376846313477), ('2. Each Contracting Party shall accord to a covered investment treatment no less favourable than that it accords, in like circumstances, to investments of its own investors with respect to the establishment, acquisition, expansion, management, conduct, operation and sale or other disposition of an investment in its territory.', '2. The other Party has the right to attend hearings held under this Section. Upon written notice to the disputing parties, the other Party may make submissions to a Tribunal on questions of interpretation of this Agreement.', 0.6996169090270996), ('2. The special arbitral group may, however, order that a higher percentage of costs be supported by one of the Contracting Parties, and this decision is binding on the Contracting Parties.', '2. The other Party has the right to attend hearings held under this Section. Upon written notice to the disputing parties, the other Party may make submissions to a Tribunal on questions of interpretation of this Agreement.', 0.699294924736023), ('4. A claim is submitted to arbitration under this Chapter when:', '(iv) the relief sought and the approximate amount of damages claimed;', 0.6919270157814026), ('(a) for Canada, the Assistant Deputy Minister responsible for tax policy, Department of Finance, or a successor; and', '(i) the land territory, internal waters and territorial sea, including the air space above these areas, of Canada;', 0.6804158091545105), ('For the purposes of Article 39 of the ICSID Convention and Article 7 of Schedule C to the ICSID Additional Facility Rules, and without prejudice to an objection to an arbitrator based on a ground other than nationality:', '2. Arbitrators shall have expertise or experience in public international law, international investment or international trade rules, or the resolution of disputes arising under international investment or international trade agreements. Arbitrators shall be independent of, and not be affiliated with or take instructions from, either Party and the disputing investor.', 0.6769163012504578), ('(a) Chapter II of the ICSID Convention (Jurisdiction of the Centre) and the ICSID Additional Facility Rules for written consent of the disputing parties; and e = (b) Article II of the New York Convention for an agreement in writing.', '(c) the investor has delivered to the respondent Party a written notice of itsintent to submit a claim to arbitration at least 90 days prior to submittingthe claim, which notice shall specify:', 0.6705412864685059), ('1. In the case where the Contracting Parties have not proceeded with the appointments within the time limits set out in Article 41 (Submission to a Special Arbitral Group), each Contracting Party may invite the President of the International Court of Justice to proceed with the appointments.', '3. Subject to its domestic law relating to the entry of aliens, each Party shall grant temporary entry to nationals employed by an investor of the other Party who seek to render managerial or executive services, or services that require specialized knowledge, to an investment of that investor in the territory of the Party.', 0.6626337766647339), ('(b) provided that the measure referred to in subparagraph (a) is not:', '(a) the respondent Party has breached an obligation under Section B, other than an obligation under Articles 8(3), 12, 15 or 16; and', 0.656307578086853), ('\"taxation measure\" means any measure relating to direct taxes and indirect taxes;', '\"tax convention\" means a convention for the avoidance of double taxation or other international taxation agreement or arrangement;', 0.6552746295928955), ('2. Each of the Contracting Parties shall notify by writing the other Contracting Party of the completion of procedures required in its territory for the entry into force of this Agreement. The Agreement shall enter into force on the date of the last notification.', '2. The obligations in Section B apply to a person of a Party when it exercises a regulatory, administrative or other governmental authority delegated to it by that Party.', 0.6171600818634033), ('(a) the request for arbitration under Article 36(1) of the ICSID Convention is received by the Secretary-General of ICSID;', '(f) in the case of a claim submitted under Article 21(2):', 0.5954309701919556), ('(a) the land territory, internal waters and territorial sea, including the air space above these areas, of the Contracting Party;', 'the area over which the Republic of Serbia exercises its sovereign rights and jurisdiction, in accordance with its national laws, regulations, and international law;', 0.5914003849029541), ('(b) for Benin, the Director General of Taxes and Domains, and the Director General of Customs and Indirect Taxation, Ministry for Economy and Finance, or a successor;', 'for the Republic of Serbia, autonomous provinces and local self-governments as defined by the Constitution of the Republic of Serbia;', 0.565921425819397), ('(c) an amendment to a non-conforming measure referred to in subparagraph (a) to the extent that the amendment does not decrease the conformity of the measure, as it existed immediately before the amendment, with Articles 5 (National Treatment), 6 (Most-Favoured-Nation Treatment), 9 (Senior Management, Board of Directors and Entry of Personnel) and 10 (Performance Requirements).', '3. Subject to its domestic law relating to the entry of aliens, each Party shall grant temporary entry to nationals employed by an investor of the other Party who seek to render managerial or executive services, or services that require specialized knowledge, to an investment of that investor in the territory of the Party.', 0.549668550491333), ('(a) the denying Contracting Party adopts or maintains measures with respect to the non-Party that prohibit transactions with the enterprise or that would be violated or circumvented if the benefits of this Chapter were accorded to the enterprise or to its investments; or', '3. Subject to its domestic law relating to the entry of aliens, each Party shall grant temporary entry to nationals employed by an investor of the other Party who seek to render managerial or executive services, or services that require specialized knowledge, to an investment of that investor in the territory of the Party.', 0.5373520255088806), ('4. (a) Paragraph 3 does not prevent a Contracting Party from conditioning the receipt or continued receipt of an advantage, in connection with an investment in its territory of an investor of a Contracting Party or of a non Party, on compliance with a requirement to locate production, provide a service, train or employ workers, construct or expand particular facilities, or carry out research and development, in its territory.', '3. Subject to its domestic law relating to the entry of aliens, each Party shall grant temporary entry to nationals employed by an investor of the other Party who seek to render managerial or executive services, or services that require specialized knowledge, to an investment of that investor in the territory of the Party.', 0.5208560824394226)]\n",
      "-----------------------------------------------------\n"
     ]
    }
   ],
   "source": [
    "for elem in l:\n",
    "    print(elem)\n",
    "    print('-----------------------------------------------------')"
   ]
  },
  {
   "cell_type": "code",
   "execution_count": null,
   "metadata": {},
   "outputs": [],
   "source": []
  }
 ],
 "metadata": {
  "kernelspec": {
   "display_name": "Python 3.8.13 ('legal')",
   "language": "python",
   "name": "python3"
  },
  "language_info": {
   "codemirror_mode": {
    "name": "ipython",
    "version": 3
   },
   "file_extension": ".py",
   "mimetype": "text/x-python",
   "name": "python",
   "nbconvert_exporter": "python",
   "pygments_lexer": "ipython3",
   "version": "3.8.13"
  },
  "orig_nbformat": 4,
  "vscode": {
   "interpreter": {
    "hash": "06852cdbcf28824f4856c911260dff4aa3407a086ba977abbb1a931f2b398117"
   }
  }
 },
 "nbformat": 4,
 "nbformat_minor": 2
}
