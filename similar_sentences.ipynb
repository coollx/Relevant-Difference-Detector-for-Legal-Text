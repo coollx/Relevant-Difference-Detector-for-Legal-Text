{
 "cells": [
  {
   "cell_type": "code",
   "execution_count": 1,
   "metadata": {},
   "outputs": [],
   "source": [
    "import pandas as pd\n",
    "import torch\n",
    "from transformers import AutoTokenizer, AutoModelForSequenceClassification\n",
    "from sentence_transformers import SentenceTransformer, util\n",
    "import xml.etree.ElementTree as ET\n",
    "import numpy as np"
   ]
  },
  {
   "cell_type": "markdown",
   "metadata": {},
   "source": [
    "Get article mapping to achieve article alignment"
   ]
  },
  {
   "cell_type": "code",
   "execution_count": 2,
   "metadata": {},
   "outputs": [],
   "source": [
    "model = SentenceTransformer('distilbert-base-nli-mean-tokens')\n",
    "df = pd.read_excel('data/category_configuration_09-08-2022_08-08-01.xlsx', sheet_name = 'article_names_matching')\n",
    "title_category = dict(zip(df[\"Article Title\"], df[\"Category 2\"]))"
   ]
  },
  {
   "cell_type": "markdown",
   "metadata": {},
   "source": [
    "Help functions to get article alignments"
   ]
  },
  {
   "cell_type": "code",
   "execution_count": 3,
   "metadata": {},
   "outputs": [],
   "source": [
    "def get_article_text(article):\n",
    "    text = \"\"\n",
    "    for child in article:\n",
    "        text += \" \"+child.text\n",
    "    return text\n",
    "\n",
    "def article_alignment(doc1_path, doc2_path):\n",
    "    doc1, doc2 = ET.parse(doc1_path), ET.parse(doc2_path)\n",
    "    root1, root2 = doc1.getroot(), doc2.getroot()\n",
    "    try:\n",
    "        body1, body2 = root1[1][2], root2[1][2]\n",
    "    except:\n",
    "        return\n",
    "\n",
    "    #model = AutoModelForSequenceClassification.from_pretrained(\"roberta-large-mnli\")\n",
    "    article_dict = {}\n",
    "\n",
    "    #if both articles attribute includes title\n",
    "    if \"title\" in body1[0].attrib and \"title\" in body2[0].attrib:\n",
    "        for article1 in body1:\n",
    "            title1 = article1.get(\"title\").lower()\n",
    "            for article2 in body2:\n",
    "                title2 = article2.get(\"title\").lower()\n",
    "\n",
    "                if title_category[title1] == title_category[title2]:\n",
    "                    #to make sure that they have a high similarity\n",
    "                    scores = util.cos_sim(\n",
    "                        model.encode(get_article_text(article1)), \n",
    "                        model.encode(get_article_text(article2))\n",
    "                    )\n",
    "                    if max(scores[0])>0.7:\n",
    "                        article_dict[article1.get(\"num\")] = article2.get(\"num\")\n",
    "\n",
    "    else:\n",
    "    #title not included in article attri, use sentence similarity instead\n",
    "        for article1 in body1:\n",
    "\n",
    "            text1_embd = model.encode(get_article_text(article1))\n",
    "            text2_list_embd = model.encode([get_article_text(article2) for article2 in body2])\n",
    "            scores = util.cos_sim(text1_embd, text2_list_embd)\n",
    "            maxi = max(scores[0]).item()\n",
    "            print(maxi)\n",
    "\n",
    "            if maxi > 0.7:\n",
    "                index = np.argmax(scores[0])\n",
    "                article_dict[article1.get(\"num\")] = body2[index].get(\"num\")\n",
    "\n",
    "\n",
    "\n",
    "    return article_dict"
   ]
  },
  {
   "cell_type": "markdown",
   "metadata": {},
   "source": [
    "Extract similar sentences from two documents"
   ]
  },
  {
   "cell_type": "code",
   "execution_count": 4,
   "metadata": {},
   "outputs": [],
   "source": [
    "def extract_similar(doc1_path, doc2_path):\n",
    "    ret = []\n",
    "\n",
    "    #First get article alignments insides two documents\n",
    "    article_dict = article_alignment(doc1_path, doc2_path)\n",
    "    doc1, doc2 = ET.parse(doc1_path), ET.parse(doc2_path)\n",
    "    root1, root2 = doc1.getroot(), doc2.getroot()\n",
    "    try:\n",
    "        body1, body2 = root1[1][2], root2[1][2]\n",
    "    except:\n",
    "        return\n",
    "\n",
    "    \n",
    "\n",
    "    \n",
    "    for article1 in body1:\n",
    "        article2_num = article_dict.get(article1.get(\"num\"))\n",
    "        if article2_num:\n",
    "        #if current article have alignment in anthoer document\n",
    "\n",
    "            # print(\"Current document match: \")\n",
    "            # print(article1.get('num') + '   :   ' + article2_num)\n",
    "            article2 = body2.find(\".//div[@num='\" + article2_num + \"']\")\n",
    "            article2_sents = []\n",
    "\n",
    "            for child in article2:\n",
    "                article2_sents.append(child.text)\n",
    "\n",
    "            sentences2_embd = model.encode(article2_sents)\n",
    "\n",
    "            for sentence1 in article1:\n",
    "                sentence1_embd = model.encode(sentence1.text)\n",
    "                scores = util.cos_sim(sentence1_embd, sentences2_embd)\n",
    "                maxi = max(scores[0]).item()\n",
    "\n",
    "                if 0.5 < maxi < 0.95:\n",
    "                    index = np.argmax(scores[0])\n",
    "                    ret.append((sentence1.text, article2[index].text, maxi))\n",
    "                    # print(sentence1.text)\n",
    "                    # print(maxi)\n",
    "                    # print(article2[index].text)\n",
    "                    # print(\"----------------------------------------------------\")\n",
    "    return ret\n"
   ]
  },
  {
   "cell_type": "code",
   "execution_count": 5,
   "metadata": {},
   "outputs": [
    {
     "data": {
      "text/plain": [
       "[('(a) The term \"territory\" means the territory of Canada or the territory of the Union of Soviet Socialist Republics respectively, as well as those maritime areas, including the seabed and subsoil adjacent to the outer limit of the territorial sea of either of the above territories, over which the State concerned exercises, in accordance with international law, sovereign rights for the purpose of exploration and exploitation of the natural resources of such areas;',\n",
       "  '(i) In respect of Canada, the territory of Canada, as well as those maritime areas, including the seabed and subsoil adjacent to the outer limit of the territorial sea, over which Canada exercises, in accordance with international law, sovereign rights for the purpose of exploration and exploitation of the natural resources of such areas;',\n",
       "  0.9311114549636841),\n",
       " ('(d) The term \"investor\" means with regard to either Contracting Party:',\n",
       "  '(b) The term \"investor\" means:',\n",
       "  0.9142022132873535),\n",
       " ('Provided that such natural person, corporation, partnership, trust, joint venture, organization, association or enterprise has the legal right, in accordance with the laws of that Contracting Party, to make investments in the territory of the other Contracting Party.',\n",
       "  'Provided that such investor has the right, in accordance with the laws of the Contracting Party, to invest in the territory of the other Contracting Party.',\n",
       "  0.9356868267059326),\n",
       " ('(a) Any existing or future free trade area or customs union;',\n",
       "  '(a) Any existing or future agreement establishing a free trade area or customs union;',\n",
       "  0.9497691988945007),\n",
       " ('(d) Any existing or future convention relating to double taxation or other fiscal matters.',\n",
       "  '(d) Any existing or future convention relating to taxation.',\n",
       "  0.8882091045379639),\n",
       " ('Investments or returns of investors of either Contracting Party shall not be nationalized, expropriated or subjected to measures having an effect equivalent to nationalization or expropriation (hereinafter referred to as \"expropriation\") in the territory of the other Contracting Party except for a public purpose, under due process of law, in a non-discriminatory manner and provided that it is accompanied by prompt, adequate and effective compensation. Such compensation shall be based on the real value of the investment at the time of the expropriation, shall be made within two months of the date of expropriation, after which interest at a normal commercial rate shall accrue until the date of payment, be effectively realizable and freely transferable. The investor affected shall have a right, under the law of the Contracting Party making the expropriation, to prompt review by a judicial or other independent authority of that Contracting Party of its case and of the valuation of its investment in accordance with the principles set out in this Article.',\n",
       "  'Investments or returns of investors of either Contracting Party shall not be nationalized, expropriated or subjected to measures having an effect equivalent to nationalization or expropriation (hereinafter referred to as \"expropriation\") in the territory of the other Contracting Party, except for a public purpose, under due process of law, in a non-discriminatory manner and provided that such expropriation is accompanied by prompt, adequate and effective compensation. Such compensation shall be based on the real value of the investment at the time of the expropriation, shall be payable from the date of expropriation at a normal commercial rate of interest, shall be paid without delay and shall be effectively realizable and freely transferable. The investor affected shall have a right, under the law of the Contracting Party making the expropriation, to prompt review, by a judicial or other independent authority of that Party, of its case and of the valuation of its investment in accordance with the principles set out in this Article.',\n",
       "  0.9364751577377319),\n",
       " ('(1) Each Contracting Party shall guarantee to any investor of the other Contracting Party the prompt transfer of, in particular:',\n",
       "  '(1) Each Contracting Party shall guarantee to an investor of the other Contracting Party the unrestricted transfer of investments and returns. Without limiting the generality of the foregoing, each Contracting Party shall also guarantee to the investor the unrestricted transfer of:',\n",
       "  0.9111754298210144),\n",
       " ('(a) The returns accruing from any investment;',\n",
       "  '(i) Funds in repayment of loans related to an investment;',\n",
       "  0.7781624794006348),\n",
       " ('In any convertible currency agreed upon between the investor and the Contracting Party concerned at the exchange rate on the day of the transfer.',\n",
       "  '(2) Transfers shall be effected without delay in the convertible currency in which the capital was originally invested or in any other convertible currency agreed by the investor and the Contracting Party concerned. Unless otherwise agreed by the investor, transfers shall be made at the rate of the exchange applicable on the date of transfer.',\n",
       "  0.8593829870223999),\n",
       " ('For the purpose of this paragraph, prompt transfer means transfer on a pro rata basis within a period not exceeding two years.',\n",
       "  '(2) Transfers shall be effected without delay in the convertible currency in which the capital was originally invested or in any other convertible currency agreed by the investor and the Contracting Party concerned. Unless otherwise agreed by the investor, transfers shall be made at the rate of the exchange applicable on the date of transfer.',\n",
       "  0.5804188251495361),\n",
       " ('(2) In cases where exceptional balance of payments difficulties exist, and then for a period not exceeding eighteen months, the Contracting Party shall guarantee the transfer of any amount mentioned in paragraph (1) of this Article on a pro rata basis, provided that the total period for the transfer does not exceed five years.',\n",
       "  '(2) Transfers shall be effected without delay in the convertible currency in which the capital was originally invested or in any other convertible currency agreed by the investor and the Contracting Party concerned. Unless otherwise agreed by the investor, transfers shall be made at the rate of the exchange applicable on the date of transfer.',\n",
       "  0.6819553971290588),\n",
       " ('(3) The Contracting Parties undertake to accord to transfers referred to in paragraph (1) of this Article a treatment no less favourable than that accorded to transfers originating from investments made by investors of any third State.',\n",
       "  '(iii) Wages and other remuneration accruing to a citizen of the other Contracting Party who was permitted to work in connection with an investment in its territory;',\n",
       "  0.7101349830627441),\n",
       " ('(3) In that case, the dispute shall then be settled in conformity with the Arbitration Rules of the United Nations Commission on International Trade Law , as adopted in Resolution 31/98 of the United Nations General Assembly on 15 December 1976.',\n",
       "  '(3) In that case, the dispute shall then be settled in conformity with the Arbitration Rules of the United Nations Commission on International Trade Law, as then in force.Arbitration Rules of the United Nations Commission on International Trade Law, as then in force.',\n",
       "  0.8855404257774353),\n",
       " ('(1) Any dispute between the Contracting Parties concerning the interpretation or application of this Agreement shall, whenever possible, be settled through diplomatic channels.',\n",
       "  '(1) Any dispute between the Contracting Parties concerning the interpretation or application of this Agreement shall, whenever possible, be settled amicably through consultations.',\n",
       "  0.8883911967277527),\n",
       " ('(1) This Agreement shall enter into force on the day the two Contracting Parties notify each other in writing that their constitutional requirements for the entry into force of this Agreement have been fulfilled.',\n",
       "  '(1) Each Contracting Party shall notify the other in writing of the completion of the constitutional formalities required in its territory for the entry into force of this Agreement. This Agreement shall enter into force on the date of the latter of the two notifications.',\n",
       "  0.8837541341781616),\n",
       " ('(2) This Agreement shall apply to any investment made by an investor of one Contracting Party in the territory of the other Contracting Party on or after January 1st 1950.',\n",
       "  '(1) Each Contracting Party shall notify the other in writing of the completion of the constitutional formalities required in its territory for the entry into force of this Agreement. This Agreement shall enter into force on the date of the latter of the two notifications.',\n",
       "  0.6620042324066162)]"
      ]
     },
     "execution_count": 5,
     "metadata": {},
     "output_type": "execute_result"
    }
   ],
   "source": [
    "extract_similar('data/full data/t1989-9-canada-russian-federation-bit-1989.xml', 'data/full data/t1990-14-canada-czech-republic-bit-1990.xml')"
   ]
  },
  {
   "cell_type": "markdown",
   "metadata": {},
   "source": [
    "fair and equitable treatment\n"
   ]
  },
  {
   "cell_type": "code",
   "execution_count": 6,
   "metadata": {},
   "outputs": [
    {
     "data": {
      "text/plain": [
       "{'type': 'article', 'num': 'I', 'title': 'Definitions'}"
      ]
     },
     "execution_count": 6,
     "metadata": {},
     "output_type": "execute_result"
    }
   ],
   "source": [
    "doc_path = 'data/full data/t1989-9-canada-russian-federation-bit-1989.xml'\n",
    "doc = ET.parse(doc_path)\n",
    "root = doc.getroot()\n",
    "body = root[1][2]\n",
    "\n",
    "body[0].attrib"
   ]
  },
  {
   "cell_type": "code",
   "execution_count": 68,
   "metadata": {},
   "outputs": [],
   "source": [
    "def xml2sentences(article, break_sentence = True):\n",
    "    '''\n",
    "    Break article into sentences. Break sentences with \".\"\n",
    "    article: xml element\n",
    "    '''\n",
    "    ret = []\n",
    "    for child in article:\n",
    "        if break_sentence:\n",
    "            ret.extend(child.text.strip().split(\".\"))\n",
    "        else:\n",
    "            ret.append(child.text)\n",
    "    return ret\n",
    "\n",
    "def extract_similar_sentences_from_article(article1, article2):\n",
    "    '''\n",
    "    article1, article2: xml element\n",
    "    return: list of similar sentences: (sentence1, sentence2, similarity)\n",
    "    '''\n",
    "    ret = []\n",
    "    article1_sents, article2_sents = xml2sentences(article1, break_sentence = False), xml2sentences(article2, break_sentence = False)\n",
    "    # article1_sents, article2_sents = xml2sentences(article1), xml2sentences(article2)\n",
    "\n",
    "\n",
    "    #Embed article1 and article2\n",
    "    article1_embd = model.encode(article1_sents)\n",
    "    article2_embd = model.encode(article2_sents)\n",
    "\n",
    "    #Get similarity between article1 and article2\n",
    "    scores = util.cos_sim(article1_embd, article2_embd)\n",
    "\n",
    "    visited = set() #to make sure that we don't add the same sentence twice\n",
    "\n",
    "    #filter out the sentence with similarity greater than 0.99, this means they are perfect match and no need to compare\n",
    "    identical = (scores > 0.99).to(torch.int64)\n",
    "    for i, j in identical.nonzero().tolist():\n",
    "        visited.add('row' + str(i))\n",
    "        visited.add('col' + str(j))\n",
    "\n",
    "    #filter out the sentences with similarity between 0.5 and 0.95\n",
    "    mask = (scores > 0.5) & (scores < 0.95)\n",
    "    scores *= mask.to(torch.int64) \n",
    "\n",
    "    #get the index of the sentences with similarity between 0.5 and 0.95\n",
    "    sim_pairs = [(scores[i][j], i, j) for i, j in mask.nonzero().tolist()]\n",
    "    sim_pairs.sort(key = lambda x: x[0]) #sort by similarity score\n",
    "    \n",
    "    while sim_pairs:\n",
    "        score, i, j = sim_pairs.pop()\n",
    "        if 'row' + str(i) not in visited and 'col' + str(j) not in visited:\n",
    "            ret.append((article1_sents[i], article2_sents[j], scores[i][j]))\n",
    "            visited.add('row' + str(i))\n",
    "            visited.add('col' + str(j))\n",
    "\n",
    "    \n",
    "    return ret"
   ]
  },
  {
   "cell_type": "code",
   "execution_count": 69,
   "metadata": {},
   "outputs": [],
   "source": [
    "def extract_similar2(doc1_path, doc2_path):\n",
    "    ret = []\n",
    "\n",
    "    #First get article alignments insides two documents\n",
    "    alignment_match = article_alignment(doc1_path, doc2_path)\n",
    "    doc1, doc2 = ET.parse(doc1_path), ET.parse(doc2_path)\n",
    "    root1, root2 = doc1.getroot(), doc2.getroot()\n",
    "    try:\n",
    "        body1, body2 = root1[1][2], root2[1][2]\n",
    "    except:\n",
    "        return\n",
    "\n",
    "    for page1, page2 in alignment_match.items():\n",
    "        article1 = body1.find(\".//div[@num='\" + page1 + \"']\")\n",
    "        article2 = body2.find(\".//div[@num='\" + page2 + \"']\")\n",
    "        ret.extend(extract_similar_sentences_from_article(article1, article2))\n",
    "    \n",
    "    return ret\n",
    "\n",
    "    "
   ]
  },
  {
   "cell_type": "code",
   "execution_count": 70,
   "metadata": {},
   "outputs": [
    {
     "data": {
      "text/plain": [
       "[('Provided that such natural person, corporation, partnership, trust, joint venture, organization, association or enterprise has the legal right, in accordance with the laws of that Contracting Party, to make investments in the territory of the other Contracting Party.',\n",
       "  'Provided that such investor has the right, in accordance with the laws of the Contracting Party, to invest in the territory of the other Contracting Party.',\n",
       "  tensor(0.9357)),\n",
       " ('(a) The term \"territory\" means the territory of Canada or the territory of the Union of Soviet Socialist Republics respectively, as well as those maritime areas, including the seabed and subsoil adjacent to the outer limit of the territorial sea of either of the above territories, over which the State concerned exercises, in accordance with international law, sovereign rights for the purpose of exploration and exploitation of the natural resources of such areas;',\n",
       "  '(i) In respect of Canada, the territory of Canada, as well as those maritime areas, including the seabed and subsoil adjacent to the outer limit of the territorial sea, over which Canada exercises, in accordance with international law, sovereign rights for the purpose of exploration and exploitation of the natural resources of such areas;',\n",
       "  tensor(0.9311)),\n",
       " ('(d) The term \"investor\" means with regard to either Contracting Party:',\n",
       "  '(b) The term \"investor\" means:',\n",
       "  tensor(0.9142)),\n",
       " ('(iv) Any intellectual property rights, including rights with respect to copyrights, patents, trademarks, trade names, industrial designs, trade secrets as well as know-how;',\n",
       "  '(i) Movable and immovable property and any related property rights, such as mortgages, liens or pledges;',\n",
       "  tensor(0.7657)),\n",
       " ('(i) Any movable and immovable property and any related property rights, such as mortgages;',\n",
       "  '(iv) Intellectual property rights, including rights with respect to copyrights, patents, trademarks as well as trade names, industrial designs, good will, trade secrets and know-how;',\n",
       "  tensor(0.7075)),\n",
       " ('(a) Any existing or future free trade area or customs union;',\n",
       "  '(a) Any existing or future agreement establishing a free trade area or customs union;',\n",
       "  tensor(0.9498)),\n",
       " ('(d) Any existing or future convention relating to double taxation or other fiscal matters.',\n",
       "  '(d) Any existing or future convention relating to taxation.',\n",
       "  tensor(0.8882)),\n",
       " ('Investments or returns of investors of either Contracting Party shall not be nationalized, expropriated or subjected to measures having an effect equivalent to nationalization or expropriation (hereinafter referred to as \"expropriation\") in the territory of the other Contracting Party except for a public purpose, under due process of law, in a non-discriminatory manner and provided that it is accompanied by prompt, adequate and effective compensation. Such compensation shall be based on the real value of the investment at the time of the expropriation, shall be made within two months of the date of expropriation, after which interest at a normal commercial rate shall accrue until the date of payment, be effectively realizable and freely transferable. The investor affected shall have a right, under the law of the Contracting Party making the expropriation, to prompt review by a judicial or other independent authority of that Contracting Party of its case and of the valuation of its investment in accordance with the principles set out in this Article.',\n",
       "  'Investments or returns of investors of either Contracting Party shall not be nationalized, expropriated or subjected to measures having an effect equivalent to nationalization or expropriation (hereinafter referred to as \"expropriation\") in the territory of the other Contracting Party, except for a public purpose, under due process of law, in a non-discriminatory manner and provided that such expropriation is accompanied by prompt, adequate and effective compensation. Such compensation shall be based on the real value of the investment at the time of the expropriation, shall be payable from the date of expropriation at a normal commercial rate of interest, shall be paid without delay and shall be effectively realizable and freely transferable. The investor affected shall have a right, under the law of the Contracting Party making the expropriation, to prompt review, by a judicial or other independent authority of that Party, of its case and of the valuation of its investment in accordance with the principles set out in this Article.',\n",
       "  tensor(0.9365)),\n",
       " ('(1) Each Contracting Party shall guarantee to any investor of the other Contracting Party the prompt transfer of, in particular:',\n",
       "  '(1) Each Contracting Party shall guarantee to an investor of the other Contracting Party the unrestricted transfer of investments and returns. Without limiting the generality of the foregoing, each Contracting Party shall also guarantee to the investor the unrestricted transfer of:',\n",
       "  tensor(0.9112)),\n",
       " ('In any convertible currency agreed upon between the investor and the Contracting Party concerned at the exchange rate on the day of the transfer.',\n",
       "  '(2) Transfers shall be effected without delay in the convertible currency in which the capital was originally invested or in any other convertible currency agreed by the investor and the Contracting Party concerned. Unless otherwise agreed by the investor, transfers shall be made at the rate of the exchange applicable on the date of transfer.',\n",
       "  tensor(0.8594)),\n",
       " ('(c) Funds in repayment of loans related to an investment;',\n",
       "  '(iv) Any compensation owed to an investor by virtue of Articles V or VI of the Agreement.',\n",
       "  tensor(0.8023)),\n",
       " ('(e) Any compensation owed to an investor by virtue of Articles V or VI of this Agreement;',\n",
       "  '(i) Funds in repayment of loans related to an investment;',\n",
       "  tensor(0.7900)),\n",
       " ('(3) The Contracting Parties undertake to accord to transfers referred to in paragraph (1) of this Article a treatment no less favourable than that accorded to transfers originating from investments made by investors of any third State.',\n",
       "  '(iii) Wages and other remuneration accruing to a citizen of the other Contracting Party who was permitted to work in connection with an investment in its territory;',\n",
       "  tensor(0.7101)),\n",
       " ('(3) In that case, the dispute shall then be settled in conformity with the Arbitration Rules of the United Nations Commission on International Trade Law , as adopted in Resolution 31/98 of the United Nations General Assembly on 15 December 1976.',\n",
       "  '(3) In that case, the dispute shall then be settled in conformity with the Arbitration Rules of the United Nations Commission on International Trade Law, as then in force.Arbitration Rules of the United Nations Commission on International Trade Law, as then in force.',\n",
       "  tensor(0.8855)),\n",
       " ('(1) Any dispute between the Contracting Parties concerning the interpretation or application of this Agreement shall, whenever possible, be settled through diplomatic channels.',\n",
       "  '(1) Any dispute between the Contracting Parties concerning the interpretation or application of this Agreement shall, whenever possible, be settled amicably through consultations.',\n",
       "  tensor(0.8884)),\n",
       " ('(5) The arbitral tribunal shall reach its decision by a majority of votes. Such decision shall be binding on both Contracting Parties. Unless otherwise agreed, the decision of the arbitral tribunal shall be rendered within six months of the appointment of the Chairman in accordance with paragraph (3) or (4) of this Article. The arbitral tribunal shall determine its own procedure. Each Contracting Party shall bear the costs of its own member of the tribunal and of its representation in the arbitral proceedings; the costs related to the Chairman and any remaining costs shall be borne equally by the Contracting Parties. The arbitral tribunal may, however, in its decision direct that a higher proportion of costs shall be borne by one of the two Contracting Parties, and this award shall be binding on both Contracting Parties.',\n",
       "  '(6) Each Contracting Party shall bear the costs of its own member of the tribunal and of its representation in the arbitral proceedings; the costs related to the Chairman and any remaining costs shall be borne equally by the Contracting Parties. The arbitral tribunal may, however, in its decision direct that a higher proportion of costs shall be borne by one of the two Contracting Parties, and this award shall be binding on both Contracting Parties.',\n",
       "  tensor(0.8602)),\n",
       " ('(2) If the dispute cannot be settled through diplomatic channels, it shall, at the request of either Contracting Party, be submitted to an arbitral tribunal for decision.',\n",
       "  '(5) The arbitral tribunal shall determine its own procedure. The arbitral tribunal shall reach its decision by a majority of votes. Such decision shall be binding on both Contracting Parties. Unless otherwise agreed, the decision of the arbitral tribunal shall be rendered within six months of the appointment of the Chairman in accordance with paragraph (3) or (4) of this Article.',\n",
       "  tensor(0.6562)),\n",
       " ('(1) This Agreement shall enter into force on the day the two Contracting Parties notify each other in writing that their constitutional requirements for the entry into force of this Agreement have been fulfilled.',\n",
       "  '(1) Each Contracting Party shall notify the other in writing of the completion of the constitutional formalities required in its territory for the entry into force of this Agreement. This Agreement shall enter into force on the date of the latter of the two notifications.',\n",
       "  tensor(0.8838)),\n",
       " ('(2) This Agreement shall apply to any investment made by an investor of one Contracting Party in the territory of the other Contracting Party on or after January 1st 1950.',\n",
       "  '(2) This Agreement shall remain in force unless either Contracting Party notifies in writing the other Contracting Party of its intention to terminate it. The notice of termination of this Agreement shall become effective one year after it has been received by the other Contracting Party. In respect of investments made prior to the date when the notice of termination of this Agreement becomes effective, the provisions of Articles I to XIII inclusive of this Agreement shall remain in force for a period of fifteen years.',\n",
       "  tensor(0.6616))]"
      ]
     },
     "execution_count": 70,
     "metadata": {},
     "output_type": "execute_result"
    }
   ],
   "source": [
    "extract_similar2('data/full data/t1989-9-canada-russian-federation-bit-1989.xml', 'data/full data/t1990-14-canada-czech-republic-bit-1990.xml')"
   ]
  },
  {
   "cell_type": "code",
   "execution_count": null,
   "metadata": {},
   "outputs": [],
   "source": []
  }
 ],
 "metadata": {
  "kernelspec": {
   "display_name": "Python 3.8.13 ('legal')",
   "language": "python",
   "name": "python3"
  },
  "language_info": {
   "codemirror_mode": {
    "name": "ipython",
    "version": 3
   },
   "file_extension": ".py",
   "mimetype": "text/x-python",
   "name": "python",
   "nbconvert_exporter": "python",
   "pygments_lexer": "ipython3",
   "version": "3.8.13"
  },
  "orig_nbformat": 4,
  "vscode": {
   "interpreter": {
    "hash": "06852cdbcf28824f4856c911260dff4aa3407a086ba977abbb1a931f2b398117"
   }
  }
 },
 "nbformat": 4,
 "nbformat_minor": 2
}
