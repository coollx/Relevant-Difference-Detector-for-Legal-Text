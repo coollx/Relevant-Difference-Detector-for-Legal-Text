{
 "cells": [
  {
   "cell_type": "code",
   "execution_count": 5,
   "metadata": {},
   "outputs": [],
   "source": [
    "import pandas as pd\n",
    "import torch\n",
    "from transformers import AutoTokenizer, AutoModelForSequenceClassification\n",
    "from sentence_transformers import SentenceTransformer, util\n",
    "import xml.etree.ElementTree as ET\n",
    "import numpy as np\n",
    "import time"
   ]
  },
  {
   "cell_type": "markdown",
   "metadata": {},
   "source": [
    "Get article mapping to achieve article alignment"
   ]
  },
  {
   "cell_type": "code",
   "execution_count": 6,
   "metadata": {},
   "outputs": [],
   "source": [
    "model = SentenceTransformer('distilbert-base-nli-mean-tokens')\n",
    "df = pd.read_excel('data/category_configuration_09-08-2022_08-08-01.xlsx', sheet_name = 'article_names_matching')\n",
    "title2category = dict(zip(df[\"Article Title\"], df[\"Category 2\"]))"
   ]
  },
  {
   "cell_type": "markdown",
   "metadata": {},
   "source": [
    "Help functions to get article alignments"
   ]
  },
  {
   "cell_type": "code",
   "execution_count": 25,
   "metadata": {},
   "outputs": [],
   "source": [
    "def get_article_text(article):\n",
    "    text = \"\"\n",
    "    for child in article:\n",
    "        text += \" \"+child.text\n",
    "    return text\n",
    "\n",
    "def article_alignment(doc1_path, doc2_path):\n",
    "    doc1, doc2 = ET.parse(doc1_path), ET.parse(doc2_path)\n",
    "    root1, root2 = doc1.getroot(), doc2.getroot()\n",
    "    try:\n",
    "        body1, body2 = root1[1][2], root2[1][2]\n",
    "    except:\n",
    "        return\n",
    "\n",
    "    #model = AutoModelForSequenceClassification.from_pretrained(\"roberta-large-mnli\")\n",
    "    article_dict = {}\n",
    "\n",
    "    #if both articles attribute includes title\n",
    "    if \"title\" in body1[0].attrib and \"title\" in body2[0].attrib:\n",
    "        for article1 in body1:\n",
    "            title1 = article1.get(\"title\").lower()\n",
    "            for article2 in body2:\n",
    "                title2 = article2.get(\"title\").lower()\n",
    "\n",
    "                if title2category[title1] == title2category[title2]:\n",
    "                    #to make sure that they have a high similarity\n",
    "                    scores = util.cos_sim(\n",
    "                        model.encode(get_article_text(article1)), \n",
    "                        model.encode(get_article_text(article2))\n",
    "                    )\n",
    "                    if max(scores[0])>0.7:\n",
    "                        article_dict[article1.get(\"num\")] = article2.get(\"num\")\n",
    "\n",
    "    else:\n",
    "    #title not included in article attri, use sentence similarity instead\n",
    "        for article1 in body1:\n",
    "\n",
    "            text1_embd = model.encode(get_article_text(article1))\n",
    "            text2_list_embd = model.encode([get_article_text(article2) for article2 in body2])\n",
    "            scores = util.cos_sim(text1_embd, text2_list_embd)\n",
    "            maxi = max(scores[0]).item()\n",
    "            print(maxi)\n",
    "\n",
    "            if maxi > 0.7:\n",
    "                index = np.argmax(scores[0])\n",
    "                article_dict[article1.get(\"num\")] = body2[index].get(\"num\")\n",
    "\n",
    "\n",
    "\n",
    "    return article_dict"
   ]
  },
  {
   "cell_type": "markdown",
   "metadata": {},
   "source": [
    "Extract similar sentences from two documents"
   ]
  },
  {
   "cell_type": "code",
   "execution_count": 39,
   "metadata": {},
   "outputs": [],
   "source": [
    "def extract_similar(doc1_path, doc2_path):\n",
    "    ret = []\n",
    "\n",
    "    #First get article alignments insides two documents\n",
    "    article_dict = article_alignment(doc1_path, doc2_path)\n",
    "    doc1, doc2 = ET.parse(doc1_path), ET.parse(doc2_path)\n",
    "    root1, root2 = doc1.getroot(), doc2.getroot()\n",
    "    try:\n",
    "        body1, body2 = root1[1][2], root2[1][2]\n",
    "    except:\n",
    "        return\n",
    "\n",
    "    \n",
    "\n",
    "    \n",
    "    for article1 in body1:\n",
    "        article2_num = article_dict.get(article1.get(\"num\"))\n",
    "        if article2_num:\n",
    "        #if current article have alignment in anthoer document\n",
    "\n",
    "            # print(\"Current document match: \")\n",
    "            # print(article1.get('num') + '   :   ' + article2_num)\n",
    "            article2 = body2.find(\".//div[@num='\" + article2_num + \"']\")\n",
    "            article2_sents = []\n",
    "\n",
    "            for child in article2:\n",
    "                article2_sents.append(child.text)\n",
    "\n",
    "            sentences2_embd = model.encode(article2_sents)\n",
    "\n",
    "            for sentence1 in article1:\n",
    "                sentence1_embd = model.encode(sentence1.text)\n",
    "                scores = util.cos_sim(sentence1_embd, sentences2_embd)\n",
    "                maxi = max(scores[0]).item()\n",
    "\n",
    "                if 0.5 < maxi < 0.95:\n",
    "                    index = np.argmax(scores[0])\n",
    "                    ret.append((sentence1.text, article2[index].text, maxi))\n",
    "                    # print(sentence1.text)\n",
    "                    # print(maxi)\n",
    "                    # print(article2[index].text)\n",
    "                    # print(\"----------------------------------------------------\")\n",
    "    return ret\n"
   ]
  },
  {
   "cell_type": "code",
   "execution_count": 40,
   "metadata": {},
   "outputs": [
    {
     "name": "stdout",
     "output_type": "stream",
     "text": [
      "0.8434820175170898\n"
     ]
    }
   ],
   "source": [
    "\n",
    "start = time.time() \n",
    "diff = extract_similar('data/full data/t1989-9-canada-russian-federation-bit-1989.xml', 'data/full data/t1990-14-canada-czech-republic-bit-1990.xml')\n",
    "end = time.time()\n",
    "print(end - start)"
   ]
  },
  {
   "cell_type": "code",
   "execution_count": 87,
   "metadata": {},
   "outputs": [
    {
     "data": {
      "text/plain": [
       "['a ', ' b ', ' c ', ' d']"
      ]
     },
     "execution_count": 87,
     "metadata": {},
     "output_type": "execute_result"
    }
   ],
   "source": [
    "list(filter(None, '   a . b . c . d   '.strip().split('.')))"
   ]
  },
  {
   "cell_type": "markdown",
   "metadata": {},
   "source": [
    "# 重构了亿小下"
   ]
  },
  {
   "cell_type": "code",
   "execution_count": 94,
   "metadata": {},
   "outputs": [],
   "source": [
    "def elem2sent(article, break_sentence = True):\n",
    "    '''\n",
    "    Break article into sentences. Break sentences with \".\"\n",
    "    article: xml element\n",
    "    '''\n",
    "    ret = []\n",
    "    for child in article:\n",
    "        if break_sentence:\n",
    "            ret.extend(list(filter(None, child.text.strip().split('.'))))\n",
    "        else:\n",
    "            ret.append(child.text)\n",
    "    return ret\n",
    "\n",
    "\n",
    "def get_article_alignment(article_body1, article_body2, title2category, sanity_check = True):\n",
    "    '''\n",
    "    Get article alignment between two documents\n",
    "    article_body: xml element\n",
    "    title2category: dictionary of title to category\n",
    "    sanity_check: use similarity score to check if the alignment is correct\n",
    "    return a dictionary of article alignment\n",
    "    '''\n",
    "    alignment_match = {}\n",
    "\n",
    "    #if both articles attribute includes title\n",
    "    if 'title' in article_body1[0].attrib and 'title' in article_body2[0].attrib:\n",
    "        article_title1 = [(article.get('title').lower(), article.get('num')) for article in article_body1]\n",
    "        article_title2 = [(article.get('title').lower(), article.get('num')) for article in article_body2]\n",
    "        for index1, (title1, num1) in enumerate(article_title1):\n",
    "            for index2, (title2, num2) in enumerate(article_title2):\n",
    "                if title2category[title1] == title2category[title2]:\n",
    "                    #to make sure that they have a high similarity\n",
    "                    if sanity_check and max(util.cos_sim(\n",
    "                        model.encode(''.join(elem2sent(article_body1[index1]))),\n",
    "                        model.encode(''.join(elem2sent(article_body2[index2])))\n",
    "                    )).item() < 0.7:\n",
    "                        continue\n",
    "                    alignment_match[num1] = num2\n",
    "                    break\n",
    "                \n",
    "    #title not included in article attri, use sentence similarity instead\n",
    "    else:\n",
    "        for article1 in article_body1:\n",
    "            text1_embd = model.encode(''.join(elem2sent(article1)))\n",
    "            text2_list_embd = model.encode([''.join(elem2sent(article2)) for article2 in article_body2])\n",
    "            scores = util.cos_sim(text1_embd, text2_list_embd)\n",
    "            if max(scores[0]).item() > 0.7:\n",
    "                index = np.argmax(scores[0])\n",
    "                alignment_match[article1.get('num')] = article_body2[index].get('num')\n",
    "\n",
    "    return alignment_match\n",
    "    \n",
    "\n",
    "def extract_similar_sentences_from_article(article1, article2):\n",
    "    '''\n",
    "    article1, article2: xml element\n",
    "    return: list of similar sentences: (sentence1, sentence2, similarity)\n",
    "    '''\n",
    "    #article1_sents, article2_sents = elem2sent(article1, break_sentence = False), elem2sent(article2, break_sentence = False)\n",
    "    article1_sents, article2_sents = elem2sent(article1), elem2sent(article2)\n",
    "\n",
    "    #Embed article1 and article2\n",
    "    article1_embd, article2_embd = model.encode(article1_sents), model.encode(article2_sents)\n",
    "\n",
    "    #Get similarity between article1 and article2\n",
    "    scores = util.cos_sim(article1_embd, article2_embd)\n",
    "\n",
    "    visited = set() #to make sure that we don't add the same sentence twice\n",
    "\n",
    "    #filter out the sentence with similarity greater than 0.98, this means they are perfect match and no need to compare\n",
    "    identical = (scores > 0.98).to(torch.int64)\n",
    "    for i, j in identical.nonzero().tolist():\n",
    "        visited.add('row' + str(i))\n",
    "        visited.add('col' + str(j))\n",
    "\n",
    "    #filter out the sentences with similarity between 0.5 and 0.98\n",
    "    mask = (scores > 0.5) & (scores < 0.98)\n",
    "    scores *= mask.to(torch.int64) \n",
    "\n",
    "    #get the index of the sentences with similarity between 0.5 and 0.98\n",
    "    sim_pairs = [(scores[i][j], i, j) for i, j in mask.nonzero().tolist()]\n",
    "    sim_pairs.sort(key = lambda x: x[0]) #sort by similarity score\n",
    "    \n",
    "    ret = []\n",
    "    while sim_pairs:\n",
    "        score, i, j = sim_pairs.pop()\n",
    "        if 'row' + str(i) not in visited and 'col' + str(j) not in visited:\n",
    "            ret.append((article1_sents[i], article2_sents[j], scores[i][j].item()))\n",
    "            visited.add('row' + str(i))\n",
    "            visited.add('col' + str(j))\n",
    "\n",
    "    return ret\n",
    "\n",
    "def extract_similar_from_doc(doc1_path, doc2_path, title2category, min_length = 5):\n",
    "    '''\n",
    "    doc_path: path to first document\n",
    "    title2category: dictionary of title to category\n",
    "    '''\n",
    "\n",
    "    try:   \n",
    "        doc1, doc2 = ET.parse(doc1_path), ET.parse(doc2_path)\n",
    "        doc_root1, doc_root2 = doc1.getroot(), doc2.getroot()\n",
    "        doc_body1, doc_body2 = doc_root1[1][2], doc_root2[1][2]\n",
    "    except Exception as e:\n",
    "        print(e); return []\n",
    "    \n",
    "    #get article alignment between two documents\n",
    "    alignment_match = get_article_alignment(doc_body1, doc_body2, title2category)\n",
    "\n",
    "    ret = []\n",
    "    for page1, page2 in alignment_match.items():\n",
    "        article1 = doc_body1.find(\".//div[@num='\" + page1 + \"']\")\n",
    "        article2 = doc_body2.find(\".//div[@num='\" + page2 + \"']\")\n",
    "        ret.extend(extract_similar_sentences_from_article(article1, article2))\n",
    "    \n",
    "    #sort by similarity score\n",
    "    ret.sort(key = lambda x: x[2], reverse = True)\n",
    "    \n",
    "    #filter out the pairs in which both sentences are longer than min_length words and length difference is less than 4 * min_length\n",
    "    ret = [x for x in ret if len(x[0].split()) > min_length and len(x[1].split()) > min_length and abs(len(x[0].split()) - len(x[1].split())) < 4 * min_length]\n",
    "\n",
    "    return ret"
   ]
  },
  {
   "cell_type": "code",
   "execution_count": 95,
   "metadata": {},
   "outputs": [
    {
     "name": "stdout",
     "output_type": "stream",
     "text": [
      "0.5321807861328125\n"
     ]
    }
   ],
   "source": [
    "# model = SentenceTransformer('distilbert-base-nli-mean-tokens')\n",
    "# meta_data_df = pd.read_excel('data/category_configuration_09-08-2022_08-08-01.xlsx', sheet_name = 'article_names_matching')\n",
    "# title2category = dict(zip(meta_data_df[\"Article Title\"], meta_data_df[\"Category 2\"]))\n",
    "start = time.time()\n",
    "diff1 = extract_similar_from_doc(\n",
    "    'data/full data/t1989-9-canada-russian-federation-bit-1989.xml', \n",
    "    'data/full data/t1990-14-canada-czech-republic-bit-1990.xml',\n",
    "    title2category\n",
    ")\n",
    "print(time.time() - start)"
   ]
  },
  {
   "cell_type": "code",
   "execution_count": 96,
   "metadata": {},
   "outputs": [
    {
     "data": {
      "text/plain": [
       "[('(b) The term \"investment\" means any kind of asset invested either directly, or indirectly through an investor of a third State, by an investor of one Contracting Party in the territory of the other Contracting Party and in particular, though not exclusively, shall include:',\n",
       "  '(a) The term \"investment\" means any kind of asset held or invested either directly, or indirectly through an investor of a third State, by an investor of one Contracting Party in the territory of the other Contracting Party in accordance with the latter\\'s laws and, in particular, though not exclusively, includes:',\n",
       "  0.9771180748939514),\n",
       " ('(i) Any movable and immovable property and any related property rights, such as mortgages;',\n",
       "  '(i) Movable and immovable property and any related property rights, such as mortgages, liens or pledges;',\n",
       "  0.9756933450698853),\n",
       " ('Investors of one Contracting Party whose investments or returns in the territory of the other Contracting Party suffer losses owing to war, other armed conflicts, a state of national emergency or other similar circumstances in the territory of the latter shall be accorded, as regards restitution, indemnification, compensation or other settlement, treatment no less favourable than that which the latter Contracting Party grants to investors of any third State. Any payment made under this Article shall be prompt, adequate, effective and freely transferable.',\n",
       "  'Investors of one Contracting Party who suffer losses because their investments or returns on the territory of the other Contracting Party are affected by an armed conflict, a national emergency or civil disturbance on that territory, shall be accorded by such latter Contracting Party in respect of restitution, indemnification, compensation or other settlement, treatment no less favourable than that which it accords to its own investors or to investors of any third State. If possible, any payment made under this Article shall be adequate, effective and made without delay.',\n",
       "  0.9700844883918762),\n",
       " ('(3) This Agreement shall remain in force unless either Contracting Party notifies in writing the other Contracting Party of its intention to terminate it. The notice of termination of this Agreement shall become effective one year after it has been received by the other Contracting Party. In respect of investments made prior to the date when the notice of termination of this Agreement becomes effective, the provisions of Articles I to XIII inclusive of this Agreement shall remain in force for a period of twenty years.',\n",
       "  '(2) This Agreement shall remain in force unless either Contracting Party notifies in writing the other Contracting Party of its intention to terminate it. The notice of termination of this Agreement shall become effective one year after it has been received by the other Contracting Party. In respect of investments made prior to the date when the notice of termination of this Agreement becomes effective, the provisions of Articles I to XIII inclusive of this Agreement shall remain in force for a period of fifteen years.',\n",
       "  0.9692128896713257),\n",
       " ('(4) In addition to the provisions of paragraphs (2) and (3) of this Article, each Contracting Party shall, to the extent possible and in accordance with its laws and regulations, grant to investments or returns of investors of the other Contracting Party a treatment no less favourable than that it grants to investments or returns of its own investors.',\n",
       "  '(4) Each Contracting Party shall, to the extent possible and in accordance with its laws and regulations, grant to investments or returns of investors of the other Contracting Party a treatment no less favourable than that which it grants to investments or returns of its own investors.',\n",
       "  0.9571709632873535),\n",
       " ('(d) The corresponding part of wages and other remuneration accruing to a citizen of that other Contracting Party who was permitted to work in connection with an investment in the territory of the former Contracting Party; and',\n",
       "  '(iii) Wages and other remuneration accruing to a citizen of the other Contracting Party who was permitted to work in connection with an investment in its territory;',\n",
       "  0.955277681350708),\n",
       " ('(2) If the dispute cannot be settled through diplomatic channels, it shall, at the request of either Contracting Party, be submitted to an arbitral tribunal for decision.',\n",
       "  '(2) If the dispute cannot be settled through consultations, it shall, at the request of either Contracting Party, be submitted to an arbitral tribunal for decision.',\n",
       "  0.9543838500976562),\n",
       " ('(a) Any existing or future free trade area or customs union;',\n",
       "  '(a) Any existing or future agreement establishing a free trade area or customs union;',\n",
       "  0.949769139289856),\n",
       " ('Investments or returns of investors of either Contracting Party shall not be nationalized, expropriated or subjected to measures having an effect equivalent to nationalization or expropriation (hereinafter referred to as \"expropriation\") in the territory of the other Contracting Party except for a public purpose, under due process of law, in a non-discriminatory manner and provided that it is accompanied by prompt, adequate and effective compensation. Such compensation shall be based on the real value of the investment at the time of the expropriation, shall be made within two months of the date of expropriation, after which interest at a normal commercial rate shall accrue until the date of payment, be effectively realizable and freely transferable. The investor affected shall have a right, under the law of the Contracting Party making the expropriation, to prompt review by a judicial or other independent authority of that Contracting Party of its case and of the valuation of its investment in accordance with the principles set out in this Article.',\n",
       "  'Investments or returns of investors of either Contracting Party shall not be nationalized, expropriated or subjected to measures having an effect equivalent to nationalization or expropriation (hereinafter referred to as \"expropriation\") in the territory of the other Contracting Party, except for a public purpose, under due process of law, in a non-discriminatory manner and provided that such expropriation is accompanied by prompt, adequate and effective compensation. Such compensation shall be based on the real value of the investment at the time of the expropriation, shall be payable from the date of expropriation at a normal commercial rate of interest, shall be paid without delay and shall be effectively realizable and freely transferable. The investor affected shall have a right, under the law of the Contracting Party making the expropriation, to prompt review, by a judicial or other independent authority of that Party, of its case and of the valuation of its investment in accordance with the principles set out in this Article.',\n",
       "  0.9364751577377319),\n",
       " ('Provided that such natural person, corporation, partnership, trust, joint venture, organization, association or enterprise has the legal right, in accordance with the laws of that Contracting Party, to make investments in the territory of the other Contracting Party.',\n",
       "  'Provided that such investor has the right, in accordance with the laws of the Contracting Party, to invest in the territory of the other Contracting Party.',\n",
       "  0.9356868267059326),\n",
       " ('(a) The term \"territory\" means the territory of Canada or the territory of the Union of Soviet Socialist Republics respectively, as well as those maritime areas, including the seabed and subsoil adjacent to the outer limit of the territorial sea of either of the above territories, over which the State concerned exercises, in accordance with international law, sovereign rights for the purpose of exploration and exploitation of the natural resources of such areas;',\n",
       "  '(i) In respect of Canada, the territory of Canada, as well as those maritime areas, including the seabed and subsoil adjacent to the outer limit of the territorial sea, over which Canada exercises, in accordance with international law, sovereign rights for the purpose of exploration and exploitation of the natural resources of such areas;',\n",
       "  0.9311113357543945),\n",
       " ('(1) Any dispute between the Contracting Parties concerning the interpretation or application of this Agreement shall, whenever possible, be settled through diplomatic channels.',\n",
       "  '(1) Any dispute between the Contracting Parties concerning the interpretation or application of this Agreement shall, whenever possible, be settled amicably through consultations.',\n",
       "  0.8883911371231079),\n",
       " ('(d) Any existing or future convention relating to double taxation or other fiscal matters.',\n",
       "  '(d) Any existing or future convention relating to taxation.',\n",
       "  0.8882091045379639),\n",
       " ('(3) In that case, the dispute shall then be settled in conformity with the Arbitration Rules of the United Nations Commission on International Trade Law , as adopted in Resolution 31/98 of the United Nations General Assembly on 15 December 1976.',\n",
       "  '(3) In that case, the dispute shall then be settled in conformity with the Arbitration Rules of the United Nations Commission on International Trade Law, as then in force.Arbitration Rules of the United Nations Commission on International Trade Law, as then in force.',\n",
       "  0.8855403661727905),\n",
       " ('(1) This Agreement shall enter into force on the day the two Contracting Parties notify each other in writing that their constitutional requirements for the entry into force of this Agreement have been fulfilled.',\n",
       "  '(1) Each Contracting Party shall notify the other in writing of the completion of the constitutional formalities required in its territory for the entry into force of this Agreement. This Agreement shall enter into force on the date of the latter of the two notifications.',\n",
       "  0.8837542533874512)]"
      ]
     },
     "execution_count": 96,
     "metadata": {},
     "output_type": "execute_result"
    }
   ],
   "source": [
    "diff1"
   ]
  },
  {
   "cell_type": "code",
   "execution_count": 75,
   "metadata": {},
   "outputs": [],
   "source": [
    "diff2 = extract_similar_from_doc(\n",
    "    'data/full data/t1995-139-hong-kong-china-sar-italy-bit-1995.xml',\n",
    "    'data/full data/t1995-140-hong-kong-china-sar-new-zealand-bit-1995.xml',\n",
    "    title2category\n",
    ")"
   ]
  },
  {
   "cell_type": "code",
   "execution_count": 77,
   "metadata": {},
   "outputs": [
    {
     "data": {
      "text/plain": [
       "[('(a) In respect of Hong Kong, the armed forces of the sovereign government which is responsible for its foreign affairs;',\n",
       "  '(i) In respect of Hong Kong, the armed forces of the Government of the sovereign State which is responsible for foreign affairs relating to Hong Kong;',\n",
       "  0.9781162738800049),\n",
       " ('(7) \"returns\" means the amounts yielded by an investment and in particular, though not exclusively, includes profit, interest, capital gains, dividends, royalties and fees or payment for assistance and technical services.',\n",
       "  '6. \"returns\" means the amounts yielded by an investment and in particular, though not exclusively, includes profit, earnings, interest, capital gains, dividends, royalties, proceeds of liquidation, loan repayments and fees.',\n",
       "  0.9767873287200928),\n",
       " ('Shall be accorded restitution or reasonable compensation. Resulting payments shall be freely convertible.',\n",
       "  'Shall be accorded restitution or reasonable compensation. Resulting payments shall be in a freely convertible currency.',\n",
       "  0.9560486674308777),\n",
       " ('(c) Claims to money or other assets or to any performance under contract having a financial value;',\n",
       "  '(iii) Claims to money or to any performance under contract having financial value;',\n",
       "  0.9487525224685669),\n",
       " ('(b) Shares in and stock, bonds and debentures of a company and rights derived therefrom and any other form of participation in a company including a joint venture;',\n",
       "  '(ii) Shares in and stock and debentures of a company and any similar form of participation in a company;',\n",
       "  0.9351612329483032),\n",
       " ('(1) If one Contracting Party or its designated Agency makes a payment under, an indemnity given in respect of an investment in the area of the other Contracting Party, the latter Contracting Party shall recognise the assignment to the former Contracting Party or its designated Agency by law or by legal transaction of all the rights and claims of the indemnified investor and that the former Contracting Party or its designated Agency is entitled to exercise such rights and enforce such claims by virtue of subrogation, to the same extent as that investor.',\n",
       "  '1. In the event that either Contracting Party (or any agency, institution, statutory body or corporation designated by it) as a result of an indemnity it has given in respect of an investment or any part thereof makes payment to its own investors in respect of any of their claims under this Agreement, the other Contracting Party acknowledges that the former Contracting Party (or any agency, institution, statutory body or corporation designated by it) is entitled by virtue of subrogation to exercise the rights and assert the claims of the investors that it has indemnified. The subrogated right or claim shall not be greater than the original right or claim of the said investors.',\n",
       "  0.8958951830863953),\n",
       " ('(8) The decision of the tribunal shall be binding on the Contracting Parties.',\n",
       "  '7. The decision of the tribunal shall be final and binding on the Contracting Parties.',\n",
       "  0.8837606906890869),\n",
       " ('(4) \"freely convertible\" means free of all currency exchange controls and transferable abroad in any currency;',\n",
       "  '4. \"Freely convertible currency\" means a fully and freely convertible currency as identified by the International Monetary Fund or a currency that is widely traded in international foreign exchange markets;',\n",
       "  0.862277626991272),\n",
       " ('(5) \"investment\" means every kind of asset, held or invested directly or indirectly, and in particular, though not exclusively includes:',\n",
       "  '5. \"investment\" means every kind of asset which has been invested in accordance with the laws of the Contracting Party receiving it and in particular, though not exclusively, includes:',\n",
       "  0.8620107173919678),\n",
       " ('A change in the form in which assets are invested does not affect their character as investments;',\n",
       "  'A change in the form in which assets are invested does not affect their character as investments, provided that the assets continue to be invested in accordance with the laws and regulations of the Contracting Party receiving them;',\n",
       "  0.8579736948013306),\n",
       " ('(1) Each Contracting Party shall in respect of investments guarantee to investors of the other Contracting Party the unrestricted right to transfer their investments and returns abroad. This right shall not relieve investors of their obligation to pay taxes.',\n",
       "  '1. Each Contracting Party shall in respect of investments guarantee to investors of the other Contracting Party the right to transfer their investments and returns abroad, in accordance with its laws and regulations, and on a non-discriminatory basis.',\n",
       "  0.8447012305259705),\n",
       " ('(3) This Agreement shall not prevent an investor of one Contracting Party from taking advantage of any law of the other Contracting Party or any other obligations between the Contracting Parties which are more favourable than the provisions of this Agreement.',\n",
       "  '1. Neither Contracting Party shall in its area subject investments or returns of investors of the other Contracting Party to treatment less favourable than that which it accords to investments or returns of investors of any other State or, subject to its laws and regulations, that which it accords to investments or returns of its own investors.',\n",
       "  0.8366926312446594),\n",
       " ('(a) In respect of Hong Kong: corporations, partnerships and associations incorporated or constituted under the law in force in its area;',\n",
       "  '(ii) Corporations, partnerships and associations or other legally recognised entities incorporated or constituted or otherwise duly organised under the law in force in its area, (hereinafter referred to as \"companies\");',\n",
       "  0.8130531311035156),\n",
       " ('(2) The provisions of Article 3 do not apply to any advantages or privileges which one Contracting Party grants or may grant at some future time to any other State by virtue of its membership in customs or economic unions, common market associations, free trade areas, regional or subregional agreements, International multilateral economic agreements, or agreements entered into in order to prevent double taxation or to facilitate cross-border trade.',\n",
       "  '2. The provisions of this Agreement shall not apply to matters of taxation in the area of either Contracting Party. Such matters shall be governed by the domestic laws of each Contracting Party and the terms of any agreement relating to taxation concluded between the Contracting Parties.',\n",
       "  0.7972756028175354),\n",
       " ('(d) Rights in the Field of intellectual property, technical processes, goodwill and know-how;',\n",
       "  '(iv) Copyright, intellectual property rights (such as patents for inventions, trade marks, industrial design), know-how, technical processes, trade names and goodwill;',\n",
       "  0.7905836701393127),\n",
       " ('(2) Each Contracting Party shall in its area accord investors of the other Contracting Party, as regards their management, maintenance, use, enjoyment or disposal of their investments, treatment not less favourable than that which it accords to its own investors or to investors of any other State, whichever is more favourable to the investor concerned.',\n",
       "  '2. Neither Contracting Party shall in its area subject investors of the other Contracting Party. as regards their management, maintenance, use, enjoyment or disposal of their investments, to treatment less favourable than that which it accords to investors of any other State or, subject to its laws and regulations, that which it accords to investments or returns of its own investors.',\n",
       "  0.7742043733596802),\n",
       " ('(2) In respect of investments made before the date of the termination of the present Agreement the provisions thereof shall continue to be effective for a further period of fifteen years from that date.',\n",
       "  'This Agreement shall enter into force thirty days after the date on which the Parties have notified each other in writing that their respective requirements for the entry into force of this Agreement have been complied with.',\n",
       "  0.7092261910438538),\n",
       " ('(b) In respect of the Italian Republic means, in addition to the areas lying within the land boundaries, the maritime zones over which the Italian Republic has sovereignty or exercise sovereign or jurisdictional rights in accordance with international law;',\n",
       "  \"(b) In respect of New Zealand includes the territorial sea, exclusive economic zone and continental shelf where it exercises its sovereignty' sovereign rights or jurisdiction in accordance with international law;\",\n",
       "  0.7035313844680786),\n",
       " ('(i) Physical persons who are its nationals;',\n",
       "  '(i) Persons who are New Zealand citizens or permanent residents in accordance with the laws of New Zealand;',\n",
       "  0.6783398389816284),\n",
       " ('(b) In respect of the Italian Republic, Italian armed forces;',\n",
       "  '(ii) In respect of New Zealand, the New Zealand armed forces;',\n",
       "  0.6224451065063477),\n",
       " ('(b) In respect of the Italian Republic:',\n",
       "  '(b) In respect of New Zealand,',\n",
       "  0.6048754453659058),\n",
       " ('(2) The former Contracting Party or its designated Agency shall be entitled in all circumstances to the same treatment in respect of the rights and claims acquired by it by virtue of the assignment and any payments received in pursuance of those rights and claims as the indemnified investor was entitled to receive by virtue of this Agreement in respect of the investment concerned and its related returns.',\n",
       "  '2. Any payment made by one Contracting Party (or any agency, institution, statutory body or corporation designated by it) to its investors shall not affect the right of such investors to make their claims against the other Contracting Party in accordance with Article 9, in cases where the former Contracting Party elects not to exercise its subrogated rights or claims.',\n",
       "  0.5947314500808716)]"
      ]
     },
     "execution_count": 77,
     "metadata": {},
     "output_type": "execute_result"
    }
   ],
   "source": [
    "diff2"
   ]
  },
  {
   "cell_type": "code",
   "execution_count": 61,
   "metadata": {},
   "outputs": [
    {
     "name": "stdout",
     "output_type": "stream",
     "text": [
      "tensor([[0.9706]])\n"
     ]
    }
   ],
   "source": [
    "s1 = '(5) The arbitral tribunal shall reach its decision by a majority of votes. Such decision shall be binding on both Contracting Parties. Unless otherwise agreed, the decision of the arbitral tribunal shall be rendered within six months of the appointment of the Chairman in accordance with paragraph (3) or (4) of this Article. The arbitral tribunal shall determine its own procedure. Each Contracting Party shall bear the costs of its own member of the tribunal and of its representation in the arbitral proceedings; the costs related to the Chairman and any remaining costs shall be borne equally by the Contracting Parties. The arbitral tribunal may, however, in its decision direct that a higher proportion of costs shall be borne by one of the two Contracting Parties, and this award shall be binding on both Contracting Parties.'\n",
    "s2 = '(5) The arbitral tribunal shall determine its own procedure. The arbitral tribunal shall reach its decision by a majority of votes. Such decision shall be binding on both Contracting Parties. Unless otherwise agreed, the decision of the arbitral tribunal shall be rendered within six months of the appointment of the Chairman in accordance with paragraph (3) or (4) of this Article.'\n",
    "\n",
    "print(util.cos_sim(model.encode([s1]), model.encode([s2])))"
   ]
  },
  {
   "cell_type": "code",
   "execution_count": null,
   "metadata": {},
   "outputs": [],
   "source": []
  }
 ],
 "metadata": {
  "kernelspec": {
   "display_name": "Python 3.8.13 ('legal')",
   "language": "python",
   "name": "python3"
  },
  "language_info": {
   "codemirror_mode": {
    "name": "ipython",
    "version": 3
   },
   "file_extension": ".py",
   "mimetype": "text/x-python",
   "name": "python",
   "nbconvert_exporter": "python",
   "pygments_lexer": "ipython3",
   "version": "3.8.13"
  },
  "orig_nbformat": 4,
  "vscode": {
   "interpreter": {
    "hash": "06852cdbcf28824f4856c911260dff4aa3407a086ba977abbb1a931f2b398117"
   }
  }
 },
 "nbformat": 4,
 "nbformat_minor": 2
}
