{
 "cells": [
  {
   "cell_type": "code",
   "execution_count": 1,
   "metadata": {},
   "outputs": [],
   "source": [
    "import pandas as pd\n",
    "import torch\n",
    "from transformers import AutoTokenizer, AutoModelForSequenceClassification\n",
    "from sentence_transformers import SentenceTransformer, util\n",
    "import xml.etree.ElementTree as ET\n",
    "import numpy as np"
   ]
  },
  {
   "cell_type": "markdown",
   "metadata": {},
   "source": [
    "Get article mapping to achieve article alignment"
   ]
  },
  {
   "cell_type": "code",
   "execution_count": 3,
   "metadata": {},
   "outputs": [
    {
     "data": {
      "text/plain": [
       "'Non-derogation'"
      ]
     },
     "execution_count": 3,
     "metadata": {},
     "output_type": "execute_result"
    }
   ],
   "source": [
    "df = pd.read_excel('data/category_configuration_09-08-2022_08-08-01.xlsx', sheet_name = 'article_names_matching')\n",
    "title_dict = dict(zip(df[\"Article Title\"], df[\"Category 2\"]))\n",
    "title_dict.get(\"application\")"
   ]
  },
  {
   "cell_type": "markdown",
   "metadata": {},
   "source": [
    "Help functions to get article alignments"
   ]
  },
  {
   "cell_type": "code",
   "execution_count": 48,
   "metadata": {},
   "outputs": [],
   "source": [
    "def get_article_text(article):\n",
    "    \n",
    "    text = \"\"\n",
    "\n",
    "    for child in article:\n",
    "        text += \" \"+child.text\n",
    "    \n",
    "    return text\n",
    "\n",
    "def article_alignment(doc1_path, doc2_path):\n",
    "\n",
    "    doc1, doc2 = ET.parse(doc1_path), ET.parse(doc2_path)\n",
    "    root1, root2 = doc1.getroot(), doc2.getroot()\n",
    "    try:\n",
    "        body1, body2 = root1[1][2], root2[1][2]\n",
    "    except:\n",
    "        return\n",
    "    num_pages = max(len(root1[1][2]), len(root2[1][2]))\n",
    "    model = SentenceTransformer('distilbert-base-nli-mean-tokens')\n",
    "    #model = AutoModelForSequenceClassification.from_pretrained(\"roberta-large-mnli\")\n",
    "    article_dict = {}\n",
    "\n",
    "    #if False:\n",
    "    if \"title\" in body1[0].attrib and \"title\" in body2[0].attrib:\n",
    "    #title included in article attri\n",
    "        for article1 in body1:\n",
    "\n",
    "            \n",
    "\n",
    "            for article2 in body2:\n",
    "\n",
    "                title1 = article1.get(\"title\")\n",
    "                title2 = article2.get(\"title\")\n",
    "\n",
    "                if title_dict.get(title1.lower()) == title_dict.get(title2.lower()):\n",
    "\n",
    "                    text1_embd = model.encode(get_article_text(article1))\n",
    "                    text2_embd = model.encode(get_article_text(article2))\n",
    "                    scores = util.cos_sim(text1_embd, text2_embd)\n",
    "\n",
    "                    if max(scores[0])>0.7:\n",
    "                        article_dict[article1.get(\"num\")] = article2.get(\"num\")\n",
    "\n",
    "    else:\n",
    "    #title not included in article attri, use sentence similarity instead\n",
    "\n",
    "        for article1 in body1:\n",
    "            \n",
    "            text1_embd = model.encode(get_article_text(article1))\n",
    "            text2_list_embd = model.encode([get_article_text(article2) for article2 in body2])\n",
    "            scores = util.cos_sim(text1_embd, text2_list_embd)\n",
    "            maxi = max(scores[0])\n",
    "            print(maxi)\n",
    "\n",
    "            if maxi > 0.7:\n",
    "\n",
    "                index = np.argmax(scores[0])\n",
    "                article_dict[article1.get(\"num\")] = body2[index].get(\"num\")\n",
    "\n",
    "\n",
    "\n",
    "    return article_dict"
   ]
  },
  {
   "cell_type": "markdown",
   "metadata": {},
   "source": [
    "Extract similar sentences from two documents"
   ]
  },
  {
   "cell_type": "code",
   "execution_count": 61,
   "metadata": {},
   "outputs": [],
   "source": [
    "def extract_similar(doc1_path, doc2_path):\n",
    "\n",
    "    #First get article alignments insides two documents\n",
    "    article_dict = article_alignment(doc1_path, doc2_path)\n",
    "    doc1, doc2 = ET.parse(doc1_path), ET.parse(doc2_path)\n",
    "    root1, root2 = doc1.getroot(), doc2.getroot()\n",
    "    try:\n",
    "        body1, body2 = root1[1][2], root2[1][2]\n",
    "    except:\n",
    "        return\n",
    "    num_pages = max(len(root1[1][2]), len(root2[1][2]))\n",
    "    model = SentenceTransformer('distilbert-base-nli-mean-tokens')\n",
    "\n",
    "    for article1 in body1:\n",
    "\n",
    "        article2_num = article_dict.get(article1.get(\"num\"))\n",
    "        if article2_num:\n",
    "        #if current article have alignment in anthoer document\n",
    "\n",
    "            print(\"Current document match: \")\n",
    "            print(article1.get('num') + '   :   ' + article2_num)\n",
    "            article2 = body2.find(\".//div[@num='\" + article2_num + \"']\")\n",
    "            article2_sents = []\n",
    "\n",
    "            for child in article2:\n",
    "\n",
    "                article2_sents.append(child.text)\n",
    "\n",
    "            sentences2_embd = model.encode(article2_sents)\n",
    "\n",
    "            for sentence1 in article1:\n",
    "                \n",
    "                sentence1_embd = model.encode(sentence1.text)\n",
    "                scores = util.cos_sim(sentence1_embd, sentences2_embd)\n",
    "                maxi = max(scores[0]).item()\n",
    "\n",
    "                if maxi < 0.95:\n",
    "                    index = np.argmax(scores[0])\n",
    "                    print(sentence1.text)\n",
    "                    print(maxi)\n",
    "                    print(article2[index].text)\n",
    "                    print(\"//////////////////////////////////////////////////////////////\")\n",
    "            \n",
    "            \n",
    "\n",
    "\n",
    "\n",
    "    \n",
    "\n"
   ]
  },
  {
   "cell_type": "code",
   "execution_count": 62,
   "metadata": {},
   "outputs": [
    {
     "name": "stdout",
     "output_type": "stream",
     "text": [
      "Current document match: \n",
      "I   :   I\n",
      "(a) The term \"territory\" means the territory of Canada or the territory of the Union of Soviet Socialist Republics respectively, as well as those maritime areas, including the seabed and subsoil adjacent to the outer limit of the territorial sea of either of the above territories, over which the State concerned exercises, in accordance with international law, sovereign rights for the purpose of exploration and exploitation of the natural resources of such areas;\n",
      "0.9311110973358154\n",
      "(i) In respect of Canada, the territory of Canada, as well as those maritime areas, including the seabed and subsoil adjacent to the outer limit of the territorial sea, over which Canada exercises, in accordance with international law, sovereign rights for the purpose of exploration and exploitation of the natural resources of such areas;\n",
      "//////////////////////////////////////////////////////////////\n",
      "(d) The term \"investor\" means with regard to either Contracting Party:\n",
      "0.9142019748687744\n",
      "(b) The term \"investor\" means:\n",
      "//////////////////////////////////////////////////////////////\n",
      "Provided that such natural person, corporation, partnership, trust, joint venture, organization, association or enterprise has the legal right, in accordance with the laws of that Contracting Party, to make investments in the territory of the other Contracting Party.\n",
      "0.9356870651245117\n",
      "Provided that such investor has the right, in accordance with the laws of the Contracting Party, to invest in the territory of the other Contracting Party.\n",
      "//////////////////////////////////////////////////////////////\n",
      "Current document match: \n",
      "II   :   II\n",
      "Current document match: \n",
      "III   :   III\n",
      "Current document match: \n",
      "IV   :   IV\n",
      "(a) Any existing or future free trade area or customs union;\n",
      "0.9497690200805664\n",
      "(a) Any existing or future agreement establishing a free trade area or customs union;\n",
      "//////////////////////////////////////////////////////////////\n",
      "(d) Any existing or future convention relating to double taxation or other fiscal matters.\n",
      "0.8882096409797668\n",
      "(d) Any existing or future convention relating to taxation.\n",
      "//////////////////////////////////////////////////////////////\n",
      "Current document match: \n",
      "V   :   V\n",
      "Current document match: \n",
      "VI   :   VI\n",
      "Investments or returns of investors of either Contracting Party shall not be nationalized, expropriated or subjected to measures having an effect equivalent to nationalization or expropriation (hereinafter referred to as \"expropriation\") in the territory of the other Contracting Party except for a public purpose, under due process of law, in a non-discriminatory manner and provided that it is accompanied by prompt, adequate and effective compensation. Such compensation shall be based on the real value of the investment at the time of the expropriation, shall be made within two months of the date of expropriation, after which interest at a normal commercial rate shall accrue until the date of payment, be effectively realizable and freely transferable. The investor affected shall have a right, under the law of the Contracting Party making the expropriation, to prompt review by a judicial or other independent authority of that Contracting Party of its case and of the valuation of its investment in accordance with the principles set out in this Article.\n",
      "0.9364748001098633\n",
      "Investments or returns of investors of either Contracting Party shall not be nationalized, expropriated or subjected to measures having an effect equivalent to nationalization or expropriation (hereinafter referred to as \"expropriation\") in the territory of the other Contracting Party, except for a public purpose, under due process of law, in a non-discriminatory manner and provided that such expropriation is accompanied by prompt, adequate and effective compensation. Such compensation shall be based on the real value of the investment at the time of the expropriation, shall be payable from the date of expropriation at a normal commercial rate of interest, shall be paid without delay and shall be effectively realizable and freely transferable. The investor affected shall have a right, under the law of the Contracting Party making the expropriation, to prompt review, by a judicial or other independent authority of that Party, of its case and of the valuation of its investment in accordance with the principles set out in this Article.\n",
      "//////////////////////////////////////////////////////////////\n",
      "Current document match: \n",
      "VII   :   VII\n",
      "(1) Each Contracting Party shall guarantee to any investor of the other Contracting Party the prompt transfer of, in particular:\n",
      "0.9111753702163696\n",
      "(1) Each Contracting Party shall guarantee to an investor of the other Contracting Party the unrestricted transfer of investments and returns. Without limiting the generality of the foregoing, each Contracting Party shall also guarantee to the investor the unrestricted transfer of:\n",
      "//////////////////////////////////////////////////////////////\n",
      "(a) The returns accruing from any investment;\n",
      "0.7781624794006348\n",
      "(i) Funds in repayment of loans related to an investment;\n",
      "//////////////////////////////////////////////////////////////\n",
      "In any convertible currency agreed upon between the investor and the Contracting Party concerned at the exchange rate on the day of the transfer.\n",
      "0.8593829274177551\n",
      "(2) Transfers shall be effected without delay in the convertible currency in which the capital was originally invested or in any other convertible currency agreed by the investor and the Contracting Party concerned. Unless otherwise agreed by the investor, transfers shall be made at the rate of the exchange applicable on the date of transfer.\n",
      "//////////////////////////////////////////////////////////////\n",
      "For the purpose of this paragraph, prompt transfer means transfer on a pro rata basis within a period not exceeding two years.\n",
      "0.580418586730957\n",
      "(2) Transfers shall be effected without delay in the convertible currency in which the capital was originally invested or in any other convertible currency agreed by the investor and the Contracting Party concerned. Unless otherwise agreed by the investor, transfers shall be made at the rate of the exchange applicable on the date of transfer.\n",
      "//////////////////////////////////////////////////////////////\n",
      "(2) In cases where exceptional balance of payments difficulties exist, and then for a period not exceeding eighteen months, the Contracting Party shall guarantee the transfer of any amount mentioned in paragraph (1) of this Article on a pro rata basis, provided that the total period for the transfer does not exceed five years.\n",
      "0.6819548606872559\n",
      "(2) Transfers shall be effected without delay in the convertible currency in which the capital was originally invested or in any other convertible currency agreed by the investor and the Contracting Party concerned. Unless otherwise agreed by the investor, transfers shall be made at the rate of the exchange applicable on the date of transfer.\n",
      "//////////////////////////////////////////////////////////////\n",
      "(3) The Contracting Parties undertake to accord to transfers referred to in paragraph (1) of this Article a treatment no less favourable than that accorded to transfers originating from investments made by investors of any third State.\n",
      "0.710134744644165\n",
      "(iii) Wages and other remuneration accruing to a citizen of the other Contracting Party who was permitted to work in connection with an investment in its territory;\n",
      "//////////////////////////////////////////////////////////////\n",
      "Current document match: \n",
      "VIII   :   VIII\n",
      "Current document match: \n",
      "IX   :   IX\n",
      "(3) In that case, the dispute shall then be settled in conformity with the Arbitration Rules of the United Nations Commission on International Trade Law , as adopted in Resolution 31/98 of the United Nations General Assembly on 15 December 1976.\n",
      "0.8855404853820801\n",
      "(3) In that case, the dispute shall then be settled in conformity with the Arbitration Rules of the United Nations Commission on International Trade Law, as then in force.Arbitration Rules of the United Nations Commission on International Trade Law, as then in force.\n",
      "//////////////////////////////////////////////////////////////\n",
      "Current document match: \n",
      "X   :   X\n",
      "Current document match: \n",
      "XI   :   XI\n",
      "(1) Any dispute between the Contracting Parties concerning the interpretation or application of this Agreement shall, whenever possible, be settled through diplomatic channels.\n",
      "0.8883917331695557\n",
      "(1) Any dispute between the Contracting Parties concerning the interpretation or application of this Agreement shall, whenever possible, be settled amicably through consultations.\n",
      "//////////////////////////////////////////////////////////////\n",
      "Current document match: \n"
     ]
    },
    {
     "ename": "TypeError",
     "evalue": "can only concatenate str (not \"NoneType\") to str",
     "output_type": "error",
     "traceback": [
      "\u001b[1;31m---------------------------------------------------------------------------\u001b[0m",
      "\u001b[1;31mTypeError\u001b[0m                                 Traceback (most recent call last)",
      "\u001b[1;32m~\\AppData\\Local\\Temp/ipykernel_31848/2871177166.py\u001b[0m in \u001b[0;36m<module>\u001b[1;34m\u001b[0m\n\u001b[1;32m----> 1\u001b[1;33m \u001b[0mextract_similar\u001b[0m\u001b[1;33m(\u001b[0m\u001b[1;34m'data/full data/t1989-9-canada-russian-federation-bit-1989.xml'\u001b[0m\u001b[1;33m,\u001b[0m \u001b[1;34m'data/full data/t1990-14-canada-czech-republic-bit-1990.xml'\u001b[0m\u001b[1;33m)\u001b[0m\u001b[1;33m\u001b[0m\u001b[1;33m\u001b[0m\u001b[0m\n\u001b[0m",
      "\u001b[1;32m~\\AppData\\Local\\Temp/ipykernel_31848/970553762.py\u001b[0m in \u001b[0;36mextract_similar\u001b[1;34m(doc1_path, doc2_path)\u001b[0m\n\u001b[0;32m     16\u001b[0m         \u001b[0marticle2_num\u001b[0m \u001b[1;33m=\u001b[0m \u001b[0marticle_dict\u001b[0m\u001b[1;33m.\u001b[0m\u001b[0mget\u001b[0m\u001b[1;33m(\u001b[0m\u001b[0marticle1\u001b[0m\u001b[1;33m.\u001b[0m\u001b[0mget\u001b[0m\u001b[1;33m(\u001b[0m\u001b[1;34m\"num\"\u001b[0m\u001b[1;33m)\u001b[0m\u001b[1;33m)\u001b[0m\u001b[1;33m\u001b[0m\u001b[1;33m\u001b[0m\u001b[0m\n\u001b[0;32m     17\u001b[0m         \u001b[0mprint\u001b[0m\u001b[1;33m(\u001b[0m\u001b[1;34m\"Current document match: \"\u001b[0m\u001b[1;33m)\u001b[0m\u001b[1;33m\u001b[0m\u001b[1;33m\u001b[0m\u001b[0m\n\u001b[1;32m---> 18\u001b[1;33m         \u001b[0mprint\u001b[0m\u001b[1;33m(\u001b[0m\u001b[0marticle1\u001b[0m\u001b[1;33m.\u001b[0m\u001b[0mget\u001b[0m\u001b[1;33m(\u001b[0m\u001b[1;34m'num'\u001b[0m\u001b[1;33m)\u001b[0m \u001b[1;33m+\u001b[0m \u001b[1;34m'   :   '\u001b[0m \u001b[1;33m+\u001b[0m \u001b[0marticle2_num\u001b[0m\u001b[1;33m)\u001b[0m\u001b[1;33m\u001b[0m\u001b[1;33m\u001b[0m\u001b[0m\n\u001b[0m\u001b[0;32m     19\u001b[0m         \u001b[1;32mif\u001b[0m \u001b[0marticle2_num\u001b[0m\u001b[1;33m:\u001b[0m\u001b[1;33m\u001b[0m\u001b[1;33m\u001b[0m\u001b[0m\n\u001b[0;32m     20\u001b[0m         \u001b[1;31m#if current article have alignment in anthoer document\u001b[0m\u001b[1;33m\u001b[0m\u001b[1;33m\u001b[0m\u001b[1;33m\u001b[0m\u001b[0m\n",
      "\u001b[1;31mTypeError\u001b[0m: can only concatenate str (not \"NoneType\") to str"
     ]
    }
   ],
   "source": [
    "extract_similar('data/full data/t1989-9-canada-russian-federation-bit-1989.xml', 'data/full data/t1990-14-canada-czech-republic-bit-1990.xml')"
   ]
  },
  {
   "cell_type": "markdown",
   "metadata": {},
   "source": [
    "fair and equitable treatment\n"
   ]
  }
 ],
 "metadata": {
  "kernelspec": {
   "display_name": "Python 3.8.10 64-bit (windows store)",
   "language": "python",
   "name": "python3"
  },
  "language_info": {
   "codemirror_mode": {
    "name": "ipython",
    "version": 3
   },
   "file_extension": ".py",
   "mimetype": "text/x-python",
   "name": "python",
   "nbconvert_exporter": "python",
   "pygments_lexer": "ipython3",
   "version": "3.8.10"
  },
  "orig_nbformat": 4,
  "vscode": {
   "interpreter": {
    "hash": "b81ca590b271799da31fa16a2fc68bc63207c343351f0c305987a9f4f18afaa3"
   }
  }
 },
 "nbformat": 4,
 "nbformat_minor": 2
}
