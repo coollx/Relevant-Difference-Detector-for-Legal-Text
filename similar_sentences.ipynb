{
 "cells": [
  {
   "cell_type": "code",
   "execution_count": 1,
   "metadata": {},
   "outputs": [],
   "source": [
    "import pandas as pd\n",
    "import torch\n",
    "from transformers import AutoTokenizer, AutoModelForSequenceClassification\n",
    "from sentence_transformers import SentenceTransformer, util\n",
    "import xml.etree.ElementTree as ET\n",
    "import numpy as np"
   ]
  },
  {
   "cell_type": "markdown",
   "metadata": {},
   "source": [
    "Get article mapping to achieve article alignment"
   ]
  },
  {
   "cell_type": "code",
   "execution_count": 3,
   "metadata": {},
   "outputs": [
    {
     "data": {
      "text/plain": [
       "'Non-derogation'"
      ]
     },
     "execution_count": 3,
     "metadata": {},
     "output_type": "execute_result"
    }
   ],
   "source": [
    "df = pd.read_excel('data/category_configuration_09-08-2022_08-08-01.xlsx', sheet_name = 'article_names_matching')\n",
    "title_dict = dict(zip(df[\"Article Title\"], df[\"Category 2\"]))\n",
    "title_dict.get(\"application\")"
   ]
  },
  {
   "cell_type": "markdown",
   "metadata": {},
   "source": [
    "Help functions to get article alignments"
   ]
  },
  {
   "cell_type": "code",
   "execution_count": 48,
   "metadata": {},
   "outputs": [],
   "source": [
    "def get_article_text(article):\n",
    "    \n",
    "    text = \"\"\n",
    "\n",
    "    for child in article:\n",
    "        text += \" \"+child.text\n",
    "    \n",
    "    return text\n",
    "\n",
    "def article_alignment(doc1_path, doc2_path):\n",
    "\n",
    "    doc1, doc2 = ET.parse(doc1_path), ET.parse(doc2_path)\n",
    "    root1, root2 = doc1.getroot(), doc2.getroot()\n",
    "    try:\n",
    "        body1, body2 = root1[1][2], root2[1][2]\n",
    "    except:\n",
    "        return\n",
    "    num_pages = max(len(root1[1][2]), len(root2[1][2]))\n",
    "    model = SentenceTransformer('distilbert-base-nli-mean-tokens')\n",
    "    #model = AutoModelForSequenceClassification.from_pretrained(\"roberta-large-mnli\")\n",
    "    article_dict = {}\n",
    "\n",
    "    #if False:\n",
    "    if \"title\" in body1[0].attrib and \"title\" in body2[0].attrib:\n",
    "    #title included in article attri\n",
    "        for article1 in body1:\n",
    "\n",
    "            \n",
    "\n",
    "            for article2 in body2:\n",
    "\n",
    "                title1 = article1.get(\"title\")\n",
    "                title2 = article2.get(\"title\")\n",
    "\n",
    "                if title_dict.get(title1.lower()) == title_dict.get(title2.lower()):\n",
    "\n",
    "                    text1_embd = model.encode(get_article_text(article1))\n",
    "                    text2_embd = model.encode(get_article_text(article2))\n",
    "                    scores = util.cos_sim(text1_embd, text2_embd)\n",
    "\n",
    "                    if max(scores[0])>0.7:\n",
    "                        article_dict[article1.get(\"num\")] = article2.get(\"num\")\n",
    "\n",
    "    else:\n",
    "    #title not included in article attri, use sentence similarity instead\n",
    "\n",
    "        for article1 in body1:\n",
    "            \n",
    "            text1_embd = model.encode(get_article_text(article1))\n",
    "            text2_list_embd = model.encode([get_article_text(article2) for article2 in body2])\n",
    "            scores = util.cos_sim(text1_embd, text2_list_embd)\n",
    "            maxi = max(scores[0])\n",
    "            print(maxi)\n",
    "\n",
    "            if maxi > 0.7:\n",
    "\n",
    "                index = np.argmax(scores[0])\n",
    "                article_dict[article1.get(\"num\")] = body2[index].get(\"num\")\n",
    "\n",
    "\n",
    "\n",
    "    return article_dict"
   ]
  },
  {
   "cell_type": "markdown",
   "metadata": {},
   "source": [
    "Extract similar sentences from two documents"
   ]
  },
  {
   "cell_type": "code",
   "execution_count": 56,
   "metadata": {},
   "outputs": [],
   "source": [
    "def extract_similar(doc1_path, doc2_path):\n",
    "\n",
    "    #First get article alignments insides two documents\n",
    "    article_dict = article_alignment(doc1_path, doc2_path)\n",
    "    doc1, doc2 = ET.parse(doc1_path), ET.parse(doc2_path)\n",
    "    root1, root2 = doc1.getroot(), doc2.getroot()\n",
    "    try:\n",
    "        body1, body2 = root1[1][2], root2[1][2]\n",
    "    except:\n",
    "        return\n",
    "    num_pages = max(len(root1[1][2]), len(root2[1][2]))\n",
    "    model = SentenceTransformer('distilbert-base-nli-mean-tokens')\n",
    "\n",
    "    for article1 in body1:\n",
    "\n",
    "        article2_num = article_dict.get(article1.get(\"num\"))\n",
    "        print(\"Current document match: \")\n",
    "        print(article1.get('num') + '   :   ' + article2_num)\n",
    "        if article2_num:\n",
    "        #if current article have alignment in anthoer document\n",
    "\n",
    "            article2 = body2.find(\".//div[@num='\" + article2_num + \"']\")\n",
    "            article2_sents = []\n",
    "\n",
    "            for child in article2:\n",
    "\n",
    "                article2_sents.append(child.text)\n",
    "\n",
    "            sentences2_embd = model.encode(article2_sents)\n",
    "\n",
    "            for sentence1 in article1:\n",
    "                \n",
    "                sentence1_embd = model.encode(sentence1.text)\n",
    "                scores = util.cos_sim(sentence1_embd, sentences2_embd)\n",
    "                maxi = max(scores[0])\n",
    "\n",
    "                if maxi < 0.95:\n",
    "                    index = np.argmax(scores[0])\n",
    "                    print(sentence1.text)\n",
    "                    print(maxi)\n",
    "                    print(article2[index].text)\n",
    "                    print(\"//////////////////////////////////////////////////////////////\")\n",
    "            \n",
    "            return\n",
    "\n",
    "\n",
    "\n",
    "\n",
    "    \n",
    "\n"
   ]
  },
  {
   "cell_type": "code",
   "execution_count": 57,
   "metadata": {},
   "outputs": [
    {
     "name": "stdout",
     "output_type": "stream",
     "text": [
      "Current document match: \n",
      "I   :   I\n",
      "For the purpose of this Agreement:\n",
      "tensor(1.0000)\n",
      "For the purpose of this Agreement:\n",
      "//////////////////////////////////////////////////////////////\n",
      "(a) The term \"territory\" means the territory of Canada or the territory of the Union of Soviet Socialist Republics respectively, as well as those maritime areas, including the seabed and subsoil adjacent to the outer limit of the territorial sea of either of the above territories, over which the State concerned exercises, in accordance with international law, sovereign rights for the purpose of exploration and exploitation of the natural resources of such areas;\n",
      "tensor(0.9311)\n",
      "(i) In respect of Canada, the territory of Canada, as well as those maritime areas, including the seabed and subsoil adjacent to the outer limit of the territorial sea, over which Canada exercises, in accordance with international law, sovereign rights for the purpose of exploration and exploitation of the natural resources of such areas;\n",
      "//////////////////////////////////////////////////////////////\n",
      "(b) The term \"investment\" means any kind of asset invested either directly, or indirectly through an investor of a third State, by an investor of one Contracting Party in the territory of the other Contracting Party and in particular, though not exclusively, shall include:\n",
      "tensor(0.9771)\n",
      "(a) The term \"investment\" means any kind of asset held or invested either directly, or indirectly through an investor of a third State, by an investor of one Contracting Party in the territory of the other Contracting Party in accordance with the latter's laws and, in particular, though not exclusively, includes:\n",
      "//////////////////////////////////////////////////////////////\n",
      "(i) Any movable and immovable property and any related property rights, such as mortgages;\n",
      "tensor(0.9757)\n",
      "(i) Movable and immovable property and any related property rights, such as mortgages, liens or pledges;\n",
      "//////////////////////////////////////////////////////////////\n",
      "(ii) Shares, stock, bonds and debentures or any other form of participation in a company, business enterprise or joint venture;\n",
      "tensor(1.0000)\n",
      "(ii) Shares, stock, bonds and debentures or any other form of participation in a company, business enterprise or joint venture;\n",
      "//////////////////////////////////////////////////////////////\n",
      "(iii) Claims to money, and claims to performance under contract having a financial value;\n",
      "tensor(1.0000)\n",
      "(iii) Claims to money, and claims to performance under contract having a financial value;\n",
      "//////////////////////////////////////////////////////////////\n",
      "(iv) Any intellectual property rights, including rights with respect to copyrights, patents, trademarks, trade names, industrial designs, trade secrets as well as know-how;\n",
      "tensor(0.9872)\n",
      "(iv) Intellectual property rights, including rights with respect to copyrights, patents, trademarks as well as trade names, industrial designs, good will, trade secrets and know-how;\n",
      "//////////////////////////////////////////////////////////////\n",
      "(v) Rights, conferred by law or under contract, to undertake any economic and commercial activity, including any rights to search for, cultivate, extract or exploit natural resources.\n",
      "tensor(1.0000)\n",
      "(v) Rights, conferred by law or under contract, to undertake any economic and commercial activity, including any rights to search for, cultivate, extract or exploit natural resources.\n",
      "//////////////////////////////////////////////////////////////\n",
      "Any change in the form of an investment does not affect its character as an investment;\n",
      "tensor(0.9960)\n",
      "Any change in the form of an investment does not affect its character as an investment.\n",
      "//////////////////////////////////////////////////////////////\n",
      "(c) The term \"returns\" means all amounts yielded by an investment and in particular, though not exclusively, profits, interest, capital gains, dividends, royalties, fees or other current income;\n",
      "tensor(0.9905)\n",
      "(c) The term \"returns\" means all amounts yielded by an investment and in particular, though not exclusively, includes profits, interest, capital gains, dividends, royalties, fees or other current income;\n",
      "//////////////////////////////////////////////////////////////\n",
      "(d) The term \"investor\" means with regard to either Contracting Party:\n",
      "tensor(0.9142)\n",
      "(b) The term \"investor\" means:\n",
      "//////////////////////////////////////////////////////////////\n",
      "(i) Any natural person possessing the citizenship of or permanently residing in a Contracting Party in accordance with its laws; or\n",
      "tensor(1.0000)\n",
      "(i) Any natural person possessing the citizenship of or permanently residing in a Contracting Party in accordance with its laws; or\n",
      "//////////////////////////////////////////////////////////////\n",
      "(ii) Any corporation, partnership, trust, joint venture, organization, association or enterprise incorporated or duly constituted in accordance with applicable laws of that Contracting Party;\n",
      "tensor(0.9991)\n",
      "(ii) Any corporation, partnership, trust, joint venture, organization, association or enterprise incorporated or duly constituted in accordance with applicable laws of that Contracting Party,\n",
      "//////////////////////////////////////////////////////////////\n",
      "Provided that such natural person, corporation, partnership, trust, joint venture, organization, association or enterprise has the legal right, in accordance with the laws of that Contracting Party, to make investments in the territory of the other Contracting Party.\n",
      "tensor(0.9357)\n",
      "Provided that such investor has the right, in accordance with the laws of the Contracting Party, to invest in the territory of the other Contracting Party.\n",
      "//////////////////////////////////////////////////////////////\n"
     ]
    }
   ],
   "source": [
    "extract_similar('data/full data/t1989-9-canada-russian-federation-bit-1989.xml', 'data/full data/t1990-14-canada-czech-republic-bit-1990.xml')"
   ]
  }
 ],
 "metadata": {
  "kernelspec": {
   "display_name": "Python 3.8.10 64-bit (windows store)",
   "language": "python",
   "name": "python3"
  },
  "language_info": {
   "codemirror_mode": {
    "name": "ipython",
    "version": 3
   },
   "file_extension": ".py",
   "mimetype": "text/x-python",
   "name": "python",
   "nbconvert_exporter": "python",
   "pygments_lexer": "ipython3",
   "version": "3.8.10"
  },
  "orig_nbformat": 4,
  "vscode": {
   "interpreter": {
    "hash": "b81ca590b271799da31fa16a2fc68bc63207c343351f0c305987a9f4f18afaa3"
   }
  }
 },
 "nbformat": 4,
 "nbformat_minor": 2
}
