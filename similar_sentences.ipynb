{
 "cells": [
  {
   "cell_type": "code",
   "execution_count": 1,
   "metadata": {},
   "outputs": [],
   "source": [
    "import pandas as pd\n",
    "import torch\n",
    "from transformers import AutoTokenizer, AutoModelForSequenceClassification\n",
    "from sentence_transformers import SentenceTransformer, util\n",
    "import xml.etree.ElementTree as ET\n",
    "import numpy as np\n",
    "import time\n",
    "import os\n",
    "import random"
   ]
  },
  {
   "cell_type": "markdown",
   "metadata": {},
   "source": [
    "## Load model and metadata from disk"
   ]
  },
  {
   "cell_type": "code",
   "execution_count": 2,
   "metadata": {},
   "outputs": [],
   "source": [
    "model = SentenceTransformer('distilbert-base-nli-mean-tokens')\n",
    "meta_data_df = pd.read_excel('data/category_configuration_09-08-2022_08-08-01.xlsx', sheet_name = 'article_names_matching')\n",
    "title2category = dict(zip(meta_data_df[\"Article Title\"], meta_data_df[\"Category 2\"]))"
   ]
  },
  {
   "cell_type": "markdown",
   "metadata": {},
   "source": [
    "## Code for calculate similarity between two documents"
   ]
  },
  {
   "cell_type": "code",
   "execution_count": 3,
   "metadata": {},
   "outputs": [],
   "source": [
    "def elem2sent(article, break_sentence = True):\n",
    "    '''\n",
    "    Break article into sentences. Break sentences with \".\"\n",
    "    article: xml element\n",
    "    '''\n",
    "    #if article is a list of sentences\n",
    "    sentences = [_ for _ in article.itertext() if not _.isspace() and len(_.split()) > 5]\n",
    "    \n",
    "    #break sentences with \".\"\n",
    "    if break_sentence:\n",
    "        sentences = [sent for sub in map(lambda x: x.split('.'), sentences) for sent in sub if len(sent.split()) > 5]\n",
    "    \n",
    "    #remove empty sentences\n",
    "    return list(filter(None, sentences))\n",
    "\n",
    "\n",
    "def get_article_alignment(all_articles1, all_articles2, title2category, sanity_check = True):\n",
    "    '''\n",
    "    Get article alignment between two documents\n",
    "    article_body: xml element\n",
    "    title2category: dictionary of title to category\n",
    "    sanity_check: use similarity score to check if the alignment is correct\n",
    "    return a dictionary of article alignment\n",
    "    '''\n",
    "    alignment_match = {}\n",
    "\n",
    "    #if both articles attribute includes title\n",
    "    if 'title' in all_articles1[0].attrib and 'title' in all_articles2[0].attrib:\n",
    "        article_title1 = [(article.get('title').lower(), article.get('num')) for article in all_articles1 if article.get('title')]\n",
    "        article_title2 = [(article.get('title').lower(), article.get('num')) for article in all_articles2 if article.get('title')]\n",
    "        for index1, (title1, num1) in enumerate(article_title1):\n",
    "            for index2, (title2, num2) in enumerate(article_title2):\n",
    "                if title2category.get(title1) == title2category.get(title2):\n",
    "                    #to make sure that they have a high similarity\n",
    "                    if sanity_check and max(util.cos_sim(\n",
    "                        model.encode(''.join(elem2sent(all_articles1[index1]))),\n",
    "                        model.encode(''.join(elem2sent(all_articles2[index2])))\n",
    "                    )).item() < 0.7:\n",
    "                        continue\n",
    "                    alignment_match[num1] = num2\n",
    "                    break\n",
    "                \n",
    "    #title not included in article attri, use sentence similarity instead\n",
    "    else:\n",
    "        for article1 in all_articles1:\n",
    "            text1_embd = model.encode(''.join(elem2sent(article1)))\n",
    "            text2_list_embd = model.encode([''.join(elem2sent(article2)) for article2 in all_articles2])\n",
    "            scores = util.cos_sim(text1_embd, text2_list_embd)\n",
    "            if max(scores[0]).item() > 0.7:\n",
    "                index = np.argmax(scores[0])\n",
    "                alignment_match[article1.get('num')] = all_articles2[index].get('num')\n",
    "\n",
    "    return alignment_match\n",
    "    \n",
    "\n",
    "def extract_similar_sentences_from_article(article1, article2):\n",
    "    '''\n",
    "    article1, article2: xml element\n",
    "    return: list of similar sentences: (sentence1, sentence2, similarity)\n",
    "    '''\n",
    "    article1_sents, article2_sents = elem2sent(article1, break_sentence = False), elem2sent(article2, break_sentence = False)\n",
    "    #article1_sents, article2_sents = elem2sent(article1), elem2sent(article2)\n",
    "\n",
    "    #Embed article1 and article2\n",
    "    article1_embd, article2_embd = model.encode(article1_sents), model.encode(article2_sents)\n",
    "\n",
    "    #Get similarity between article1 and article2\n",
    "    scores = util.cos_sim(article1_embd, article2_embd)\n",
    "\n",
    "    visited = set() #to make sure that we don't add the same sentence twice\n",
    "\n",
    "    #filter out the sentence with similarity greater than 0.98, this means they are perfect match and no need to compare\n",
    "    identical = (scores > 0.98).to(torch.int64)\n",
    "    for i, j in identical.nonzero().tolist():\n",
    "        visited.add('row' + str(i))\n",
    "        visited.add('col' + str(j))\n",
    "\n",
    "    #filter out the sentences with similarity between 0.5 and 0.98\n",
    "    mask = (scores > 0.5) & (scores < 0.98)\n",
    "    scores *= mask.to(torch.int64) \n",
    "\n",
    "    #get the index of the sentences with similarity between 0.5 and 0.98\n",
    "    sim_pairs = [(scores[i][j], i, j) for i, j in mask.nonzero().tolist()]\n",
    "    sim_pairs.sort(key = lambda x: x[0]) #sort by similarity score\n",
    "    \n",
    "    ret = []\n",
    "    while sim_pairs:\n",
    "        score, i, j = sim_pairs.pop()\n",
    "        if 'row' + str(i) not in visited and 'col' + str(j) not in visited:\n",
    "            ret.append((article1_sents[i], article2_sents[j], scores[i][j].item()))\n",
    "            visited.add('row' + str(i))\n",
    "            visited.add('col' + str(j))\n",
    "\n",
    "    return ret\n",
    "\n",
    "def extract_similar_from_doc(doc1_path, doc2_path, title2category, min_length = 5):\n",
    "    '''\n",
    "    doc_path: path to first document\n",
    "    title2category: dictionary of title to category\n",
    "    '''\n",
    "\n",
    "    try:   \n",
    "        doc1, doc2 = ET.parse(doc1_path), ET.parse(doc2_path)\n",
    "        doc_root1, doc_root2 = doc1.getroot(), doc2.getroot()\n",
    "        doc_body1, doc_body2 = doc_root1[1][2], doc_root2[1][2]\n",
    "        \n",
    "    except Exception as e:\n",
    "        print(e); return []\n",
    "    \n",
    "    #get article alignment between two documents\n",
    "    all_articles1, all_articles2 = doc_body1.findall(\".//div[@type='article']\"), doc_body2.findall(\".//div[@type='article']\")\n",
    "    #alignment_match = get_article_alignment(doc_body1, doc_body2, title2category)\n",
    "    alignment_match = get_article_alignment(all_articles1, all_articles2, title2category)\n",
    "\n",
    "\n",
    "    ret = []\n",
    "    for page1, page2 in alignment_match.items():\n",
    "        article1, article2 = doc_body1.find(\".//div[@num='\" + page1 + \"']\"), doc_body2.find(\".//div[@num='\" + page2 + \"']\")\n",
    "        ret.extend(extract_similar_sentences_from_article(article1, article2))\n",
    "    \n",
    "    #filter out the pairs in which both sentences are longer than min_length words and length difference is less than 4 * min_length\n",
    "    ret = [x for x in ret if len(x[0].split()) > min_length and len(x[1].split()) > min_length and abs(len(x[0].split()) - len(x[1].split())) < 4 * min_length]\n",
    "\n",
    "    #sort by similarity score\n",
    "    ret.sort(key = lambda x: x[2], reverse = True)\n",
    "\n",
    "    return ret"
   ]
  },
  {
   "cell_type": "code",
   "execution_count": 4,
   "metadata": {},
   "outputs": [
    {
     "name": "stdout",
     "output_type": "stream",
     "text": [
      "2.033923625946045\n"
     ]
    }
   ],
   "source": [
    "start = time.time()\n",
    "diff = extract_similar_from_doc(\n",
    "    'data/full data/t1989-9-canada-russian-federation-bit-1989.xml', \n",
    "    'data/full data/t1990-14-canada-czech-republic-bit-1990.xml',\n",
    "    title2category\n",
    ")\n",
    "print(time.time() - start)"
   ]
  },
  {
   "cell_type": "code",
   "execution_count": 5,
   "metadata": {},
   "outputs": [
    {
     "data": {
      "text/plain": [
       "[('(a) In respect of Hong Kong, the armed forces of the sovereign government which is responsible for its foreign affairs;',\n",
       "  '(i) In respect of Hong Kong, the armed forces of the Government of the sovereign State which is responsible for foreign affairs relating to Hong Kong;',\n",
       "  0.9781162738800049),\n",
       " ('(7) \"returns\" means the amounts yielded by an investment and in particular, though not exclusively, includes profit, interest, capital gains, dividends, royalties and fees or payment for assistance and technical services.',\n",
       "  '6. \"returns\" means the amounts yielded by an investment and in particular, though not exclusively, includes profit, earnings, interest, capital gains, dividends, royalties, proceeds of liquidation, loan repayments and fees.',\n",
       "  0.9767874479293823),\n",
       " ('Shall be accorded restitution or reasonable compensation. Resulting payments shall be freely convertible.',\n",
       "  'Shall be accorded restitution or reasonable compensation. Resulting payments shall be in a freely convertible currency.',\n",
       "  0.9560486674308777),\n",
       " ('(c) Claims to money or other assets or to any performance under contract having a financial value;',\n",
       "  '(iii) Claims to money or to any performance under contract having financial value;',\n",
       "  0.9487525224685669),\n",
       " ('(b) Shares in and stock, bonds and debentures of a company and rights derived therefrom and any other form of participation in a company including a joint venture;',\n",
       "  '(ii) Shares in and stock and debentures of a company and any similar form of participation in a company;',\n",
       "  0.9351610541343689),\n",
       " ('(8) The decision of the tribunal shall be binding on the Contracting Parties.',\n",
       "  '7. The decision of the tribunal shall be final and binding on the Contracting Parties.',\n",
       "  0.8837606906890869),\n",
       " ('(4) \"freely convertible\" means free of all currency exchange controls and transferable abroad in any currency;',\n",
       "  '4. \"Freely convertible currency\" means a fully and freely convertible currency as identified by the International Monetary Fund or a currency that is widely traded in international foreign exchange markets;',\n",
       "  0.8622775077819824),\n",
       " ('(5) \"investment\" means every kind of asset, held or invested directly or indirectly, and in particular, though not exclusively includes:',\n",
       "  '5. \"investment\" means every kind of asset which has been invested in accordance with the laws of the Contracting Party receiving it and in particular, though not exclusively, includes:',\n",
       "  0.8620107173919678),\n",
       " ('(1) Each Contracting Party shall in respect of investments guarantee to investors of the other Contracting Party the unrestricted right to transfer their investments and returns abroad. This right shall not relieve investors of their obligation to pay taxes.',\n",
       "  '1. Each Contracting Party shall in respect of investments guarantee to investors of the other Contracting Party the right to transfer their investments and returns abroad, in accordance with its laws and regulations, and on a non-discriminatory basis.',\n",
       "  0.8447012305259705),\n",
       " ('(3) This Agreement shall not prevent an investor of one Contracting Party from taking advantage of any law of the other Contracting Party or any other obligations between the Contracting Parties which are more favourable than the provisions of this Agreement.',\n",
       "  '1. Neither Contracting Party shall in its area subject investments or returns of investors of the other Contracting Party to treatment less favourable than that which it accords to investments or returns of investors of any other State or, subject to its laws and regulations, that which it accords to investments or returns of its own investors.',\n",
       "  0.8366926312446594),\n",
       " ('(a) In respect of Hong Kong: corporations, partnerships and associations incorporated or constituted under the law in force in its area;',\n",
       "  '(ii) Corporations, partnerships and associations or other legally recognised entities incorporated or constituted or otherwise duly organised under the law in force in its area, (hereinafter referred to as \"companies\");',\n",
       "  0.8130530118942261),\n",
       " ('(d) Rights in the Field of intellectual property, technical processes, goodwill and know-how;',\n",
       "  '(iv) Copyright, intellectual property rights (such as patents for inventions, trade marks, industrial design), know-how, technical processes, trade names and goodwill;',\n",
       "  0.7905837297439575),\n",
       " ('(2) Each Contracting Party shall in its area accord investors of the other Contracting Party, as regards their management, maintenance, use, enjoyment or disposal of their investments, treatment not less favourable than that which it accords to its own investors or to investors of any other State, whichever is more favourable to the investor concerned.',\n",
       "  '2. Neither Contracting Party shall in its area subject investors of the other Contracting Party. as regards their management, maintenance, use, enjoyment or disposal of their investments, to treatment less favourable than that which it accords to investors of any other State or, subject to its laws and regulations, that which it accords to investments or returns of its own investors.',\n",
       "  0.7742043733596802),\n",
       " ('(2) In respect of investments made before the date of the termination of the present Agreement the provisions thereof shall continue to be effective for a further period of fifteen years from that date.',\n",
       "  'This Agreement shall enter into force thirty days after the date on which the Parties have notified each other in writing that their respective requirements for the entry into force of this Agreement have been complied with.',\n",
       "  0.7092261910438538),\n",
       " ('(b) In respect of the Italian Republic means, in addition to the areas lying within the land boundaries, the maritime zones over which the Italian Republic has sovereignty or exercise sovereign or jurisdictional rights in accordance with international law;',\n",
       "  \"(b) In respect of New Zealand includes the territorial sea, exclusive economic zone and continental shelf where it exercises its sovereignty' sovereign rights or jurisdiction in accordance with international law;\",\n",
       "  0.7035315036773682),\n",
       " ('(i) Physical persons who are its nationals;',\n",
       "  '(i) Persons who are New Zealand citizens or permanent residents in accordance with the laws of New Zealand;',\n",
       "  0.6783396005630493),\n",
       " ('(b) In respect of the Italian Republic, Italian armed forces;',\n",
       "  '(ii) In respect of New Zealand, the New Zealand armed forces;',\n",
       "  0.6224451065063477),\n",
       " ('(b) In respect of the Italian Republic:',\n",
       "  '(b) In respect of New Zealand,',\n",
       "  0.604875385761261),\n",
       " ('(2) The former Contracting Party or its designated Agency shall be entitled in all circumstances to the same treatment in respect of the rights and claims acquired by it by virtue of the assignment and any payments received in pursuance of those rights and claims as the indemnified investor was entitled to receive by virtue of this Agreement in respect of the investment concerned and its related returns.',\n",
       "  '2. Any payment made by one Contracting Party (or any agency, institution, statutory body or corporation designated by it) to its investors shall not affect the right of such investors to make their claims against the other Contracting Party in accordance with Article 9, in cases where the former Contracting Party elects not to exercise its subrogated rights or claims.',\n",
       "  0.5947314500808716)]"
      ]
     },
     "execution_count": 5,
     "metadata": {},
     "output_type": "execute_result"
    }
   ],
   "source": [
    "extract_similar_from_doc(\n",
    "    'data/full data/t1995-139-hong-kong-china-sar-italy-bit-1995.xml',\n",
    "    'data/full data/t1995-140-hong-kong-china-sar-new-zealand-bit-1995.xml',\n",
    "    title2category\n",
    ")"
   ]
  },
  {
   "cell_type": "code",
   "execution_count": 6,
   "metadata": {},
   "outputs": [],
   "source": [
    "#random sample 20 canada documents\n",
    "random.seed(42)\n",
    "canada_docs = ['data/canada data/' + _ for _ in os.listdir('data/canada data') if 'canada' in _]\n",
    "#canada_docs = random.sample(canada_docs, 20)"
   ]
  },
  {
   "cell_type": "markdown",
   "metadata": {},
   "source": [
    "Sanity check to make sure the code is not reporting errors:"
   ]
  },
  {
   "cell_type": "code",
   "execution_count": 7,
   "metadata": {},
   "outputs": [],
   "source": [
    "for i in range(10):\n",
    "    #randomly select one of the canada documents\n",
    "    doc1 = random.choice(canada_docs)\n",
    "    doc2 = random.choice(canada_docs)\n",
    "\n",
    "    try:\n",
    "        _ = extract_similar_from_doc(doc1, doc2, title2category)\n",
    "    except Exception as e:\n",
    "        print(e)\n",
    "        print(doc1, doc2)\n",
    "        continue"
   ]
  }
 ],
 "metadata": {
  "kernelspec": {
   "display_name": "Python 3.8.13 ('legal')",
   "language": "python",
   "name": "python3"
  },
  "language_info": {
   "codemirror_mode": {
    "name": "ipython",
    "version": 3
   },
   "file_extension": ".py",
   "mimetype": "text/x-python",
   "name": "python",
   "nbconvert_exporter": "python",
   "pygments_lexer": "ipython3",
   "version": "3.8.13"
  },
  "orig_nbformat": 4,
  "vscode": {
   "interpreter": {
    "hash": "06852cdbcf28824f4856c911260dff4aa3407a086ba977abbb1a931f2b398117"
   }
  }
 },
 "nbformat": 4,
 "nbformat_minor": 2
}
