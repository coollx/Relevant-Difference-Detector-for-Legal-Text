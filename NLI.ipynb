{
 "cells": [
  {
   "cell_type": "code",
   "execution_count": 10,
   "metadata": {},
   "outputs": [
    {
     "name": "stderr",
     "output_type": "stream",
     "text": [
      "Some weights of the model checkpoint at roberta-large-mnli were not used when initializing RobertaForSequenceClassification: ['roberta.pooler.dense.weight', 'roberta.pooler.dense.bias']\n",
      "- This IS expected if you are initializing RobertaForSequenceClassification from the checkpoint of a model trained on another task or with another architecture (e.g. initializing a BertForSequenceClassification model from a BertForPreTraining model).\n",
      "- This IS NOT expected if you are initializing RobertaForSequenceClassification from the checkpoint of a model that you expect to be exactly identical (initializing a BertForSequenceClassification model from a BertForSequenceClassification model).\n"
     ]
    },
    {
     "name": "stdout",
     "output_type": "stream",
     "text": [
      "0.00070681685\n",
      "0.747932\n",
      "0.9860415\n"
     ]
    }
   ],
   "source": [
    "import torch\n",
    "from transformers import AutoTokenizer, AutoModelForSequenceClassification\n",
    "\n",
    "device = torch.device('cuda' if torch.cuda.is_available() else 'cpu')\n",
    "tokenizer = AutoTokenizer.from_pretrained(\"roberta-large-mnli\")\n",
    "model = AutoModelForSequenceClassification.from_pretrained(\"roberta-large-mnli\")\n",
    "model.to(device)\n",
    "\n",
    "def test_entailment(text1, text2):\n",
    "    batch = tokenizer(text1, text2, return_tensors='pt').to(model.device)\n",
    "    with torch.no_grad():\n",
    "        logits = model(**batch).logits\n",
    "        proba = torch.softmax(logits, -1)\n",
    "    return proba.cpu().numpy()[0, model.config.label2id['ENTAILMENT']]\n",
    "\n",
    "def test_equivalence(text1, text2):\n",
    "    return max(test_entailment(text1, text2), test_entailment(text2, text1))\n",
    "\n",
    "print(test_equivalence(\"I'm a good person\", \"I'm not a good person\"))  # 2.0751484e-07\n",
    "print(test_equivalence(\"I'm a good person\", \"You are a good person\"))  # 0.49342492\n",
    "print(test_equivalence(\"I'm a good person\", \"I'm not a bad person\"))   # 0.94236994"
   ]
  },
  {
   "cell_type": "code",
   "execution_count": 11,
   "metadata": {},
   "outputs": [
    {
     "name": "stdout",
     "output_type": "stream",
     "text": [
      "0.6988367\n"
     ]
    }
   ],
   "source": [
    "sentence1 = '(1) Any dispute between the Contracting Parties concerning the interpretation or application of this Agreement shall, whenever possible, be settled through diplomatic channels.'\n",
    "sentence2 = '(1) Any dispute between the Contracting Parties concerning the interpretation or application of this Agreement shall, whenever possible, be settled amicably through consultations.'\n",
    "\n",
    "print(test_equivalence(sentence1, sentence2))  # 0.9"
   ]
  },
  {
   "cell_type": "code",
   "execution_count": null,
   "metadata": {},
   "outputs": [],
   "source": []
  }
 ],
 "metadata": {
  "kernelspec": {
   "display_name": "Python 3.8.13 ('legal')",
   "language": "python",
   "name": "python3"
  },
  "language_info": {
   "codemirror_mode": {
    "name": "ipython",
    "version": 3
   },
   "file_extension": ".py",
   "mimetype": "text/x-python",
   "name": "python",
   "nbconvert_exporter": "python",
   "pygments_lexer": "ipython3",
   "version": "3.8.13"
  },
  "orig_nbformat": 4,
  "vscode": {
   "interpreter": {
    "hash": "06852cdbcf28824f4856c911260dff4aa3407a086ba977abbb1a931f2b398117"
   }
  }
 },
 "nbformat": 4,
 "nbformat_minor": 2
}
