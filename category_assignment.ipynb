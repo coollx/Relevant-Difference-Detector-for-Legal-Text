{
 "cells": [
  {
   "cell_type": "markdown",
   "metadata": {},
   "source": [
    "## Dataset Construction"
   ]
  },
  {
   "cell_type": "code",
   "execution_count": 39,
   "metadata": {},
   "outputs": [],
   "source": [
    "dir = 'data/full data/'\n",
    "\n",
    "import json\n",
    "import os\n",
    "import pandas as pd\n",
    "import xml.etree.ElementTree as ET\n",
    "from sklearn.model_selection import train_test_split\n",
    "\n",
    "from utils import elem2sent\n",
    "\n",
    "import warnings\n",
    "warnings.filterwarnings('ignore')"
   ]
  },
  {
   "cell_type": "code",
   "execution_count": 4,
   "metadata": {},
   "outputs": [],
   "source": [
    "meta_data_df = pd.read_excel('data/category_configuration_marked.xlsx', sheet_name = 'article_names_matching')\n",
    "title2category = dict(zip(meta_data_df[\"Article Title\"], meta_data_df[\"Category 2\"]))"
   ]
  },
  {
   "cell_type": "code",
   "execution_count": 6,
   "metadata": {},
   "outputs": [],
   "source": [
    "from unicodedata import category\n",
    "\n",
    "\n",
    "def get_df(dir):\n",
    "    cnt = 0\n",
    "    df = pd.DataFrame(columns=['article', 'category'])\n",
    "    \n",
    "    for file_name in os.listdir(dir):\n",
    "        try:\n",
    "            root = ET.parse(dir + file_name).getroot()\n",
    "            meta_data = root[0]\n",
    "            doc_body = root[1][2]\n",
    "        except Exception as e:\n",
    "            continue\n",
    "\n",
    "        all_articles_with_title = [_ for _ in doc_body.findall(\".//div[@type='article']\") if 'title' in _.attrib]\n",
    "\n",
    "        for article in all_articles_with_title:\n",
    "            title = article.attrib['title'].lower()\n",
    "            sentences = ''.join(elem2sent(article))\n",
    "            category = title2category.get(title, 'unknown')\n",
    "            df = df.append({'article': sentences, 'title':title, 'category': category}, ignore_index=True)\n",
    "            cnt += 1\n",
    "\n",
    "    return df\n",
    "\n",
    "df = get_df(dir)\n",
    "df.to_csv('generated_data/category_assignment_full.csv', index=False)\n"
   ]
  },
  {
   "cell_type": "code",
   "execution_count": 7,
   "metadata": {},
   "outputs": [
    {
     "data": {
      "text/html": [
       "<div>\n",
       "<style scoped>\n",
       "    .dataframe tbody tr th:only-of-type {\n",
       "        vertical-align: middle;\n",
       "    }\n",
       "\n",
       "    .dataframe tbody tr th {\n",
       "        vertical-align: top;\n",
       "    }\n",
       "\n",
       "    .dataframe thead th {\n",
       "        text-align: right;\n",
       "    }\n",
       "</style>\n",
       "<table border=\"1\" class=\"dataframe\">\n",
       "  <thead>\n",
       "    <tr style=\"text-align: right;\">\n",
       "      <th></th>\n",
       "      <th>article</th>\n",
       "      <th>category</th>\n",
       "      <th>title</th>\n",
       "    </tr>\n",
       "  </thead>\n",
       "  <tbody>\n",
       "    <tr>\n",
       "      <th>0</th>\n",
       "      <td>If either Contracting Party makes payment to a...</td>\n",
       "      <td>unknown</td>\n",
       "      <td>s</td>\n",
       "    </tr>\n",
       "    <tr>\n",
       "      <th>1</th>\n",
       "      <td>Where a matter is governed both by this Conven...</td>\n",
       "      <td>unknown</td>\n",
       "      <td>article §</td>\n",
       "    </tr>\n",
       "    <tr>\n",
       "      <th>2</th>\n",
       "      <td>For the purposes of this Agreement(a) \"investm...</td>\n",
       "      <td>Definition</td>\n",
       "      <td>definitions</td>\n",
       "    </tr>\n",
       "    <tr>\n",
       "      <th>3</th>\n",
       "      <td>(1) Each Contracting Party shall encourage and...</td>\n",
       "      <td>Promotion and Admission</td>\n",
       "      <td>promotion and protection of investment</td>\n",
       "    </tr>\n",
       "    <tr>\n",
       "      <th>4</th>\n",
       "      <td>(1) Neither Contracting Party shall in its ter...</td>\n",
       "      <td>Most-Favoured-Nation Treatment</td>\n",
       "      <td>most-favoured-nation provisions</td>\n",
       "    </tr>\n",
       "  </tbody>\n",
       "</table>\n",
       "</div>"
      ],
      "text/plain": [
       "                                             article  \\\n",
       "0  If either Contracting Party makes payment to a...   \n",
       "1  Where a matter is governed both by this Conven...   \n",
       "2  For the purposes of this Agreement(a) \"investm...   \n",
       "3  (1) Each Contracting Party shall encourage and...   \n",
       "4  (1) Neither Contracting Party shall in its ter...   \n",
       "\n",
       "                         category                                   title  \n",
       "0                         unknown                                       s  \n",
       "1                         unknown                               article §  \n",
       "2                      Definition                             definitions  \n",
       "3         Promotion and Admission  promotion and protection of investment  \n",
       "4  Most-Favoured-Nation Treatment         most-favoured-nation provisions  "
      ]
     },
     "execution_count": 7,
     "metadata": {},
     "output_type": "execute_result"
    }
   ],
   "source": [
    "df.head()"
   ]
  },
  {
   "cell_type": "markdown",
   "metadata": {},
   "source": [
    "### Data preprocessing"
   ]
  },
  {
   "cell_type": "code",
   "execution_count": 42,
   "metadata": {},
   "outputs": [],
   "source": [
    "df_with_category = df[df['category'] != 'unknown']\n",
    "\n",
    "#drop the title column\n",
    "df_with_category = df_with_category.drop(columns=['title'])\n",
    "\n",
    "#replace the category with less than 5 samples with 'others'\n",
    "df_with_category['category'] = df_with_category['category'].apply(lambda x: 'others' if len(df_with_category[df_with_category['category'] == x]) < 5 else x)\n",
    "\n",
    "#extract the category labels as a map\n",
    "category2label = dict(zip(df_with_category['category'].unique(), range(len(df_with_category['category'].unique()))))\n",
    "#save the map\n",
    "with open('generated_data/category2label.json', 'w') as f:\n",
    "    json.dump(category2label, f)\n",
    "\n",
    "#replace the category with the label\n",
    "df_with_category['category'] = df_with_category['category'].apply(lambda x: category2label[x])\n",
    "\n",
    "#train test split\n",
    "train_df, test_df = train_test_split(df_with_category, test_size=0.2, random_state=42)\n",
    "\n",
    "#save the train and test data\n",
    "train_df.to_csv('generated_data/category_train.csv', index=False)\n",
    "test_df.to_csv('generated_data/category_test.csv', index=False)"
   ]
  },
  {
   "cell_type": "markdown",
   "metadata": {},
   "source": [
    "## Test with a auto ml model as baseline"
   ]
  },
  {
   "cell_type": "markdown",
   "metadata": {},
   "source": [
    "#### Load the data"
   ]
  },
  {
   "cell_type": "code",
   "execution_count": 43,
   "metadata": {},
   "outputs": [],
   "source": [
    "train_df = pd.read_csv('generated_data/category_train.csv')\n",
    "test_df = pd.read_csv('generated_data/category_test.csv')"
   ]
  },
  {
   "cell_type": "code",
   "execution_count": 46,
   "metadata": {},
   "outputs": [
    {
     "name": "stderr",
     "output_type": "stream",
     "text": [
      "Global seed set to 123\n",
      "Warning: path already exists! This predictor may overwrite an existing predictor! path=\"./models\"\n",
      "Downloading: 100%|██████████| 29.0/29.0 [00:00<?, ?B/s]\n",
      "Downloading: 100%|██████████| 665/665 [00:00<?, ?B/s] \n",
      "Downloading: 100%|██████████| 226k/226k [00:00<00:00, 1.65MB/s]\n",
      "Downloading: 100%|██████████| 455k/455k [00:00<00:00, 1.99MB/s]\n",
      "Downloading: 100%|██████████| 51.7M/51.7M [00:01<00:00, 48.9MB/s]\n",
      "Auto select gpus: [0]\n",
      "Using 16bit native Automatic Mixed Precision (AMP)\n",
      "GPU available: True, used: True\n",
      "TPU available: False, using: 0 TPU cores\n",
      "IPU available: False, using: 0 IPUs\n",
      "HPU available: False, using: 0 HPUs\n",
      "LOCAL_RANK: 0 - CUDA_VISIBLE_DEVICES: [0]\n",
      "\n",
      "  | Name              | Type                         | Params\n",
      "-------------------------------------------------------------------\n",
      "0 | model             | HFAutoModelForTextPrediction | 13.5 M\n",
      "1 | validation_metric | Accuracy                     | 0     \n",
      "2 | loss_func         | CrossEntropyLoss             | 0     \n",
      "-------------------------------------------------------------------\n",
      "13.5 M    Trainable params\n",
      "0         Non-trainable params\n",
      "13.5 M    Total params\n",
      "26.997    Total estimated model params size (MB)\n"
     ]
    },
    {
     "name": "stdout",
     "output_type": "stream",
     "text": [
      "Epoch 0:  50%|████▉     | 1877/3755 [01:46<01:46, 17.69it/s, loss=0.613, v_num=]"
     ]
    },
    {
     "name": "stderr",
     "output_type": "stream",
     "text": [
      "Epoch 0, global step 97: 'val_accuracy' reached 0.86640 (best 0.86640), saving model to 'D:\\\\x\\\\cs\\\\project\\\\AI4LEGAL\\\\models\\\\epoch=0-step=97.ckpt' as top 3\n"
     ]
    },
    {
     "name": "stdout",
     "output_type": "stream",
     "text": [
      "Epoch 0: 100%|█████████▉| 3754/3755 [03:25<00:00, 18.23it/s, loss=0.445, v_num=]"
     ]
    },
    {
     "name": "stderr",
     "output_type": "stream",
     "text": [
      "Epoch 0, global step 195: 'val_accuracy' reached 0.91640 (best 0.91640), saving model to 'D:\\\\x\\\\cs\\\\project\\\\AI4LEGAL\\\\models\\\\epoch=0-step=195.ckpt' as top 3\n"
     ]
    },
    {
     "name": "stdout",
     "output_type": "stream",
     "text": [
      "Epoch 1:  50%|████▉     | 1877/3755 [01:47<01:47, 17.52it/s, loss=0.351, v_num=] "
     ]
    },
    {
     "name": "stderr",
     "output_type": "stream",
     "text": [
      "Epoch 1, global step 293: 'val_accuracy' reached 0.92680 (best 0.92680), saving model to 'D:\\\\x\\\\cs\\\\project\\\\AI4LEGAL\\\\models\\\\epoch=1-step=293.ckpt' as top 3\n"
     ]
    },
    {
     "name": "stdout",
     "output_type": "stream",
     "text": [
      "Epoch 1: 100%|█████████▉| 3754/3755 [03:26<00:00, 18.18it/s, loss=0.333, v_num=] "
     ]
    },
    {
     "name": "stderr",
     "output_type": "stream",
     "text": [
      "Epoch 1, global step 391: 'val_accuracy' reached 0.93280 (best 0.93280), saving model to 'D:\\\\x\\\\cs\\\\project\\\\AI4LEGAL\\\\models\\\\epoch=1-step=391.ckpt' as top 3\n"
     ]
    },
    {
     "name": "stdout",
     "output_type": "stream",
     "text": [
      "Epoch 2:  50%|████▉     | 1877/3755 [01:46<01:46, 17.69it/s, loss=0.219, v_num=] "
     ]
    },
    {
     "name": "stderr",
     "output_type": "stream",
     "text": [
      "Epoch 2, global step 489: 'val_accuracy' reached 0.93840 (best 0.93840), saving model to 'D:\\\\x\\\\cs\\\\project\\\\AI4LEGAL\\\\models\\\\epoch=2-step=489.ckpt' as top 3\n"
     ]
    },
    {
     "name": "stdout",
     "output_type": "stream",
     "text": [
      "Epoch 2: 100%|█████████▉| 3754/3755 [03:23<00:00, 18.42it/s, loss=0.292, v_num=] "
     ]
    },
    {
     "name": "stderr",
     "output_type": "stream",
     "text": [
      "Epoch 2, global step 587: 'val_accuracy' reached 0.94080 (best 0.94080), saving model to 'D:\\\\x\\\\cs\\\\project\\\\AI4LEGAL\\\\models\\\\epoch=2-step=587.ckpt' as top 3\n"
     ]
    },
    {
     "name": "stdout",
     "output_type": "stream",
     "text": [
      "Epoch 3:  50%|████▉     | 1877/3755 [01:47<01:47, 17.51it/s, loss=0.184, v_num=] "
     ]
    },
    {
     "name": "stderr",
     "output_type": "stream",
     "text": [
      "Epoch 3, global step 685: 'val_accuracy' reached 0.94280 (best 0.94280), saving model to 'D:\\\\x\\\\cs\\\\project\\\\AI4LEGAL\\\\models\\\\epoch=3-step=685.ckpt' as top 3\n"
     ]
    },
    {
     "name": "stdout",
     "output_type": "stream",
     "text": [
      "Epoch 3: 100%|█████████▉| 3754/3755 [03:25<00:00, 18.28it/s, loss=0.243, v_num=] "
     ]
    },
    {
     "name": "stderr",
     "output_type": "stream",
     "text": [
      "Epoch 3, global step 783: 'val_accuracy' reached 0.94120 (best 0.94280), saving model to 'D:\\\\x\\\\cs\\\\project\\\\AI4LEGAL\\\\models\\\\epoch=3-step=783.ckpt' as top 3\n"
     ]
    },
    {
     "name": "stdout",
     "output_type": "stream",
     "text": [
      "Epoch 4:  50%|████▉     | 1877/3755 [01:47<01:47, 17.52it/s, loss=0.137, v_num=] "
     ]
    },
    {
     "name": "stderr",
     "output_type": "stream",
     "text": [
      "Epoch 4, global step 881: 'val_accuracy' reached 0.94520 (best 0.94520), saving model to 'D:\\\\x\\\\cs\\\\project\\\\AI4LEGAL\\\\models\\\\epoch=4-step=881.ckpt' as top 3\n"
     ]
    },
    {
     "name": "stdout",
     "output_type": "stream",
     "text": [
      "Epoch 4: 100%|█████████▉| 3754/3755 [03:27<00:00, 18.13it/s, loss=0.184, v_num=] "
     ]
    },
    {
     "name": "stderr",
     "output_type": "stream",
     "text": [
      "Epoch 4, global step 979: 'val_accuracy' reached 0.94400 (best 0.94520), saving model to 'D:\\\\x\\\\cs\\\\project\\\\AI4LEGAL\\\\models\\\\epoch=4-step=979.ckpt' as top 3\n"
     ]
    },
    {
     "name": "stdout",
     "output_type": "stream",
     "text": [
      "Epoch 5:  50%|████▉     | 1877/3755 [01:47<01:47, 17.51it/s, loss=0.163, v_num=] "
     ]
    },
    {
     "name": "stderr",
     "output_type": "stream",
     "text": [
      "Epoch 5, global step 1077: 'val_accuracy' reached 0.94600 (best 0.94600), saving model to 'D:\\\\x\\\\cs\\\\project\\\\AI4LEGAL\\\\models\\\\epoch=5-step=1077.ckpt' as top 3\n"
     ]
    },
    {
     "name": "stdout",
     "output_type": "stream",
     "text": [
      "Epoch 5: 100%|█████████▉| 3754/3755 [03:28<00:00, 18.04it/s, loss=0.2, v_num=]   "
     ]
    },
    {
     "name": "stderr",
     "output_type": "stream",
     "text": [
      "Epoch 5, global step 1175: 'val_accuracy' reached 0.94480 (best 0.94600), saving model to 'D:\\\\x\\\\cs\\\\project\\\\AI4LEGAL\\\\models\\\\epoch=5-step=1175.ckpt' as top 3\n"
     ]
    },
    {
     "name": "stdout",
     "output_type": "stream",
     "text": [
      "Epoch 6:  50%|████▉     | 1877/3755 [01:47<01:47, 17.40it/s, loss=0.0863, v_num=]"
     ]
    },
    {
     "name": "stderr",
     "output_type": "stream",
     "text": [
      "Epoch 6, global step 1273: 'val_accuracy' reached 0.94800 (best 0.94800), saving model to 'D:\\\\x\\\\cs\\\\project\\\\AI4LEGAL\\\\models\\\\epoch=6-step=1273.ckpt' as top 3\n"
     ]
    },
    {
     "name": "stdout",
     "output_type": "stream",
     "text": [
      "Epoch 6: 100%|█████████▉| 3754/3755 [03:28<00:00, 18.04it/s, loss=0.189, v_num=] "
     ]
    },
    {
     "name": "stderr",
     "output_type": "stream",
     "text": [
      "Epoch 6, global step 1371: 'val_accuracy' reached 0.94600 (best 0.94800), saving model to 'D:\\\\x\\\\cs\\\\project\\\\AI4LEGAL\\\\models\\\\epoch=6-step=1371.ckpt' as top 3\n"
     ]
    },
    {
     "name": "stdout",
     "output_type": "stream",
     "text": [
      "Epoch 7:  50%|████▉     | 1877/3755 [01:45<01:45, 17.86it/s, loss=0.0783, v_num=] "
     ]
    },
    {
     "name": "stderr",
     "output_type": "stream",
     "text": [
      "Epoch 7, global step 1469: 'val_accuracy' reached 0.95160 (best 0.95160), saving model to 'D:\\\\x\\\\cs\\\\project\\\\AI4LEGAL\\\\models\\\\epoch=7-step=1469.ckpt' as top 3\n"
     ]
    },
    {
     "name": "stdout",
     "output_type": "stream",
     "text": [
      "Epoch 7: 100%|█████████▉| 3754/3755 [03:24<00:00, 18.35it/s, loss=0.173, v_num=]  "
     ]
    },
    {
     "name": "stderr",
     "output_type": "stream",
     "text": [
      "Epoch 7, global step 1567: 'val_accuracy' reached 0.95000 (best 0.95160), saving model to 'D:\\\\x\\\\cs\\\\project\\\\AI4LEGAL\\\\models\\\\epoch=7-step=1567.ckpt' as top 3\n"
     ]
    },
    {
     "name": "stdout",
     "output_type": "stream",
     "text": [
      "Epoch 8:  50%|████▉     | 1877/3755 [01:46<01:46, 17.56it/s, loss=0.0956, v_num=] "
     ]
    },
    {
     "name": "stderr",
     "output_type": "stream",
     "text": [
      "Epoch 8, global step 1665: 'val_accuracy' reached 0.95080 (best 0.95160), saving model to 'D:\\\\x\\\\cs\\\\project\\\\AI4LEGAL\\\\models\\\\epoch=8-step=1665.ckpt' as top 3\n"
     ]
    },
    {
     "name": "stdout",
     "output_type": "stream",
     "text": [
      "Epoch 8: 100%|█████████▉| 3754/3755 [03:26<00:00, 18.17it/s, loss=0.169, v_num=]  "
     ]
    },
    {
     "name": "stderr",
     "output_type": "stream",
     "text": [
      "Epoch 8, global step 1763: 'val_accuracy' was not in top 3\n"
     ]
    },
    {
     "name": "stdout",
     "output_type": "stream",
     "text": [
      "Epoch 9:  50%|████▉     | 1877/3755 [01:46<01:46, 17.71it/s, loss=0.0627, v_num=] "
     ]
    },
    {
     "name": "stderr",
     "output_type": "stream",
     "text": [
      "Epoch 9, global step 1861: 'val_accuracy' reached 0.95160 (best 0.95160), saving model to 'D:\\\\x\\\\cs\\\\project\\\\AI4LEGAL\\\\models\\\\epoch=9-step=1861.ckpt' as top 3\n"
     ]
    },
    {
     "name": "stdout",
     "output_type": "stream",
     "text": [
      "Epoch 9: 100%|█████████▉| 3754/3755 [03:25<00:00, 18.24it/s, loss=0.165, v_num=]  "
     ]
    },
    {
     "name": "stderr",
     "output_type": "stream",
     "text": [
      "Epoch 9, global step 1959: 'val_accuracy' reached 0.95160 (best 0.95160), saving model to 'D:\\\\x\\\\cs\\\\project\\\\AI4LEGAL\\\\models\\\\epoch=9-step=1959.ckpt' as top 3\n"
     ]
    },
    {
     "name": "stdout",
     "output_type": "stream",
     "text": [
      "Epoch 9: 100%|██████████| 3755/3755 [03:26<00:00, 18.16it/s, loss=0.16, v_num=] \n"
     ]
    },
    {
     "name": "stderr",
     "output_type": "stream",
     "text": [
      "Start to fuse 3 checkpoints via the greedy soup algorithm.\n"
     ]
    },
    {
     "name": "stdout",
     "output_type": "stream",
     "text": [
      "Predicting DataLoader 0: 100%|██████████| 79/79 [00:03<00:00, 25.16it/s]\n",
      "Predicting DataLoader 0: 100%|██████████| 79/79 [00:03<00:00, 24.05it/s]\n",
      "Predicting DataLoader 0: 100%|██████████| 79/79 [00:03<00:00, 24.34it/s]\n"
     ]
    },
    {
     "data": {
      "text/plain": [
       "<autogluon.text.text_prediction.predictor.TextPredictor at 0x1640d55e610>"
      ]
     },
     "execution_count": 46,
     "metadata": {},
     "output_type": "execute_result"
    }
   ],
   "source": [
    "from autogluon.text import TextPredictor\n",
    "\n",
    "predictor = TextPredictor(\n",
    "    label='category', \n",
    "    problem_type='multiclass',\n",
    "    eval_metric='f1_micro', \n",
    "    path='./models'\n",
    ")\n",
    "predictor.fit(train_df, time_limit=None, presets='medium_quality_faster_train')"
   ]
  },
  {
   "cell_type": "code",
   "execution_count": 48,
   "metadata": {},
   "outputs": [
    {
     "name": "stdout",
     "output_type": "stream",
     "text": [
      "Predicting DataLoader 0: 100%|██████████| 216/216 [00:07<00:00, 28.44it/s]\n",
      "{'acc': 0.9564206856478792, 'f1_macro': 0.8612385243420871}\n"
     ]
    }
   ],
   "source": [
    "test_score = predictor.evaluate(test_df, metrics=['acc', 'f1_macro'])\n",
    "print(test_score)"
   ]
  },
  {
   "cell_type": "code",
   "execution_count": null,
   "metadata": {},
   "outputs": [],
   "source": []
  }
 ],
 "metadata": {
  "kernelspec": {
   "display_name": "Python 3.8.13 ('gilo')",
   "language": "python",
   "name": "python3"
  },
  "language_info": {
   "codemirror_mode": {
    "name": "ipython",
    "version": 3
   },
   "file_extension": ".py",
   "mimetype": "text/x-python",
   "name": "python",
   "nbconvert_exporter": "python",
   "pygments_lexer": "ipython3",
   "version": "3.8.13"
  },
  "orig_nbformat": 4,
  "vscode": {
   "interpreter": {
    "hash": "478bf076e71aa8c7ec691a401dab303f90ad531d2d702b12f44981e5b1193312"
   }
  }
 },
 "nbformat": 4,
 "nbformat_minor": 2
}
