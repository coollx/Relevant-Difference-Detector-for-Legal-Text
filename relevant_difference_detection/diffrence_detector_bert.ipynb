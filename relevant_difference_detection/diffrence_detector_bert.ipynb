{
 "cells": [
  {
   "cell_type": "code",
   "execution_count": 1,
   "metadata": {},
   "outputs": [],
   "source": [
    "import matplotlib as mpl\n",
    "mpl.rcParams['figure.facecolor'] = 'white'\n",
    "import pandas as pd\n",
    "import matplotlib.pyplot as plt\n",
    "from dataset import *\n",
    "from evaluation import *\n",
    "from train import *\n",
    "from models import *\n",
    "from sklearn.metrics import classification_report\n",
    "from transformers import logging\n",
    "logging.set_verbosity_error()\n",
    "import warnings\n",
    "warnings.filterwarnings('ignore')"
   ]
  },
  {
   "cell_type": "markdown",
   "metadata": {},
   "source": [
    "## I. Data inspection: check distribution"
   ]
  },
  {
   "cell_type": "code",
   "execution_count": 8,
   "metadata": {},
   "outputs": [
    {
     "data": {
      "text/plain": [
       "<AxesSubplot:>"
      ]
     },
     "execution_count": 8,
     "metadata": {},
     "output_type": "execute_result"
    },
    {
     "data": {
      "image/png": "[encoded data removed]",
      "text/plain": [
       "<Figure size 432x288 with 1 Axes>"
      ]
     },
     "metadata": {
      "needs_background": "light"
     },
     "output_type": "display_data"
    }
   ],
   "source": [
    "datapath = '../generated_data/similar_sentences_large.xlsx'\n",
    "df = pd.read_excel(datapath)\n",
    "#plot the distribution of the labels with different colors\n",
    "df['label'].value_counts().plot(kind='bar', color=['green', 'orange', 'red'])"
   ]
  },
  {
   "cell_type": "code",
   "execution_count": 3,
   "metadata": {},
   "outputs": [
    {
     "data": {
      "text/plain": [
       "STYLYSTIC     8430\n",
       "IRRELEVANT    2469\n",
       "RELEVANT      2069\n",
       "Name: label, dtype: int64"
      ]
     },
     "execution_count": 3,
     "metadata": {},
     "output_type": "execute_result"
    }
   ],
   "source": [
    "df['label'].value_counts()"
   ]
  },
  {
   "cell_type": "markdown",
   "metadata": {},
   "source": [
    "## II. bert tokenizer demo"
   ]
  },
  {
   "cell_type": "code",
   "execution_count": null,
   "metadata": {},
   "outputs": [],
   "source": [
    "from transformers import BertTokenizer\n",
    "from transformers import RobertaTokenizer\n",
    "#tokenizer = RobertaTokenizer.from_pretrained('roberta-base')\n",
    "tokenizer = BertTokenizer.from_pretrained('bert-base-uncased')\n",
    "example_text = 'I will watch Memento tonight'\n",
    "bert_input = tokenizer(example_text, example_text ,padding='max_length', max_length = 20, \n",
    "                       truncation=True, return_tensors=\"pt\")"
   ]
  },
  {
   "cell_type": "code",
   "execution_count": null,
   "metadata": {},
   "outputs": [],
   "source": [
    "example_text = tokenizer.decode(bert_input.input_ids[0])\n",
    "example_text"
   ]
  },
  {
   "cell_type": "markdown",
   "metadata": {},
   "source": [
    "## III. Data set"
   ]
  },
  {
   "cell_type": "code",
   "execution_count": 9,
   "metadata": {},
   "outputs": [
    {
     "name": "stdout",
     "output_type": "stream",
     "text": [
      "IRRELEVANT    1668\n",
      "RELEVANT      1668\n",
      "STYLYSTIC     1668\n",
      "Name: label, dtype: int64\n",
      "train: 5004 val: 1297 test: 1297\n"
     ]
    }
   ],
   "source": [
    "train_dataloader, val_dataloader, test_dataloader = get_dataloader(df, tokenizer='bert-base-cased')"
   ]
  },
  {
   "cell_type": "markdown",
   "metadata": {},
   "source": [
    "## IV. Models"
   ]
  },
  {
   "cell_type": "code",
   "execution_count": 11,
   "metadata": {},
   "outputs": [],
   "source": [
    "# Load the model\n",
    "#pretrain = 'nlpaueb/legal-bert-base-uncased'\n",
    "#pretrain = 'bert-base-uncased'\n",
    "#model = BertClassifier(pretrain = pretrain)\n",
    "model = RobertaClassifier()"
   ]
  },
  {
   "cell_type": "markdown",
   "metadata": {},
   "source": [
    "## V. Training"
   ]
  },
  {
   "cell_type": "code",
   "execution_count": 5,
   "metadata": {},
   "outputs": [
    {
     "name": "stderr",
     "output_type": "stream",
     "text": [
      "100%|██████████| 313/313 [01:50<00:00,  2.84it/s]\n"
     ]
    },
    {
     "name": "stdout",
     "output_type": "stream",
     "text": [
      "Epochs: 1 | Train Loss:  0.055                 | Train Accuracy:  0.640                 | Val Loss:  0.039                 | Val Accuracy:  0.843\n"
     ]
    },
    {
     "name": "stderr",
     "output_type": "stream",
     "text": [
      "100%|██████████| 313/313 [01:48<00:00,  2.88it/s]\n"
     ]
    },
    {
     "name": "stdout",
     "output_type": "stream",
     "text": [
      "Epochs: 2 | Train Loss:  0.036                 | Train Accuracy:  0.855                 | Val Loss:  0.028                 | Val Accuracy:  0.906\n"
     ]
    },
    {
     "name": "stderr",
     "output_type": "stream",
     "text": [
      "100%|██████████| 313/313 [01:49<00:00,  2.87it/s]\n"
     ]
    },
    {
     "name": "stdout",
     "output_type": "stream",
     "text": [
      "Epochs: 3 | Train Loss:  0.023                 | Train Accuracy:  0.931                 | Val Loss:  0.019                 | Val Accuracy:  0.931\n"
     ]
    }
   ],
   "source": [
    "EPOCHS = 3\n",
    "LR = 1e-6\n",
    "              \n",
    "train(model, train_dataloader, val_dataloader, LR, EPOCHS)\n",
    "\n",
    "# Save the model\n",
    "#model_name = 'roberta-base_{}.pt'.format(EPOCHS)\n",
    "#model_name = 'legal-bert-base_{}.pt'.format(EPOCHS)\n",
    "model_name = 'bert-base_{}.pt'.format(EPOCHS)\n",
    "torch.save(model.state_dict(), 'models/' + model_name)"
   ]
  },
  {
   "cell_type": "markdown",
   "metadata": {},
   "source": [
    "## VI. Evaluation"
   ]
  },
  {
   "cell_type": "code",
   "execution_count": 6,
   "metadata": {},
   "outputs": [
    {
     "name": "stdout",
     "output_type": "stream",
     "text": [
      "Test Accuracy:  0.938\n",
      "Test F1:  0.886\n",
      "Test Precision:  0.885\n",
      "Test Recall:  0.911\n"
     ]
    }
   ],
   "source": [
    "# Load the model\n",
    "model = BertClassifier(pretrain = pretrain)\n",
    "#model = RobertaClassifier()\n",
    "model.load_state_dict(torch.load('models/' + model_name))\n",
    "evaluate(model, test_dataloader)"
   ]
  },
  {
   "cell_type": "code",
   "execution_count": 8,
   "metadata": {},
   "outputs": [
    {
     "name": "stderr",
     "output_type": "stream",
     "text": [
      "100%|██████████| 313/313 [01:48<00:00,  2.89it/s]\n"
     ]
    },
    {
     "name": "stdout",
     "output_type": "stream",
     "text": [
      "Epochs: 1 | Train Loss:  0.003                 | Train Accuracy:  0.991                 | Val Loss:  0.004                 | Val Accuracy:  0.981\n"
     ]
    },
    {
     "name": "stderr",
     "output_type": "stream",
     "text": [
      "100%|██████████| 313/313 [01:48<00:00,  2.89it/s]\n"
     ]
    },
    {
     "name": "stdout",
     "output_type": "stream",
     "text": [
      "Epochs: 2 | Train Loss:  0.002                 | Train Accuracy:  0.994                 | Val Loss:  0.006                 | Val Accuracy:  0.975\n"
     ]
    },
    {
     "name": "stderr",
     "output_type": "stream",
     "text": [
      "100%|██████████| 313/313 [01:48<00:00,  2.88it/s]\n"
     ]
    },
    {
     "name": "stdout",
     "output_type": "stream",
     "text": [
      "Epochs: 3 | Train Loss:  0.002                 | Train Accuracy:  0.995                 | Val Loss:  0.004                 | Val Accuracy:  0.978\n"
     ]
    },
    {
     "name": "stderr",
     "output_type": "stream",
     "text": [
      "100%|██████████| 313/313 [01:48<00:00,  2.89it/s]\n"
     ]
    },
    {
     "name": "stdout",
     "output_type": "stream",
     "text": [
      "Epochs: 4 | Train Loss:  0.001                 | Train Accuracy:  0.997                 | Val Loss:  0.004                 | Val Accuracy:  0.979\n"
     ]
    },
    {
     "name": "stderr",
     "output_type": "stream",
     "text": [
      "100%|██████████| 313/313 [01:48<00:00,  2.89it/s]\n"
     ]
    },
    {
     "name": "stdout",
     "output_type": "stream",
     "text": [
      "Epochs: 5 | Train Loss:  0.001                 | Train Accuracy:  0.996                 | Val Loss:  0.003                 | Val Accuracy:  0.981\n"
     ]
    },
    {
     "name": "stderr",
     "output_type": "stream",
     "text": [
      "100%|██████████| 313/313 [01:47<00:00,  2.90it/s]\n"
     ]
    },
    {
     "name": "stdout",
     "output_type": "stream",
     "text": [
      "Epochs: 6 | Train Loss:  0.001                 | Train Accuracy:  0.998                 | Val Loss:  0.004                 | Val Accuracy:  0.980\n"
     ]
    }
   ],
   "source": [
    "train(model, train_dataloader, val_dataloader, LR, 6)"
   ]
  },
  {
   "cell_type": "code",
   "execution_count": 39,
   "metadata": {},
   "outputs": [
    {
     "name": "stdout",
     "output_type": "stream",
     "text": [
      "Test Accuracy:  0.941\n",
      "Test F1:  0.892\n",
      "Test Precision:  0.890\n",
      "Test Recall:  0.921\n"
     ]
    }
   ],
   "source": [
    "evaluate(model, test_dataloader)"
   ]
  },
  {
   "cell_type": "code",
   "execution_count": null,
   "metadata": {},
   "outputs": [],
   "source": [
    "torch.save(model.state_dict(), 'models/' + 'legal_bert_{}.pt'.format(10))"
   ]
  },
  {
   "cell_type": "code",
   "execution_count": 10,
   "metadata": {},
   "outputs": [],
   "source": [
    "model_name = 'roberta-base_{}.pt'.format(10)\n",
    "torch.save(model.state_dict(), 'models/' + model_name)"
   ]
  },
  {
   "cell_type": "code",
   "execution_count": 6,
   "metadata": {},
   "outputs": [
    {
     "data": {
      "text/plain": [
       "<All keys matched successfully>"
      ]
     },
     "execution_count": 6,
     "metadata": {},
     "output_type": "execute_result"
    }
   ],
   "source": [
    "model = BertClassifier('bert-base-uncased')\n",
    "model.load_state_dict(torch.load('models/' + 'bert-base_3.pt'))"
   ]
  },
  {
   "cell_type": "code",
   "execution_count": 8,
   "metadata": {},
   "outputs": [],
   "source": [
    "\n",
    "def show_classification_report(model):\n",
    "    #get all the predictions on the test set\n",
    "    y_pred = []\n",
    "    y_true = []\n",
    "    device = torch.device(\"cuda:0\" if torch.cuda.is_available() else \"cpu\")\n",
    "    with torch.no_grad():\n",
    "        model = model.to(device)\n",
    "        for test_input, test_label in tqdm(test_dataloader):\n",
    "\n",
    "            test_label = test_label.to(device)\n",
    "            mask = test_input['attention_mask'].to(device)\n",
    "            input_id = test_input['input_ids'].squeeze(1).to(device)\n",
    "\n",
    "            output = model(input_id, mask)\n",
    "\n",
    "            y_pred.extend(output.argmax(dim=1).cpu().tolist())\n",
    "            y_true.extend(test_label.cpu().tolist())\n",
    "\n",
    "    #print the classification report\n",
    "    print(classification_report(y_true, y_pred, digits=3))"
   ]
  },
  {
   "cell_type": "code",
   "execution_count": 33,
   "metadata": {},
   "outputs": [
    {
     "name": "stderr",
     "output_type": "stream",
     "text": [
      "100%|██████████| 82/82 [00:09<00:00,  8.26it/s]"
     ]
    },
    {
     "name": "stdout",
     "output_type": "stream",
     "text": [
      "              precision    recall  f1-score   support\n",
      "\n",
      "           0      0.759     0.928     0.835       194\n",
      "           1      0.994     0.935     0.963       859\n",
      "           2      0.921     0.951     0.935       244\n",
      "\n",
      "    accuracy                          0.937      1297\n",
      "   macro avg      0.891     0.938     0.911      1297\n",
      "weighted avg      0.945     0.937     0.939      1297\n",
      "\n"
     ]
    },
    {
     "name": "stderr",
     "output_type": "stream",
     "text": [
      "\n"
     ]
    }
   ],
   "source": [
    "show_classification_report(model)"
   ]
  },
  {
   "cell_type": "code",
   "execution_count": 34,
   "metadata": {},
   "outputs": [
    {
     "name": "stderr",
     "output_type": "stream",
     "text": [
      "100%|██████████| 82/82 [00:09<00:00,  8.45it/s]"
     ]
    },
    {
     "name": "stdout",
     "output_type": "stream",
     "text": [
      "              precision    recall  f1-score   support\n",
      "\n",
      "           0      0.699     0.933     0.799       194\n",
      "           1      0.994     0.907     0.948       859\n",
      "           2      0.933     0.971     0.952       244\n",
      "\n",
      "    accuracy                          0.923      1297\n",
      "   macro avg      0.875     0.937     0.900      1297\n",
      "weighted avg      0.938     0.923     0.927      1297\n",
      "\n"
     ]
    },
    {
     "name": "stderr",
     "output_type": "stream",
     "text": [
      "\n"
     ]
    }
   ],
   "source": [
    "model_legal = BertClassifier('nlpaueb/legal-bert-base-uncased')\n",
    "model_legal.load_state_dict(torch.load('models/legal-bert-base_3.pt'))\n",
    "show_classification_report(model_legal)"
   ]
  },
  {
   "cell_type": "code",
   "execution_count": 7,
   "metadata": {},
   "outputs": [
    {
     "name": "stdout",
     "output_type": "stream",
     "text": [
      "Test Accuracy:  0.960\n",
      "Test F1:  0.939\n",
      "Test Precision:  0.940\n",
      "Test Recall:  0.956\n"
     ]
    }
   ],
   "source": [
    "evaluate(roberta_model, test_dataloader)"
   ]
  },
  {
   "cell_type": "code",
   "execution_count": 9,
   "metadata": {},
   "outputs": [
    {
     "name": "stderr",
     "output_type": "stream",
     "text": [
      "100%|██████████| 82/82 [00:09<00:00,  8.41it/s]"
     ]
    },
    {
     "name": "stdout",
     "output_type": "stream",
     "text": [
      "              precision    recall  f1-score   support\n",
      "\n",
      "           0      0.791     0.974     0.873       194\n",
      "           1      0.996     0.956     0.976       859\n",
      "           2      0.983     0.943     0.962       244\n",
      "\n",
      "    accuracy                          0.956      1297\n",
      "   macro avg      0.923     0.958     0.937      1297\n",
      "weighted avg      0.963     0.956     0.958      1297\n",
      "\n"
     ]
    },
    {
     "name": "stderr",
     "output_type": "stream",
     "text": [
      "\n"
     ]
    }
   ],
   "source": [
    "show_classification_report(roberta_model)"
   ]
  },
  {
   "cell_type": "code",
   "execution_count": null,
   "metadata": {},
   "outputs": [],
   "source": []
  }
 ],
 "metadata": {
  "kernelspec": {
   "display_name": "Python 3.8.13 ('autogluon')",
   "language": "python",
   "name": "python3"
  },
  "language_info": {
   "codemirror_mode": {
    "name": "ipython",
    "version": 3
   },
   "file_extension": ".py",
   "mimetype": "text/x-python",
   "name": "python",
   "nbconvert_exporter": "python",
   "pygments_lexer": "ipython3",
   "version": "3.8.13"
  },
  "orig_nbformat": 4,
  "vscode": {
   "interpreter": {
    "hash": "97a06d2527e167c4c043963c01a95e0984769b56d7776884a1285b6e802cf552"
   }
  }
 },
 "nbformat": 4,
 "nbformat_minor": 2
}
