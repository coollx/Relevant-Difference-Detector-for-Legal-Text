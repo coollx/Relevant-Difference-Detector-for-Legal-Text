{
 "cells": [
  {
   "cell_type": "code",
   "execution_count": 3,
   "metadata": {},
   "outputs": [],
   "source": [
    "dir = 'data/full data/'\n",
    "\n",
    "import json\n",
    "import os\n",
    "import pandas as pd\n",
    "import xml.etree.ElementTree as ET\n",
    "from sklearn.model_selection import train_test_split\n",
    "\n",
    "\n",
    "import warnings\n",
    "warnings.filterwarnings('ignore')"
   ]
  },
  {
   "cell_type": "code",
   "execution_count": 5,
   "metadata": {},
   "outputs": [
    {
     "name": "stdout",
     "output_type": "stream",
     "text": [
      "Collecting xlrd\n",
      "  Using cached xlrd-2.0.1-py2.py3-none-any.whl (96 kB)\n",
      "Installing collected packages: xlrd\n",
      "Successfully installed xlrd-2.0.1\n"
     ]
    }
   ],
   "source": [
    "!pip install xlrd"
   ]
  },
  {
   "cell_type": "code",
   "execution_count": 6,
   "metadata": {},
   "outputs": [],
   "source": [
    "file = '../generated_data/similar_sentences_large.xlsx'\n",
    "df = pd.read_excel(file)"
   ]
  },
  {
   "cell_type": "code",
   "execution_count": 7,
   "metadata": {},
   "outputs": [
    {
     "data": {
      "text/plain": [
       "STYLYSTIC     8430\n",
       "IRRELEVANT    2469\n",
       "RELEVANT      2069\n",
       "Name: label, dtype: int64"
      ]
     },
     "execution_count": 7,
     "metadata": {},
     "output_type": "execute_result"
    }
   ],
   "source": [
    "df.label.value_counts()"
   ]
  },
  {
   "cell_type": "code",
   "execution_count": 8,
   "metadata": {},
   "outputs": [],
   "source": [
    "df_stage2 = df[['label', 'sentence1', 'sentence2']]\n",
    "label2int = {'RELEVANT': 0, 'STYLYSTIC': 1, 'IRRELEVANT': 2}\n",
    "df_stage2.label = df_stage2.label.map(label2int)\n",
    "\n",
    "#train test split\n",
    "train_df, test_df = train_test_split(df_stage2, test_size=0.2, random_state=42)"
   ]
  },
  {
   "cell_type": "code",
   "execution_count": 9,
   "metadata": {},
   "outputs": [
    {
     "data": {
      "text/plain": [
       "1    6728\n",
       "2    1994\n",
       "0    1652\n",
       "Name: label, dtype: int64"
      ]
     },
     "execution_count": 9,
     "metadata": {},
     "output_type": "execute_result"
    }
   ],
   "source": [
    "train_df.label.value_counts()"
   ]
  },
  {
   "cell_type": "code",
   "execution_count": 10,
   "metadata": {},
   "outputs": [
    {
     "data": {
      "text/plain": [
       "0    1652\n",
       "1    1652\n",
       "2    1652\n",
       "Name: label, dtype: int64"
      ]
     },
     "execution_count": 10,
     "metadata": {},
     "output_type": "execute_result"
    }
   ],
   "source": [
    "from imblearn.under_sampling import RandomUnderSampler\n",
    "\n",
    "rus = RandomUnderSampler(random_state=42)\n",
    "X_res, y_res = rus.fit_resample(train_df[['sentence1', 'sentence2']], train_df.label)\n",
    "train_df = pd.DataFrame(X_res, columns=['sentence1', 'sentence2'])\n",
    "train_df['label'] = y_res\n",
    "\n",
    "train_df.label.value_counts()\n",
    "\n",
    "#sample 2000 from the  class = 1\n",
    "# train_df[train_df.label == 1] = train_df[train_df.label == 1].sample(2000, random_state=42)\n",
    "# train_df.label.value_counts()"
   ]
  },
  {
   "cell_type": "code",
   "execution_count": 7,
   "metadata": {},
   "outputs": [
    {
     "data": {
      "text/plain": [
       "1    1702\n",
       "2     475\n",
       "0     417\n",
       "Name: label, dtype: int64"
      ]
     },
     "execution_count": 7,
     "metadata": {},
     "output_type": "execute_result"
    }
   ],
   "source": [
    "test_df.label.value_counts()"
   ]
  },
  {
   "cell_type": "code",
   "execution_count": 8,
   "metadata": {},
   "outputs": [
    {
     "name": "stderr",
     "output_type": "stream",
     "text": [
      "Global seed set to 42\n",
      "Warning: path already exists! This predictor may overwrite an existing predictor! path=\".models/models_diffrence_detector\"\n",
      "Auto select gpus: [0]\n",
      "Using 16bit native Automatic Mixed Precision (AMP)\n",
      "GPU available: True, used: True\n",
      "TPU available: False, using: 0 TPU cores\n",
      "IPU available: False, using: 0 IPUs\n",
      "HPU available: False, using: 0 HPUs\n",
      "LOCAL_RANK: 0 - CUDA_VISIBLE_DEVICES: [0]\n",
      "\n",
      "  | Name              | Type                         | Params\n",
      "-------------------------------------------------------------------\n",
      "0 | model             | HFAutoModelForTextPrediction | 355 M \n",
      "1 | validation_metric | Accuracy                     | 0     \n",
      "2 | loss_func         | CrossEntropyLoss             | 0     \n",
      "-------------------------------------------------------------------\n",
      "355 M     Trainable params\n",
      "0         Non-trainable params\n",
      "355 M     Total params\n",
      "710.726   Total estimated model params size (MB)\n"
     ]
    },
    {
     "data": {
      "application/vnd.jupyter.widget-view+json": {
       "model_id": "fb81a7fc62114fd496c93b0ce4a9e5f7",
       "version_major": 2,
       "version_minor": 0
      },
      "text/plain": [
       "Sanity Checking: 0it [00:00, ?it/s]"
      ]
     },
     "metadata": {},
     "output_type": "display_data"
    },
    {
     "data": {
      "application/vnd.jupyter.widget-view+json": {
       "model_id": "75baa3beb00f4e2da52083bb8b0575d3",
       "version_major": 2,
       "version_minor": 0
      },
      "text/plain": [
       "Training: 0it [00:00, ?it/s]"
      ]
     },
     "metadata": {},
     "output_type": "display_data"
    },
    {
     "data": {
      "application/vnd.jupyter.widget-view+json": {
       "model_id": "3bb3a77268284412b847cec67cfb663d",
       "version_major": 2,
       "version_minor": 0
      },
      "text/plain": [
       "Validation: 0it [00:00, ?it/s]"
      ]
     },
     "metadata": {},
     "output_type": "display_data"
    },
    {
     "name": "stderr",
     "output_type": "stream",
     "text": [
      "Epoch 0, global step 17: 'val_accuracy' reached 0.72400 (best 0.72400), saving model to 'D:\\\\x\\\\cs\\\\project\\\\AI4LEGAL\\\\relevant_difference_detection\\\\.models\\\\models_diffrence_detector\\\\epoch=0-step=17.ckpt' as top 3\n"
     ]
    },
    {
     "data": {
      "application/vnd.jupyter.widget-view+json": {
       "model_id": "75522fe842874dedb622debe463c0e12",
       "version_major": 2,
       "version_minor": 0
      },
      "text/plain": [
       "Validation: 0it [00:00, ?it/s]"
      ]
     },
     "metadata": {},
     "output_type": "display_data"
    },
    {
     "name": "stderr",
     "output_type": "stream",
     "text": [
      "Epoch 0, global step 34: 'val_accuracy' reached 0.87800 (best 0.87800), saving model to 'D:\\\\x\\\\cs\\\\project\\\\AI4LEGAL\\\\relevant_difference_detection\\\\.models\\\\models_diffrence_detector\\\\epoch=0-step=34.ckpt' as top 3\n"
     ]
    },
    {
     "data": {
      "application/vnd.jupyter.widget-view+json": {
       "model_id": "77aa8cc4c3af46deaf838d8765164de8",
       "version_major": 2,
       "version_minor": 0
      },
      "text/plain": [
       "Validation: 0it [00:00, ?it/s]"
      ]
     },
     "metadata": {},
     "output_type": "display_data"
    },
    {
     "name": "stderr",
     "output_type": "stream",
     "text": [
      "Epoch 1, global step 52: 'val_accuracy' reached 0.92800 (best 0.92800), saving model to 'D:\\\\x\\\\cs\\\\project\\\\AI4LEGAL\\\\relevant_difference_detection\\\\.models\\\\models_diffrence_detector\\\\epoch=1-step=52.ckpt' as top 3\n"
     ]
    },
    {
     "data": {
      "application/vnd.jupyter.widget-view+json": {
       "model_id": "03889fc8b8e34a36adb6f22cc1fd75ab",
       "version_major": 2,
       "version_minor": 0
      },
      "text/plain": [
       "Validation: 0it [00:00, ?it/s]"
      ]
     },
     "metadata": {},
     "output_type": "display_data"
    },
    {
     "name": "stderr",
     "output_type": "stream",
     "text": [
      "Epoch 1, global step 69: 'val_accuracy' reached 0.98400 (best 0.98400), saving model to 'D:\\\\x\\\\cs\\\\project\\\\AI4LEGAL\\\\relevant_difference_detection\\\\.models\\\\models_diffrence_detector\\\\epoch=1-step=69.ckpt' as top 3\n"
     ]
    },
    {
     "data": {
      "application/vnd.jupyter.widget-view+json": {
       "model_id": "d2775b65ddb94aa9adec7c9e8e427698",
       "version_major": 2,
       "version_minor": 0
      },
      "text/plain": [
       "Validation: 0it [00:00, ?it/s]"
      ]
     },
     "metadata": {},
     "output_type": "display_data"
    },
    {
     "name": "stderr",
     "output_type": "stream",
     "text": [
      "Epoch 2, global step 87: 'val_accuracy' reached 0.96400 (best 0.98400), saving model to 'D:\\\\x\\\\cs\\\\project\\\\AI4LEGAL\\\\relevant_difference_detection\\\\.models\\\\models_diffrence_detector\\\\epoch=2-step=87.ckpt' as top 3\n"
     ]
    },
    {
     "data": {
      "application/vnd.jupyter.widget-view+json": {
       "model_id": "6ef841eb7cd741f3a8d6b231ca548a4f",
       "version_major": 2,
       "version_minor": 0
      },
      "text/plain": [
       "Validation: 0it [00:00, ?it/s]"
      ]
     },
     "metadata": {},
     "output_type": "display_data"
    },
    {
     "name": "stderr",
     "output_type": "stream",
     "text": [
      "Epoch 2, global step 104: 'val_accuracy' reached 0.98800 (best 0.98800), saving model to 'D:\\\\x\\\\cs\\\\project\\\\AI4LEGAL\\\\relevant_difference_detection\\\\.models\\\\models_diffrence_detector\\\\epoch=2-step=104.ckpt' as top 3\n"
     ]
    },
    {
     "data": {
      "application/vnd.jupyter.widget-view+json": {
       "model_id": "d1aa4d3708c643558266dba6511f388b",
       "version_major": 2,
       "version_minor": 0
      },
      "text/plain": [
       "Validation: 0it [00:00, ?it/s]"
      ]
     },
     "metadata": {},
     "output_type": "display_data"
    },
    {
     "name": "stderr",
     "output_type": "stream",
     "text": [
      "Epoch 3, global step 122: 'val_accuracy' reached 0.98600 (best 0.98800), saving model to 'D:\\\\x\\\\cs\\\\project\\\\AI4LEGAL\\\\relevant_difference_detection\\\\.models\\\\models_diffrence_detector\\\\epoch=3-step=122.ckpt' as top 3\n"
     ]
    },
    {
     "data": {
      "application/vnd.jupyter.widget-view+json": {
       "model_id": "afab3d10ab33477d8d4f02efeee87e62",
       "version_major": 2,
       "version_minor": 0
      },
      "text/plain": [
       "Validation: 0it [00:00, ?it/s]"
      ]
     },
     "metadata": {},
     "output_type": "display_data"
    },
    {
     "name": "stderr",
     "output_type": "stream",
     "text": [
      "Epoch 3, global step 139: 'val_accuracy' reached 0.99200 (best 0.99200), saving model to 'D:\\\\x\\\\cs\\\\project\\\\AI4LEGAL\\\\relevant_difference_detection\\\\.models\\\\models_diffrence_detector\\\\epoch=3-step=139.ckpt' as top 3\n"
     ]
    },
    {
     "data": {
      "application/vnd.jupyter.widget-view+json": {
       "model_id": "5008ba475bfc4db9ae29ced8d1f0caa0",
       "version_major": 2,
       "version_minor": 0
      },
      "text/plain": [
       "Validation: 0it [00:00, ?it/s]"
      ]
     },
     "metadata": {},
     "output_type": "display_data"
    },
    {
     "name": "stderr",
     "output_type": "stream",
     "text": [
      "Epoch 4, global step 157: 'val_accuracy' was not in top 3\n"
     ]
    },
    {
     "data": {
      "application/vnd.jupyter.widget-view+json": {
       "model_id": "96c4367c569947ccbea186bb5bb29510",
       "version_major": 2,
       "version_minor": 0
      },
      "text/plain": [
       "Validation: 0it [00:00, ?it/s]"
      ]
     },
     "metadata": {},
     "output_type": "display_data"
    },
    {
     "name": "stderr",
     "output_type": "stream",
     "text": [
      "Epoch 4, global step 174: 'val_accuracy' reached 0.99800 (best 0.99800), saving model to 'D:\\\\x\\\\cs\\\\project\\\\AI4LEGAL\\\\relevant_difference_detection\\\\.models\\\\models_diffrence_detector\\\\epoch=4-step=174.ckpt' as top 3\n"
     ]
    },
    {
     "data": {
      "application/vnd.jupyter.widget-view+json": {
       "model_id": "ef198a5e58984b47957a1d2dcabeba02",
       "version_major": 2,
       "version_minor": 0
      },
      "text/plain": [
       "Validation: 0it [00:00, ?it/s]"
      ]
     },
     "metadata": {},
     "output_type": "display_data"
    },
    {
     "name": "stderr",
     "output_type": "stream",
     "text": [
      "Epoch 5, global step 192: 'val_accuracy' reached 0.99600 (best 0.99800), saving model to 'D:\\\\x\\\\cs\\\\project\\\\AI4LEGAL\\\\relevant_difference_detection\\\\.models\\\\models_diffrence_detector\\\\epoch=5-step=192.ckpt' as top 3\n"
     ]
    },
    {
     "data": {
      "application/vnd.jupyter.widget-view+json": {
       "model_id": "afe23ec4daae4b1983fd7145be4b8962",
       "version_major": 2,
       "version_minor": 0
      },
      "text/plain": [
       "Validation: 0it [00:00, ?it/s]"
      ]
     },
     "metadata": {},
     "output_type": "display_data"
    },
    {
     "name": "stderr",
     "output_type": "stream",
     "text": [
      "Epoch 5, global step 209: 'val_accuracy' was not in top 3\n"
     ]
    },
    {
     "data": {
      "application/vnd.jupyter.widget-view+json": {
       "model_id": "46338f37de1740079e9bd47acbfd9641",
       "version_major": 2,
       "version_minor": 0
      },
      "text/plain": [
       "Validation: 0it [00:00, ?it/s]"
      ]
     },
     "metadata": {},
     "output_type": "display_data"
    },
    {
     "name": "stderr",
     "output_type": "stream",
     "text": [
      "Epoch 6, global step 227: 'val_accuracy' reached 0.99800 (best 0.99800), saving model to 'D:\\\\x\\\\cs\\\\project\\\\AI4LEGAL\\\\relevant_difference_detection\\\\.models\\\\models_diffrence_detector\\\\epoch=6-step=227.ckpt' as top 3\n"
     ]
    },
    {
     "data": {
      "application/vnd.jupyter.widget-view+json": {
       "model_id": "8924ae494b8a4d0bb446f469cf2fd7b9",
       "version_major": 2,
       "version_minor": 0
      },
      "text/plain": [
       "Validation: 0it [00:00, ?it/s]"
      ]
     },
     "metadata": {},
     "output_type": "display_data"
    },
    {
     "name": "stderr",
     "output_type": "stream",
     "text": [
      "Epoch 6, global step 244: 'val_accuracy' reached 0.99800 (best 0.99800), saving model to 'D:\\\\x\\\\cs\\\\project\\\\AI4LEGAL\\\\relevant_difference_detection\\\\.models\\\\models_diffrence_detector\\\\epoch=6-step=244.ckpt' as top 3\n"
     ]
    },
    {
     "data": {
      "application/vnd.jupyter.widget-view+json": {
       "model_id": "8c172437b17941618a16165241d8954e",
       "version_major": 2,
       "version_minor": 0
      },
      "text/plain": [
       "Validation: 0it [00:00, ?it/s]"
      ]
     },
     "metadata": {},
     "output_type": "display_data"
    },
    {
     "name": "stderr",
     "output_type": "stream",
     "text": [
      "Epoch 7, global step 262: 'val_accuracy' was not in top 3\n"
     ]
    },
    {
     "data": {
      "application/vnd.jupyter.widget-view+json": {
       "model_id": "31d40b14f1e04713b195390de482e094",
       "version_major": 2,
       "version_minor": 0
      },
      "text/plain": [
       "Validation: 0it [00:00, ?it/s]"
      ]
     },
     "metadata": {},
     "output_type": "display_data"
    },
    {
     "name": "stderr",
     "output_type": "stream",
     "text": [
      "Epoch 7, global step 279: 'val_accuracy' was not in top 3\n"
     ]
    },
    {
     "data": {
      "application/vnd.jupyter.widget-view+json": {
       "model_id": "180c003b1af444529cd8895b65f77aed",
       "version_major": 2,
       "version_minor": 0
      },
      "text/plain": [
       "Validation: 0it [00:00, ?it/s]"
      ]
     },
     "metadata": {},
     "output_type": "display_data"
    },
    {
     "name": "stderr",
     "output_type": "stream",
     "text": [
      "Epoch 8, global step 297: 'val_accuracy' was not in top 3\n"
     ]
    },
    {
     "data": {
      "application/vnd.jupyter.widget-view+json": {
       "model_id": "72f1f67318024cf9a44f2869ea2ec3be",
       "version_major": 2,
       "version_minor": 0
      },
      "text/plain": [
       "Validation: 0it [00:00, ?it/s]"
      ]
     },
     "metadata": {},
     "output_type": "display_data"
    },
    {
     "name": "stderr",
     "output_type": "stream",
     "text": [
      "Epoch 8, global step 314: 'val_accuracy' was not in top 3\n"
     ]
    },
    {
     "data": {
      "application/vnd.jupyter.widget-view+json": {
       "model_id": "bc44c27b86f54e73be686ccde30e8b59",
       "version_major": 2,
       "version_minor": 0
      },
      "text/plain": [
       "Validation: 0it [00:00, ?it/s]"
      ]
     },
     "metadata": {},
     "output_type": "display_data"
    },
    {
     "name": "stderr",
     "output_type": "stream",
     "text": [
      "Epoch 9, global step 332: 'val_accuracy' was not in top 3\n"
     ]
    },
    {
     "data": {
      "application/vnd.jupyter.widget-view+json": {
       "model_id": "bd8a0bc54b5e48b399ea5fa3b1331987",
       "version_major": 2,
       "version_minor": 0
      },
      "text/plain": [
       "Validation: 0it [00:00, ?it/s]"
      ]
     },
     "metadata": {},
     "output_type": "display_data"
    },
    {
     "name": "stderr",
     "output_type": "stream",
     "text": [
      "Epoch 9, global step 349: 'val_accuracy' was not in top 3\n",
      "Start to fuse 3 checkpoints via the greedy soup algorithm.\n"
     ]
    },
    {
     "data": {
      "application/vnd.jupyter.widget-view+json": {
       "model_id": "69e243307a6340e8b68af9cc72864800",
       "version_major": 2,
       "version_minor": 0
      },
      "text/plain": [
       "Predicting: 0it [00:00, ?it/s]"
      ]
     },
     "metadata": {},
     "output_type": "display_data"
    },
    {
     "data": {
      "application/vnd.jupyter.widget-view+json": {
       "model_id": "a139b6bb00654fa2bf1874fcf889638b",
       "version_major": 2,
       "version_minor": 0
      },
      "text/plain": [
       "Predicting: 0it [00:00, ?it/s]"
      ]
     },
     "metadata": {},
     "output_type": "display_data"
    },
    {
     "data": {
      "application/vnd.jupyter.widget-view+json": {
       "model_id": "f6a9eaff418540619dcb74b2e44b4a66",
       "version_major": 2,
       "version_minor": 0
      },
      "text/plain": [
       "Predicting: 0it [00:00, ?it/s]"
      ]
     },
     "metadata": {},
     "output_type": "display_data"
    },
    {
     "data": {
      "text/plain": [
       "<autogluon.text.text_prediction.predictor.TextPredictor at 0x1f22287a040>"
      ]
     },
     "execution_count": 8,
     "metadata": {},
     "output_type": "execute_result"
    }
   ],
   "source": [
    "from autogluon.text import TextPredictor\n",
    "\n",
    "baseline_predictor = TextPredictor(\n",
    "    label='label', \n",
    "    problem_type='classification',\n",
    "    eval_metric='accuracy', \n",
    "    path='.models/models_diffrence_detector'\n",
    ")\n",
    "baseline_predictor.fit(\n",
    "    train_df, \n",
    "    time_limit=None, \n",
    "    hyperparameters={\n",
    "            \"model.hf_text.checkpoint_name\": \"roberta-large\",\n",
    "    }, seed = 42)"
   ]
  },
  {
   "cell_type": "code",
   "execution_count": 9,
   "metadata": {},
   "outputs": [
    {
     "data": {
      "application/vnd.jupyter.widget-view+json": {
       "model_id": "5959519187924165b2a7567a035be866",
       "version_major": 2,
       "version_minor": 0
      },
      "text/plain": [
       "Predicting: 0it [00:00, ?it/s]"
      ]
     },
     "metadata": {},
     "output_type": "display_data"
    },
    {
     "name": "stdout",
     "output_type": "stream",
     "text": [
      "{'acc': 0.992289899768697}\n"
     ]
    }
   ],
   "source": [
    "test_score = baseline_predictor.evaluate(test_df, metrics=['acc'])\n",
    "print(test_score)"
   ]
  },
  {
   "cell_type": "code",
   "execution_count": 29,
   "metadata": {},
   "outputs": [
    {
     "data": {
      "text/html": [
       "<div>\n",
       "<style scoped>\n",
       "    .dataframe tbody tr th:only-of-type {\n",
       "        vertical-align: middle;\n",
       "    }\n",
       "\n",
       "    .dataframe tbody tr th {\n",
       "        vertical-align: top;\n",
       "    }\n",
       "\n",
       "    .dataframe thead th {\n",
       "        text-align: right;\n",
       "    }\n",
       "</style>\n",
       "<table border=\"1\" class=\"dataframe\">\n",
       "  <thead>\n",
       "    <tr style=\"text-align: right;\">\n",
       "      <th></th>\n",
       "      <th>label</th>\n",
       "      <th>sentence1</th>\n",
       "      <th>sentence2</th>\n",
       "    </tr>\n",
       "  </thead>\n",
       "  <tbody>\n",
       "    <tr>\n",
       "      <th>70</th>\n",
       "      <td>0</td>\n",
       "      <td>earnings of nationals or residents of the othe...</td>\n",
       "      <td>the earnings of nationals of the other contrac...</td>\n",
       "    </tr>\n",
       "  </tbody>\n",
       "</table>\n",
       "</div>"
      ],
      "text/plain": [
       "    label                                          sentence1  \\\n",
       "70      0  earnings of nationals or residents of the othe...   \n",
       "\n",
       "                                            sentence2  \n",
       "70  the earnings of nationals of the other contrac...  "
      ]
     },
     "execution_count": 29,
     "metadata": {},
     "output_type": "execute_result"
    }
   ],
   "source": [
    "test_df.iloc[[0]]"
   ]
  },
  {
   "cell_type": "code",
   "execution_count": 30,
   "metadata": {},
   "outputs": [
    {
     "data": {
      "application/vnd.jupyter.widget-view+json": {
       "model_id": "26298908f255429dbd002d2d28d020b3",
       "version_major": 2,
       "version_minor": 0
      },
      "text/plain": [
       "Predicting: 0it [00:00, ?it/s]"
      ]
     },
     "metadata": {},
     "output_type": "display_data"
    },
    {
     "data": {
      "text/plain": [
       "70    0\n",
       "Name: label, dtype: int64"
      ]
     },
     "execution_count": 30,
     "metadata": {},
     "output_type": "execute_result"
    }
   ],
   "source": [
    "#inferece on the first row of test_df\n",
    "baseline_predictor.predict(test_df.iloc[0:1, 1:3])"
   ]
  },
  {
   "cell_type": "code",
   "execution_count": 43,
   "metadata": {},
   "outputs": [
    {
     "data": {
      "text/html": [
       "<div>\n",
       "<style scoped>\n",
       "    .dataframe tbody tr th:only-of-type {\n",
       "        vertical-align: middle;\n",
       "    }\n",
       "\n",
       "    .dataframe tbody tr th {\n",
       "        vertical-align: top;\n",
       "    }\n",
       "\n",
       "    .dataframe thead th {\n",
       "        text-align: right;\n",
       "    }\n",
       "</style>\n",
       "<table border=\"1\" class=\"dataframe\">\n",
       "  <thead>\n",
       "    <tr style=\"text-align: right;\">\n",
       "      <th></th>\n",
       "      <th>sentence1</th>\n",
       "      <th>sentence2</th>\n",
       "    </tr>\n",
       "  </thead>\n",
       "  <tbody>\n",
       "    <tr>\n",
       "      <th>95</th>\n",
       "      <td>returns means the amounts after payment of tax...</td>\n",
       "      <td>the term returns means the amounts yielded by...</td>\n",
       "    </tr>\n",
       "  </tbody>\n",
       "</table>\n",
       "</div>"
      ],
      "text/plain": [
       "                                            sentence1  \\\n",
       "95  returns means the amounts after payment of tax...   \n",
       "\n",
       "                                            sentence2  \n",
       "95   the term returns means the amounts yielded by...  "
      ]
     },
     "execution_count": 43,
     "metadata": {},
     "output_type": "execute_result"
    }
   ],
   "source": [
    "test_df.iloc[0:1, 1:3]"
   ]
  },
  {
   "cell_type": "code",
   "execution_count": 33,
   "metadata": {},
   "outputs": [
    {
     "data": {
      "text/html": [
       "<div>\n",
       "<style scoped>\n",
       "    .dataframe tbody tr th:only-of-type {\n",
       "        vertical-align: middle;\n",
       "    }\n",
       "\n",
       "    .dataframe tbody tr th {\n",
       "        vertical-align: top;\n",
       "    }\n",
       "\n",
       "    .dataframe thead th {\n",
       "        text-align: right;\n",
       "    }\n",
       "</style>\n",
       "<table border=\"1\" class=\"dataframe\">\n",
       "  <thead>\n",
       "    <tr style=\"text-align: right;\">\n",
       "      <th></th>\n",
       "      <th>Label</th>\n",
       "      <th>sentence1</th>\n",
       "      <th>sentence2</th>\n",
       "    </tr>\n",
       "  </thead>\n",
       "  <tbody>\n",
       "    <tr>\n",
       "      <th>95</th>\n",
       "      <td>0</td>\n",
       "      <td>returns means the amounts after payment of tax...</td>\n",
       "      <td>the term returns means the amounts yielded by...</td>\n",
       "    </tr>\n",
       "    <tr>\n",
       "      <th>15</th>\n",
       "      <td>1</td>\n",
       "      <td>business concessions conferred by law by admin...</td>\n",
       "      <td>rights to engage in economic activities confe...</td>\n",
       "    </tr>\n",
       "    <tr>\n",
       "      <th>30</th>\n",
       "      <td>0</td>\n",
       "      <td>investors of either contracting party whose in...</td>\n",
       "      <td>without prejudice to the provisions of article...</td>\n",
       "    </tr>\n",
       "    <tr>\n",
       "      <th>159</th>\n",
       "      <td>1</td>\n",
       "      <td>where the measures are accompanied by provisio...</td>\n",
       "      <td>the measures are accompanied by provisions for...</td>\n",
       "    </tr>\n",
       "    <tr>\n",
       "      <th>186</th>\n",
       "      <td>1</td>\n",
       "      <td>investors of one contracting party whose inves...</td>\n",
       "      <td>investments of either contracting state or any...</td>\n",
       "    </tr>\n",
       "  </tbody>\n",
       "</table>\n",
       "</div>"
      ],
      "text/plain": [
       "     Label                                          sentence1  \\\n",
       "95       0  returns means the amounts after payment of tax...   \n",
       "15       1  business concessions conferred by law by admin...   \n",
       "30       0  investors of either contracting party whose in...   \n",
       "159      1  where the measures are accompanied by provisio...   \n",
       "186      1  investors of one contracting party whose inves...   \n",
       "\n",
       "                                             sentence2  \n",
       "95    the term returns means the amounts yielded by...  \n",
       "15    rights to engage in economic activities confe...  \n",
       "30   without prejudice to the provisions of article...  \n",
       "159  the measures are accompanied by provisions for...  \n",
       "186  investments of either contracting state or any...  "
      ]
     },
     "execution_count": 33,
     "metadata": {},
     "output_type": "execute_result"
    }
   ],
   "source": [
    "test_df.head()"
   ]
  },
  {
   "cell_type": "code",
   "execution_count": 48,
   "metadata": {},
   "outputs": [
    {
     "name": "stdout",
     "output_type": "stream",
     "text": [
      "returns means the amounts after payment of tax yielded by such investments and in particular though not exclusively includes profits interest capital gains dividends royalties or fees \n",
      "  the term returns means the amounts yielded by an investment and includes in particular though not exclusively profit interest capital gains royalties fees and dividends\n"
     ]
    }
   ],
   "source": [
    "print(test_df.iloc[0:1, 1:3].sentence1.values[0], '\\n', test_df.iloc[0:1, 1:3].sentence2.values[0])"
   ]
  },
  {
   "cell_type": "code",
   "execution_count": 11,
   "metadata": {},
   "outputs": [
    {
     "name": "stderr",
     "output_type": "stream",
     "text": [
      "Load pretrained checkpoint: .models/models_diffrence_detector\\model.ckpt\n"
     ]
    }
   ],
   "source": [
    "#load the model from the disk\n",
    "from autogluon.text import TextPredictor\n",
    "predictor = TextPredictor.load('.models/models_diffrence_detector')"
   ]
  },
  {
   "cell_type": "code",
   "execution_count": 12,
   "metadata": {},
   "outputs": [
    {
     "data": {
      "application/vnd.jupyter.widget-view+json": {
       "model_id": "bfa8f21786344958a3d73bc5f7d406ee",
       "version_major": 2,
       "version_minor": 0
      },
      "text/plain": [
       "Predicting: 0it [00:00, ?it/s]"
      ]
     },
     "metadata": {},
     "output_type": "display_data"
    },
    {
     "data": {
      "text/html": [
       "<div>\n",
       "<style scoped>\n",
       "    .dataframe tbody tr th:only-of-type {\n",
       "        vertical-align: middle;\n",
       "    }\n",
       "\n",
       "    .dataframe tbody tr th {\n",
       "        vertical-align: top;\n",
       "    }\n",
       "\n",
       "    .dataframe thead th {\n",
       "        text-align: right;\n",
       "    }\n",
       "</style>\n",
       "<table border=\"1\" class=\"dataframe\">\n",
       "  <thead>\n",
       "    <tr style=\"text-align: right;\">\n",
       "      <th></th>\n",
       "      <th>label</th>\n",
       "      <th>sentence1</th>\n",
       "      <th>sentence2</th>\n",
       "      <th>prediction</th>\n",
       "      <th>correct</th>\n",
       "    </tr>\n",
       "  </thead>\n",
       "  <tbody>\n",
       "    <tr>\n",
       "      <th>1358</th>\n",
       "      <td>0</td>\n",
       "      <td>the investor affected shall have a right under...</td>\n",
       "      <td>the investor whose investments are expropriate...</td>\n",
       "      <td>1</td>\n",
       "      <td>False</td>\n",
       "    </tr>\n",
       "    <tr>\n",
       "      <th>2439</th>\n",
       "      <td>2</td>\n",
       "      <td>investments made by nationals or companies of ...</td>\n",
       "      <td>the investments and itsreturns in paragraph 1 ...</td>\n",
       "      <td>0</td>\n",
       "      <td>False</td>\n",
       "    </tr>\n",
       "    <tr>\n",
       "      <th>1433</th>\n",
       "      <td>1</td>\n",
       "      <td>compensation shall amount to the real value of...</td>\n",
       "      <td>compensation shall match the market value of t...</td>\n",
       "      <td>0</td>\n",
       "      <td>False</td>\n",
       "    </tr>\n",
       "    <tr>\n",
       "      <th>902</th>\n",
       "      <td>1</td>\n",
       "      <td>contracting party shall encourage investments ...</td>\n",
       "      <td>each contracting party shall in its territory ...</td>\n",
       "      <td>0</td>\n",
       "      <td>False</td>\n",
       "    </tr>\n",
       "    <tr>\n",
       "      <th>8892</th>\n",
       "      <td>1</td>\n",
       "      <td>a contracting party by virtue of a guarantee g...</td>\n",
       "      <td>one contracting party has provided a financial...</td>\n",
       "      <td>0</td>\n",
       "      <td>False</td>\n",
       "    </tr>\n",
       "  </tbody>\n",
       "</table>\n",
       "</div>"
      ],
      "text/plain": [
       "      label                                          sentence1  \\\n",
       "1358      0  the investor affected shall have a right under...   \n",
       "2439      2  investments made by nationals or companies of ...   \n",
       "1433      1  compensation shall amount to the real value of...   \n",
       "902       1  contracting party shall encourage investments ...   \n",
       "8892      1  a contracting party by virtue of a guarantee g...   \n",
       "\n",
       "                                              sentence2  prediction  correct  \n",
       "1358  the investor whose investments are expropriate...           1    False  \n",
       "2439  the investments and itsreturns in paragraph 1 ...           0    False  \n",
       "1433  compensation shall match the market value of t...           0    False  \n",
       "902   each contracting party shall in its territory ...           0    False  \n",
       "8892  one contracting party has provided a financial...           0    False  "
      ]
     },
     "execution_count": 12,
     "metadata": {},
     "output_type": "execute_result"
    }
   ],
   "source": [
    "#test on test_df and filter out the ones that are misclassified\n",
    "test_df['prediction'] = predictor.predict(test_df[['sentence1', 'sentence2']])\n",
    "test_df['correct'] = test_df.label == test_df.prediction\n",
    "test_df = test_df[test_df.correct == False]\n",
    "test_df.head()"
   ]
  },
  {
   "cell_type": "code",
   "execution_count": 17,
   "metadata": {},
   "outputs": [
    {
     "data": {
      "text/html": [
       "<div>\n",
       "<style scoped>\n",
       "    .dataframe tbody tr th:only-of-type {\n",
       "        vertical-align: middle;\n",
       "    }\n",
       "\n",
       "    .dataframe tbody tr th {\n",
       "        vertical-align: top;\n",
       "    }\n",
       "\n",
       "    .dataframe thead th {\n",
       "        text-align: right;\n",
       "    }\n",
       "</style>\n",
       "<table border=\"1\" class=\"dataframe\">\n",
       "  <thead>\n",
       "    <tr style=\"text-align: right;\">\n",
       "      <th></th>\n",
       "      <th>label</th>\n",
       "      <th>sentence1</th>\n",
       "      <th>sentence2</th>\n",
       "      <th>prediction</th>\n",
       "      <th>correct</th>\n",
       "    </tr>\n",
       "  </thead>\n",
       "  <tbody>\n",
       "    <tr>\n",
       "      <th>1358</th>\n",
       "      <td>0</td>\n",
       "      <td>the investor affected shall have a right under...</td>\n",
       "      <td>the investor whose investments are expropriate...</td>\n",
       "      <td>1</td>\n",
       "      <td>False</td>\n",
       "    </tr>\n",
       "    <tr>\n",
       "      <th>1188</th>\n",
       "      <td>0</td>\n",
       "      <td>the investor affected shall have a right under...</td>\n",
       "      <td>the investor affected by the expropriation sha...</td>\n",
       "      <td>1</td>\n",
       "      <td>False</td>\n",
       "    </tr>\n",
       "    <tr>\n",
       "      <th>1671</th>\n",
       "      <td>0</td>\n",
       "      <td>investments by investors of either contractin...</td>\n",
       "      <td>neither of the parties shall take measures of ...</td>\n",
       "      <td>1</td>\n",
       "      <td>False</td>\n",
       "    </tr>\n",
       "    <tr>\n",
       "      <th>1281</th>\n",
       "      <td>0</td>\n",
       "      <td>the investor affected shall have the right und...</td>\n",
       "      <td>the investor concerned shall be entitled under...</td>\n",
       "      <td>1</td>\n",
       "      <td>False</td>\n",
       "    </tr>\n",
       "  </tbody>\n",
       "</table>\n",
       "</div>"
      ],
      "text/plain": [
       "      label                                          sentence1  \\\n",
       "1358      0  the investor affected shall have a right under...   \n",
       "1188      0  the investor affected shall have a right under...   \n",
       "1671      0   investments by investors of either contractin...   \n",
       "1281      0  the investor affected shall have the right und...   \n",
       "\n",
       "                                              sentence2  prediction  correct  \n",
       "1358  the investor whose investments are expropriate...           1    False  \n",
       "1188  the investor affected by the expropriation sha...           1    False  \n",
       "1671  neither of the parties shall take measures of ...           1    False  \n",
       "1281  the investor concerned shall be entitled under...           1    False  "
      ]
     },
     "execution_count": 17,
     "metadata": {},
     "output_type": "execute_result"
    }
   ],
   "source": [
    "#conduct a manual inspection on the misclassified ones\n",
    "test_df[test_df.label == 0].head(10)"
   ]
  },
  {
   "cell_type": "code",
   "execution_count": 19,
   "metadata": {},
   "outputs": [
    {
     "data": {
      "text/plain": [
       "False    4\n",
       "Name: correct, dtype: int64"
      ]
     },
     "execution_count": 19,
     "metadata": {},
     "output_type": "execute_result"
    }
   ],
   "source": [
    "test_df[test_df.label == 0].correct.value_counts()"
   ]
  },
  {
   "cell_type": "code",
   "execution_count": 27,
   "metadata": {},
   "outputs": [
    {
     "data": {
      "text/plain": [
       "0.75"
      ]
     },
     "execution_count": 27,
     "metadata": {},
     "output_type": "execute_result"
    }
   ],
   "source": [
    "len(test_df[(test_df.prediction == 0)]) / len(test_df)"
   ]
  },
  {
   "cell_type": "code",
   "execution_count": 22,
   "metadata": {},
   "outputs": [
    {
     "name": "stdout",
     "output_type": "stream",
     "text": [
      "label:  0 prediction:  1\n",
      "the investor affected shall have a right under the law of the contracting party taking the measure of dispossession to review by a judicial or other independent authority of that party of his or its case and of the valuation of his or its investment in accordance with the principles set out in this paragraph \n",
      " the investor whose investments are expropriated shall have the right under the law of the expropriating contracting party to prompt review by a judicial or other competent authority of that contracting party of its case and of valuation of its investments in accordance with the principles set out in this article\n",
      "-----------------------------------------------------------------------------------------------------------------------\n",
      "label:  2 prediction:  0\n",
      "investments made by nationals or companies of either contracting party in the territory of the other contracting party shall not be subjected to a treatment less favourable than that accorded to investments made by nationals or companies of any third state \n",
      " the investments and itsreturns in paragraph 1 of this article shall be granted the facilitiesincentives and other forms of encouragement including tax exemptions and othercharges prescribed under the investment laws and regulations in force in both contracting parties\n",
      "-----------------------------------------------------------------------------------------------------------------------\n",
      "label:  1 prediction:  0\n",
      "compensation shall amount to the real value of the investment immediately before the deprivation or before the impending deprivation became public knowledge whichever is the earlier shall include interest at a normal commercial rate until the date of payment shall be made without undue delay be effectively realizable and be freely convertible \n",
      " compensation shall match the market value of the expropriated investment immediately before the expropriation or before the upcoming expropriation became known about the fact of it depending of what is happened before it will include normally accrued interest up to the date of payment it shall be delivered without undue delay to and freely transferable\n",
      "-----------------------------------------------------------------------------------------------------------------------\n",
      "label:  1 prediction:  0\n",
      "contracting party shall encourage investments made in its territory by investors of the other contracting party and shall accept such investments in accordance with its laws and regulations \n",
      " each contracting party shall in its territory promote investments by investors of the other contracting party and admit such investments in accordance with its laws and regulations\n",
      "-----------------------------------------------------------------------------------------------------------------------\n",
      "label:  1 prediction:  0\n",
      "a contracting party by virtue of a guarantee given for an investment in the territory of the other contracting party makes payments to its own nationals the other contracting party without prejudice to the rights of the first contracting party arising from article 9 shall recognize the transmission by law or contract of all rights and claims of such nationals to the first contracting party and the subrogation in its favor of all such rights and claims rights transmitted that the first contracting party shall be entitled to exercise to the same extent as its predecessor \n",
      " one contracting party has provided a financial guarantee against noncommercial risks in respect of an investment by one of its investors in the territory of the other contracting party the latter shall agree to the subrogation of the first contracting party in respect of the investors economic rights as from the time when the first contracting party makes a first payment to be charged against the guarantee it has provided this subrogation will enable the first contracting party to receive directly any payment of compensation to which the investor may be entitled\n",
      "-----------------------------------------------------------------------------------------------------------------------\n",
      "label:  1 prediction:  2\n",
      "royalties and fees related to transfer of technology agreements \n",
      " royalties and fees related to agreements on technology transfer\n",
      "-----------------------------------------------------------------------------------------------------------------------\n",
      "label:  1 prediction:  0\n",
      " each contracting party shall grant to investors of the other contracting party in relation to the administration use enjoyment or alienation of its investments or rents in its territory a treatment no less favorable than that which is granted to investors of any third state \n",
      " each contracting party shallgrant investors of the other  contracting party as regards theirmanagement use  enjoyment or disposal of their investments or returns  treatmentno less favourable than that which in like  circumstances it grants toinvestors of any third state\n",
      "-----------------------------------------------------------------------------------------------------------------------\n",
      "label:  2 prediction:  0\n",
      "provisions of this article shall not be construed so as to prevent a contracting party from fulfilling in good faith its obligations as a member of an economic and monetary union \n",
      " notwithstanding article 61 herein a contracting party may prevent a transfer through the equitable nondiscriminatory and good faith application of its laws in the following cases\n",
      "-----------------------------------------------------------------------------------------------------------------------\n",
      "label:  1 prediction:  0\n",
      "contracting party shall encourage and create favorable conditions for investors of the other contracting party to invest in its territory and shall admit such capital in accordance with its laws and regulations \n",
      " each contracting party shall to the extent possible encourage investment in its territory by investors of the other contracting party and accept such investments in accordance with its laws and regulations\n",
      "-----------------------------------------------------------------------------------------------------------------------\n",
      "label:  1 prediction:  0\n",
      "contracting party subject to its general policy on foreign investments shall promote in its territory investments of investors of the other contracting party \n",
      " contracting party shall promote investments in its territory by investors of the other contracting party and shall accept such investments in accordance with its legislation\n",
      "-----------------------------------------------------------------------------------------------------------------------\n",
      "label:  1 prediction:  0\n",
      "and activities related to investments of investors of one of the contracting parties shall not be subject de jure or de facto directly or indirectly to measures of nationalization expropriation requisition or any other similar measures including measures affecting companies and property controlled by the investor in the territory of the other contracting party except for reasons of public utility or national interest in such case immediate full and effective payment of compensation shall be provided for provided that such measures have been adopted on a nondiscriminatory basis and in accordance with all legal provisions and procedures \n",
      " investments of investors of either contracting party shall not be nationalised expropriated or subjected to measures having effect equivalent to nationalisation or expropriation in the territory of the other contracting party except for a public purpose based in accordance with legal procedures and against compensation such compensation shall amount to the market value of the expropriated investment immediately before the expropriation or before the impending expropriation became public knowledge shall include interest from the date of expropriation and be freely transferable compensation shall be effective adequate and be paid out without an undue delay\n",
      "-----------------------------------------------------------------------------------------------------------------------\n",
      "label:  2 prediction:  0\n",
      "— each contracting party in accordance with its laws and regulations shall allow the investor to engage top managerial and technical personnel of his choice regardless of nationality and grant the related permits \n",
      "  this agreement shall not prevent an investor of one party from taking advantage of the provisions of any law or policy of the other party which are more favourable than the provisions of this agreement\n",
      "-----------------------------------------------------------------------------------------------------------------------\n",
      "label:  0 prediction:  1\n",
      "the investor affected shall have a right under the law of the contracting party taking the measure of dispossession to review by a judicial or other independent authority of that party of his or its case and of the valuation of his or its investment in accordance with the principles set out in this paragraph \n",
      " the investor affected by the expropriation shall have right under the law of the contracting party making the expropriation to review by a judicial or other independent authority of that party of his or its case and of the valuation of his or its investment in accordance with the principles set out in this paragraph\n",
      "-----------------------------------------------------------------------------------------------------------------------\n",
      "label:  1 prediction:  0\n",
      "earnings of nationals of the other contracting party who are allowed to work in connection with investments in its territory \n",
      " remuneration of nationals of the other contracting party who are authorized to work in its territory in connection with an investment\n",
      "-----------------------------------------------------------------------------------------------------------------------\n",
      "label:  1 prediction:  0\n",
      "the earnings of nationals of the other contracting state who are allowed to work in connection with an investment in its territory \n",
      "  earnings of nationals of the other contracting party who work in connection with an investment in its territory\n",
      "-----------------------------------------------------------------------------------------------------------------------\n",
      "label:  1 prediction:  0\n",
      "each contracting party shall permit to investors of the other contracting party the free transfer  after discharge of fiscal obligations of their assets invested \n",
      " each contracting party shall grant to investors of the other contracting party the free transfer of all payments relating to an investment including more particularly\n",
      "-----------------------------------------------------------------------------------------------------------------------\n",
      "label:  1 prediction:  0\n",
      "a contracting party or its designated agency makes a payment to its own investors under a guarantee against noncommercial risks it has accorded in respect of investments in the territory of the other contracting party the latter contracting party shall recognize \n",
      " if one of the contracting parties by virtue of a guarantee given in respect of an investment made in the territory of the other contracting party makes its payment to investors it is thereby entered into the claims of rights and the investors\n",
      "-----------------------------------------------------------------------------------------------------------------------\n",
      "label:  1 prediction:  0\n",
      "one contracting party or its designated agency pays compensation to its own investors pursuant to a guarantee insurance contract or an indemnity providing coverage for an investment made in the territory of the other contracting party the first mentioned party has in this case full rights of subrogation with regard to the rights and actions of the said investor including the rights mentioned in article 12 \n",
      " if a contracting party or an agency authorised by it has granted an insurance or other financial guarantee against noncommercial risks with regard to an investment by one of its investors in the territory of the other contracting party the latter shall recognize the rights of the first contracting party of subrogation to 10s rights when the investor has made a payment under such insurance or guarantee\n",
      "-----------------------------------------------------------------------------------------------------------------------\n",
      "label:  0 prediction:  1\n",
      " investments by investors of either contracting party shall not be expropriated nationalized or subjected to any other measures the effects of which would be tantamount to expropriation or nationalization by the other contracting party except for the public benefit of that contracting party and against prompt adequate and effective compensation provided that these measures are not discriminatory and in accordance with domestic laws of general application \n",
      " neither of the parties shall take measures of expropriation nationalisation or dispossession or any other measures having effect equivalent to expropriation nationalisation or dispossession against investments belonging to nationals or companies of the other contracting party unless such measures are taken in the public interest on a nondiscriminatory basis and under due process of law and provided that provision be made for prompt effective and adequate compensation\n",
      "-----------------------------------------------------------------------------------------------------------------------\n",
      "label:  0 prediction:  1\n",
      "the investor affected shall have the right under the law of the contracting party making the expropriation to review by a judicial or other independent authority of that party of his or its case and of the valuation of his or its investment in accordance with the principles set out in this paragraph \n",
      " the investor concerned shall be entitled under the law of the contracting party effecting the dispossession to a review by the judicial or other independent authority of that party of the measure of dispossession and of the estimate of its investment or income in accordance with the principles set forth in this article\n",
      "-----------------------------------------------------------------------------------------------------------------------\n"
     ]
    }
   ],
   "source": [
    "#display the misclassified ones row by row\n",
    "for i in range(len(test_df)):\n",
    "    print('label: ', test_df.iloc[i].label, 'prediction: ', test_df.iloc[i].prediction)\n",
    "    print(test_df.iloc[i].sentence1, '\\n', test_df.iloc[i].sentence2)\n",
    "    print('-----------------------------------------------------------------------------------------------------------------------')"
   ]
  },
  {
   "cell_type": "code",
   "execution_count": null,
   "metadata": {},
   "outputs": [],
   "source": []
  }
 ],
 "metadata": {
  "kernelspec": {
   "display_name": "Python 3.8.13 ('autogluon')",
   "language": "python",
   "name": "python3"
  },
  "language_info": {
   "codemirror_mode": {
    "name": "ipython",
    "version": 3
   },
   "file_extension": ".py",
   "mimetype": "text/x-python",
   "name": "python",
   "nbconvert_exporter": "python",
   "pygments_lexer": "ipython3",
   "version": "3.8.13"
  },
  "orig_nbformat": 4,
  "vscode": {
   "interpreter": {
    "hash": "97a06d2527e167c4c043963c01a95e0984769b56d7776884a1285b6e802cf552"
   }
  }
 },
 "nbformat": 4,
 "nbformat_minor": 2
}
