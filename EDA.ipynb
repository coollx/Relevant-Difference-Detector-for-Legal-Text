{
 "cells": [
  {
   "cell_type": "markdown",
   "metadata": {},
   "source": [
    "### Load Data"
   ]
  },
  {
   "cell_type": "code",
   "execution_count": 1,
   "metadata": {},
   "outputs": [
    {
     "name": "stdout",
     "output_type": "stream",
     "text": [
      "t1961-6-germany-togo-bit-1961.xml\n",
      "t1963-6-germany-tunisia-bit-1963.xml\n",
      "t1993-71-germany-slovenia-bit-1993.xml\n"
     ]
    }
   ],
   "source": [
    "dir = 'data/full data/'\n",
    "\n",
    "import os\n",
    "import xml.etree.ElementTree as ET\n",
    "\n",
    "#print all the files in the directory\n",
    "excluded_files = []\n",
    "for file_name in os.listdir(dir):\n",
    "    try:\n",
    "        tree = ET.parse(dir + file_name)\n",
    "    except:\n",
    "        excluded_files.append(file_name)\n",
    "        print(file_name)\n",
    "        continue\n",
    "    "
   ]
  },
  {
   "cell_type": "markdown",
   "metadata": {},
   "source": [
    "### Meta Data Analysis"
   ]
  },
  {
   "cell_type": "markdown",
   "metadata": {},
   "source": [
    "check if all the documents' metadata are in the same format"
   ]
  },
  {
   "cell_type": "code",
   "execution_count": 2,
   "metadata": {},
   "outputs": [
    {
     "name": "stderr",
     "output_type": "stream",
     "text": [
      "C:\\Users\\Xiang\\AppData\\Local\\Temp\\ipykernel_14968\\4210734556.py:4: DeprecationWarning: This method will be removed in future versions.  Use 'list(elem)' or iteration over elem instead.\n",
      "  meta_data_children_template = set(child.tag for child in meta_data.getchildren())\n"
     ]
    }
   ],
   "source": [
    "file1 = 'data/full data/t1990-14-canada-czech-republic-bit-1990.xml'\n",
    "root = ET.parse(file1).getroot()\n",
    "meta_data = root[0]\n",
    "meta_data_children_template = set(child.tag for child in meta_data.getchildren())\n"
   ]
  },
  {
   "cell_type": "code",
   "execution_count": 3,
   "metadata": {},
   "outputs": [
    {
     "name": "stderr",
     "output_type": "stream",
     "text": [
      "C:\\Users\\Xiang\\AppData\\Local\\Temp\\ipykernel_14968\\1321602988.py:10: DeprecationWarning: This method will be removed in future versions.  Use 'list(elem)' or iteration over elem instead.\n",
      "  meta_data_children = set(child.tag for child in meta_data.getchildren())\n"
     ]
    }
   ],
   "source": [
    "flag = True\n",
    "n = 0\n",
    "\n",
    "for file_name in os.listdir(dir):\n",
    "    if file_name not in excluded_files:\n",
    "        n += 1\n",
    "        tree = ET.parse(dir + file_name)\n",
    "        root = tree.getroot()\n",
    "        meta_data = root[0]\n",
    "        meta_data_children = set(child.tag for child in meta_data.getchildren())\n",
    "        meta_data_children_template = meta_data_children_template.intersection(meta_data_children)\n"
   ]
  },
  {
   "cell_type": "code",
   "execution_count": 4,
   "metadata": {},
   "outputs": [
    {
     "data": {
      "text/plain": [
       "3306"
      ]
     },
     "execution_count": 4,
     "metadata": {},
     "output_type": "execute_result"
    }
   ],
   "source": [
    "n"
   ]
  },
  {
   "cell_type": "code",
   "execution_count": 5,
   "metadata": {},
   "outputs": [
    {
     "data": {
      "text/plain": [
       "{'code',\n",
       " 'comments',\n",
       " 'date_into_force',\n",
       " 'date_signed',\n",
       " 'date_terminated',\n",
       " 'name',\n",
       " 'partyisocode',\n",
       " 'rev_date_into_force',\n",
       " 'rev_date_signed',\n",
       " 'side_date_into_force',\n",
       " 'side_date_signed',\n",
       " 'source',\n",
       " 'termination_type',\n",
       " 'type'}"
      ]
     },
     "execution_count": 5,
     "metadata": {},
     "output_type": "execute_result"
    }
   ],
   "source": [
    "meta_data_children_template"
   ]
  },
  {
   "cell_type": "markdown",
   "metadata": {},
   "source": [
    "we can see that all treadies have:\n",
    "1. name\n",
    "2. partyisocode\n",
    "3. date_into_force\n",
    "4. date_signed\n",
    "\n",
    "now we tring to plot the distribution of date_signed in a histogram."
   ]
  },
  {
   "cell_type": "code",
   "execution_count": 6,
   "metadata": {},
   "outputs": [],
   "source": [
    "# store all meta data in a pandas dataframe\n",
    "import pandas as pd\n",
    "\n",
    "meta_data_df = pd.DataFrame(columns = ['code', 'name', 'date_into_force', 'date_signed', 'date_terminated', 'partyisocode0', 'partyisocode1'])\n",
    "contries = set()\n",
    "\n",
    "for file_name in os.listdir(dir):\n",
    "    if file_name not in excluded_files:\n",
    "        meta_data = ET.parse(dir + file_name).getroot()[0]\n",
    "        row = [\n",
    "            meta_data.find('code').text,\n",
    "            meta_data.find('name').text,\n",
    "            meta_data.find('date_into_force').text,\n",
    "            meta_data.find('date_signed').text ,\n",
    "            meta_data.find('date_terminated').text,\n",
    "            ]\n",
    "        partyisocode = [elem.text for elem in meta_data.findall('partyisocode')]\n",
    "        contries.update(partyisocode)\n",
    "        row += partyisocode[:2] # only take the first two parties, however there are more than two parties in ~30 treadies\n",
    "        meta_data_df.loc[len(meta_data_df)] = row"
   ]
  },
  {
   "cell_type": "code",
   "execution_count": 7,
   "metadata": {},
   "outputs": [
    {
     "data": {
      "text/html": [
       "<div>\n",
       "<style scoped>\n",
       "    .dataframe tbody tr th:only-of-type {\n",
       "        vertical-align: middle;\n",
       "    }\n",
       "\n",
       "    .dataframe tbody tr th {\n",
       "        vertical-align: top;\n",
       "    }\n",
       "\n",
       "    .dataframe thead th {\n",
       "        text-align: right;\n",
       "    }\n",
       "</style>\n",
       "<table border=\"1\" class=\"dataframe\">\n",
       "  <thead>\n",
       "    <tr style=\"text-align: right;\">\n",
       "      <th></th>\n",
       "      <th>code</th>\n",
       "      <th>name</th>\n",
       "      <th>date_into_force</th>\n",
       "      <th>date_signed</th>\n",
       "      <th>date_terminated</th>\n",
       "      <th>partyisocode0</th>\n",
       "      <th>partyisocode1</th>\n",
       "    </tr>\n",
       "  </thead>\n",
       "  <tbody>\n",
       "    <tr>\n",
       "      <th>0</th>\n",
       "      <td>T1959-1</td>\n",
       "      <td>Germany - Pakistan BIT (1959)</td>\n",
       "      <td>1962-04-28</td>\n",
       "      <td>1959-11-25</td>\n",
       "      <td>None</td>\n",
       "      <td>DEU</td>\n",
       "      <td>PAK</td>\n",
       "    </tr>\n",
       "    <tr>\n",
       "      <th>1</th>\n",
       "      <td>T1960-2</td>\n",
       "      <td>Germany - Malaysia BIT (1960)</td>\n",
       "      <td>1963-07-06</td>\n",
       "      <td>1960-12-22</td>\n",
       "      <td>None</td>\n",
       "      <td>DEU</td>\n",
       "      <td>MYS</td>\n",
       "    </tr>\n",
       "    <tr>\n",
       "      <th>2</th>\n",
       "      <td>T1961-2</td>\n",
       "      <td>Switzerland - Tunisia BIT (1961)</td>\n",
       "      <td>1964-01-19</td>\n",
       "      <td>1961-12-02</td>\n",
       "      <td>2014-07-08</td>\n",
       "      <td>CHE</td>\n",
       "      <td>TUN</td>\n",
       "    </tr>\n",
       "    <tr>\n",
       "      <th>3</th>\n",
       "      <td>T1961-3</td>\n",
       "      <td>Germany - Greece BIT (1961)</td>\n",
       "      <td>1963-07-15</td>\n",
       "      <td>1961-03-27</td>\n",
       "      <td>2021-10-29</td>\n",
       "      <td>DEU</td>\n",
       "      <td>GRC</td>\n",
       "    </tr>\n",
       "    <tr>\n",
       "      <th>4</th>\n",
       "      <td>T1961-4</td>\n",
       "      <td>Germany - Liberia BIT (1961)</td>\n",
       "      <td>1967-10-22</td>\n",
       "      <td>1961-12-12</td>\n",
       "      <td>None</td>\n",
       "      <td>DEU</td>\n",
       "      <td>LBR</td>\n",
       "    </tr>\n",
       "  </tbody>\n",
       "</table>\n",
       "</div>"
      ],
      "text/plain": [
       "      code                              name date_into_force date_signed  \\\n",
       "0  T1959-1     Germany - Pakistan BIT (1959)      1962-04-28  1959-11-25   \n",
       "1  T1960-2     Germany - Malaysia BIT (1960)      1963-07-06  1960-12-22   \n",
       "2  T1961-2  Switzerland - Tunisia BIT (1961)      1964-01-19  1961-12-02   \n",
       "3  T1961-3       Germany - Greece BIT (1961)      1963-07-15  1961-03-27   \n",
       "4  T1961-4      Germany - Liberia BIT (1961)      1967-10-22  1961-12-12   \n",
       "\n",
       "  date_terminated partyisocode0 partyisocode1  \n",
       "0            None           DEU           PAK  \n",
       "1            None           DEU           MYS  \n",
       "2      2014-07-08           CHE           TUN  \n",
       "3      2021-10-29           DEU           GRC  \n",
       "4            None           DEU           LBR  "
      ]
     },
     "execution_count": 7,
     "metadata": {},
     "output_type": "execute_result"
    }
   ],
   "source": [
    "meta_data_df.head()"
   ]
  },
  {
   "cell_type": "code",
   "execution_count": 8,
   "metadata": {},
   "outputs": [
    {
     "data": {
      "text/plain": [
       "0"
      ]
     },
     "execution_count": 8,
     "metadata": {},
     "output_type": "execute_result"
    }
   ],
   "source": [
    "meta_data_df['date_signed'].isna().sum()"
   ]
  },
  {
   "cell_type": "markdown",
   "metadata": {},
   "source": [
    "We are happy to see that there is no missing data in date_signed."
   ]
  },
  {
   "cell_type": "code",
   "execution_count": 9,
   "metadata": {},
   "outputs": [
    {
     "data": {
      "text/plain": [
       "<AxesSubplot:xlabel='year', ylabel='count'>"
      ]
     },
     "execution_count": 9,
     "metadata": {},
     "output_type": "execute_result"
    },
    {
     "data": {
      "image/png": "[encoded data removed]",
      "text/plain": [
       "<Figure size 1800x864 with 1 Axes>"
      ]
     },
     "metadata": {
      "needs_background": "light"
     },
     "output_type": "display_data"
    }
   ],
   "source": [
    "import matplotlib as mpl\n",
    "mpl.rcParams['figure.facecolor'] = 'white'\n",
    "\n",
    "# now plot the signed date\n",
    "meta_data_df['date_signed'] = pd.to_datetime(meta_data_df['date_signed'])\n",
    "\n",
    "# create a representation of the month with strfmt\n",
    "meta_data_df['year_of_date_signed'] = meta_data_df['date_signed'].map(lambda dt: dt.strftime('%Y'))\n",
    "\n",
    "grouped_df = meta_data_df.groupby('year_of_date_signed').size().to_frame(\"count\").reset_index()\n",
    "grouped_df.plot(kind='bar', x='year_of_date_signed', y='count', figsize=(25,12), xlabel = 'year', ylabel = 'count')\n"
   ]
  },
  {
   "cell_type": "markdown",
   "metadata": {},
   "source": [
    "### Train Test Split"
   ]
  },
  {
   "cell_type": "markdown",
   "metadata": {},
   "source": [
    "Initially we have ~3300 documents. We will use 3300 * 0.8 = 2640 for training and 3300 * 0.2 = 660 for testing. We found there are 2622 documents was signed before 2006 so we will use all the data prior to 2006 for training and the rest for testing."
   ]
  },
  {
   "cell_type": "code",
   "execution_count": 10,
   "metadata": {},
   "outputs": [
    {
     "data": {
      "text/plain": [
       "2622"
      ]
     },
     "execution_count": 10,
     "metadata": {},
     "output_type": "execute_result"
    }
   ],
   "source": [
    "sum(meta_data_df.year_of_date_signed <= '2005')"
   ]
  },
  {
   "cell_type": "markdown",
   "metadata": {},
   "source": [
    "Plot for partyisocode0"
   ]
  },
  {
   "cell_type": "code",
   "execution_count": 11,
   "metadata": {},
   "outputs": [
    {
     "data": {
      "text/plain": [
       "<AxesSubplot:xlabel='country', ylabel='count'>"
      ]
     },
     "execution_count": 11,
     "metadata": {},
     "output_type": "execute_result"
    },
    {
     "data": {
      "image/png": "[encoded data removed]",
      "text/plain": [
       "<Figure size 1800x864 with 1 Axes>"
      ]
     },
     "metadata": {
      "needs_background": "light"
     },
     "output_type": "display_data"
    }
   ],
   "source": [
    "#plot country distribution\n",
    "meta_data_df.partyisocode0.value_counts().plot(kind='bar', figsize=(25,12), xlabel = 'country', ylabel = 'count')"
   ]
  },
  {
   "cell_type": "code",
   "execution_count": 12,
   "metadata": {},
   "outputs": [
    {
     "data": {
      "text/plain": [
       "0       DEU\n",
       "1       DEU\n",
       "2       CHE\n",
       "3       DEU\n",
       "4       DEU\n",
       "       ... \n",
       "3301    ARE\n",
       "3302    CHN\n",
       "3303    CHE\n",
       "3304    ISR\n",
       "3305    ARE\n",
       "Name: partyisocode0, Length: 3306, dtype: object"
      ]
     },
     "execution_count": 12,
     "metadata": {},
     "output_type": "execute_result"
    }
   ],
   "source": [
    "meta_data_df.partyisocode0"
   ]
  },
  {
   "cell_type": "markdown",
   "metadata": {},
   "source": [
    "Plot for partyisocode1"
   ]
  },
  {
   "cell_type": "code",
   "execution_count": 13,
   "metadata": {},
   "outputs": [
    {
     "data": {
      "text/plain": [
       "<AxesSubplot:xlabel='country', ylabel='count'>"
      ]
     },
     "execution_count": 13,
     "metadata": {},
     "output_type": "execute_result"
    },
    {
     "data": {
      "image/png": "[encoded data removed]",
      "text/plain": [
       "<Figure size 1800x864 with 1 Axes>"
      ]
     },
     "metadata": {
      "needs_background": "light"
     },
     "output_type": "display_data"
    }
   ],
   "source": [
    "meta_data_df.partyisocode1.value_counts().plot(kind='bar', figsize=(25,12), xlabel = 'country', ylabel = 'count')"
   ]
  },
  {
   "cell_type": "markdown",
   "metadata": {},
   "source": [
    "Now we combine the two parties."
   ]
  },
  {
   "cell_type": "code",
   "execution_count": 14,
   "metadata": {},
   "outputs": [
    {
     "data": {
      "text/plain": [
       "array(['PAK', 'MYS', 'TUN', ..., 'IDN', 'PHL', 'PHL'], dtype=object)"
      ]
     },
     "execution_count": 14,
     "metadata": {},
     "output_type": "execute_result"
    }
   ],
   "source": [
    "meta_data_df.partyisocode1.values"
   ]
  },
  {
   "cell_type": "code",
   "execution_count": 15,
   "metadata": {},
   "outputs": [],
   "source": [
    "import numpy as np\n",
    "all_contries_involved = pd.DataFrame({'country' : np.hstack((meta_data_df.partyisocode0.values, meta_data_df.partyisocode1.values))})"
   ]
  },
  {
   "cell_type": "code",
   "execution_count": 16,
   "metadata": {},
   "outputs": [
    {
     "data": {
      "text/plain": [
       "<AxesSubplot:xlabel='country', ylabel='count'>"
      ]
     },
     "execution_count": 16,
     "metadata": {},
     "output_type": "execute_result"
    },
    {
     "data": {
      "image/png": "[encoded data removed]",
      "text/plain": [
       "<Figure size 1800x864 with 1 Axes>"
      ]
     },
     "metadata": {
      "needs_background": "light"
     },
     "output_type": "display_data"
    }
   ],
   "source": [
    "all_contries_involved.country.value_counts().plot(kind='bar', figsize=(25,12), xlabel = 'country', ylabel = 'count')"
   ]
  },
  {
   "cell_type": "markdown",
   "metadata": {},
   "source": [
    "We can see that DEU and CHN appear the most frequently amoungt all the countries."
   ]
  },
  {
   "cell_type": "code",
   "execution_count": 17,
   "metadata": {},
   "outputs": [
    {
     "data": {
      "text/plain": [
       "True"
      ]
     },
     "execution_count": 17,
     "metadata": {},
     "output_type": "execute_result"
    }
   ],
   "source": [
    "len(contries) == all_contries_involved.country.unique().shape[0]\n"
   ]
  },
  {
   "cell_type": "markdown",
   "metadata": {},
   "source": [
    "Check how many articles don't have a title."
   ]
  },
  {
   "cell_type": "code",
   "execution_count": 52,
   "metadata": {},
   "outputs": [
    {
     "name": "stdout",
     "output_type": "stream",
     "text": [
      "t2006-24-belarus-slovenia-bit-2006.xml\n",
      "t2006-24-belarus-slovenia-bit-2006.xml\n",
      "t2006-24-belarus-slovenia-bit-2006.xml\n",
      "t2006-24-belarus-slovenia-bit-2006.xml\n",
      "t2006-36-china-russian-federation-bit-2006.xml\n",
      "t2006-48-dominican-republic-netherlands-bit-2006.xml\n",
      "t2006-48-dominican-republic-netherlands-bit-2006.xml\n",
      "t2006-48-dominican-republic-netherlands-bit-2006.xml\n",
      "t2006-48-dominican-republic-netherlands-bit-2006.xml\n",
      "t2006-48-dominican-republic-netherlands-bit-2006.xml\n",
      "t2006-48-dominican-republic-netherlands-bit-2006.xml\n",
      "t2006-48-dominican-republic-netherlands-bit-2006.xml\n",
      "t2006-48-dominican-republic-netherlands-bit-2006.xml\n",
      "t2006-48-dominican-republic-netherlands-bit-2006.xml\n",
      "t2006-48-dominican-republic-netherlands-bit-2006.xml\n",
      "t2006-48-dominican-republic-netherlands-bit-2006.xml\n",
      "t2006-48-dominican-republic-netherlands-bit-2006.xml\n",
      "t2006-48-dominican-republic-netherlands-bit-2006.xml\n",
      "t2006-48-dominican-republic-netherlands-bit-2006.xml\n",
      "t2006-56-saudi-arabia-spain-bit-2006.xml\n",
      "t2006-56-saudi-arabia-spain-bit-2006.xml\n",
      "t2006-56-saudi-arabia-spain-bit-2006.xml\n",
      "t2006-56-saudi-arabia-spain-bit-2006.xml\n",
      "t2006-56-saudi-arabia-spain-bit-2006.xml\n",
      "t2006-56-saudi-arabia-spain-bit-2006.xml\n",
      "t2006-56-saudi-arabia-spain-bit-2006.xml\n",
      "t2006-56-saudi-arabia-spain-bit-2006.xml\n",
      "t2006-56-saudi-arabia-spain-bit-2006.xml\n",
      "t2006-56-saudi-arabia-spain-bit-2006.xml\n",
      "t2006-56-saudi-arabia-spain-bit-2006.xml\n",
      "t2006-56-saudi-arabia-spain-bit-2006.xml\n",
      "t2006-69-india-saudi-arabia-bit-2006.xml\n",
      "t2006-69-india-saudi-arabia-bit-2006.xml\n",
      "t2006-69-india-saudi-arabia-bit-2006.xml\n",
      "t2006-69-india-saudi-arabia-bit-2006.xml\n",
      "t2006-69-india-saudi-arabia-bit-2006.xml\n",
      "t2006-69-india-saudi-arabia-bit-2006.xml\n",
      "t2006-69-india-saudi-arabia-bit-2006.xml\n",
      "t2006-69-india-saudi-arabia-bit-2006.xml\n",
      "t2006-69-india-saudi-arabia-bit-2006.xml\n",
      "t2006-69-india-saudi-arabia-bit-2006.xml\n",
      "t2006-69-india-saudi-arabia-bit-2006.xml\n",
      "t2006-69-india-saudi-arabia-bit-2006.xml\n",
      "t2006-69-india-saudi-arabia-bit-2006.xml\n",
      "t2006-69-india-saudi-arabia-bit-2006.xml\n",
      "t2006-69-india-saudi-arabia-bit-2006.xml\n",
      "t2006-69-india-saudi-arabia-bit-2006.xml\n",
      "t2006-71-iran-islamic-republic-of-libya-bit-2006.xml\n",
      "t2006-72-jordan-kazakhstan-bit-2006.xml\n",
      "t2006-72-jordan-kazakhstan-bit-2006.xml\n",
      "t2007-10-burundi-netherlands-bit-2007.xml\n",
      "t2007-10-burundi-netherlands-bit-2007.xml\n",
      "t2007-10-burundi-netherlands-bit-2007.xml\n",
      "t2007-10-burundi-netherlands-bit-2007.xml\n",
      "t2007-10-burundi-netherlands-bit-2007.xml\n",
      "t2007-10-burundi-netherlands-bit-2007.xml\n",
      "t2007-10-burundi-netherlands-bit-2007.xml\n",
      "t2007-10-burundi-netherlands-bit-2007.xml\n",
      "t2007-10-burundi-netherlands-bit-2007.xml\n",
      "t2007-10-burundi-netherlands-bit-2007.xml\n",
      "t2007-10-burundi-netherlands-bit-2007.xml\n",
      "t2007-10-burundi-netherlands-bit-2007.xml\n",
      "t2007-10-burundi-netherlands-bit-2007.xml\n",
      "t2007-16-bahrain-germany-bit-2007.xml\n",
      "t2007-16-bahrain-germany-bit-2007.xml\n",
      "t2007-16-bahrain-germany-bit-2007.xml\n",
      "t2007-16-bahrain-germany-bit-2007.xml\n",
      "t2007-16-bahrain-germany-bit-2007.xml\n",
      "t2007-16-bahrain-germany-bit-2007.xml\n",
      "t2007-16-bahrain-germany-bit-2007.xml\n",
      "t2007-16-bahrain-germany-bit-2007.xml\n",
      "t2007-16-bahrain-germany-bit-2007.xml\n",
      "t2007-16-bahrain-germany-bit-2007.xml\n",
      "t2007-16-bahrain-germany-bit-2007.xml\n",
      "t2007-16-bahrain-germany-bit-2007.xml\n",
      "t2007-16-bahrain-germany-bit-2007.xml\n",
      "t2007-16-bahrain-germany-bit-2007.xml\n",
      "t2007-17-bahrain-netherlands-bit-2007.xml\n",
      "t2007-17-bahrain-netherlands-bit-2007.xml\n",
      "t2007-17-bahrain-netherlands-bit-2007.xml\n",
      "t2007-17-bahrain-netherlands-bit-2007.xml\n",
      "t2007-17-bahrain-netherlands-bit-2007.xml\n",
      "t2007-17-bahrain-netherlands-bit-2007.xml\n",
      "t2007-17-bahrain-netherlands-bit-2007.xml\n",
      "t2007-17-bahrain-netherlands-bit-2007.xml\n",
      "t2007-17-bahrain-netherlands-bit-2007.xml\n",
      "t2007-17-bahrain-netherlands-bit-2007.xml\n",
      "t2007-17-bahrain-netherlands-bit-2007.xml\n",
      "t2007-17-bahrain-netherlands-bit-2007.xml\n",
      "t2007-17-bahrain-netherlands-bit-2007.xml\n",
      "t2007-17-bahrain-netherlands-bit-2007.xml\n",
      "t2007-2-albania-lithuania-bit-2007.xml\n",
      "t2007-30-china-seychelles-bit-2007.xml\n",
      "t2007-30-china-seychelles-bit-2007.xml\n",
      "t2007-30-china-seychelles-bit-2007.xml\n",
      "t2007-38-germany-jordan-bit-2007.xml\n",
      "t2007-42-algeria-netherlands-bit-2007.xml\n",
      "t2007-42-algeria-netherlands-bit-2007.xml\n",
      "t2007-42-algeria-netherlands-bit-2007.xml\n",
      "t2007-42-algeria-netherlands-bit-2007.xml\n",
      "t2007-42-algeria-netherlands-bit-2007.xml\n",
      "t2007-42-algeria-netherlands-bit-2007.xml\n",
      "t2007-42-algeria-netherlands-bit-2007.xml\n",
      "t2007-42-algeria-netherlands-bit-2007.xml\n",
      "t2007-42-algeria-netherlands-bit-2007.xml\n",
      "t2007-42-algeria-netherlands-bit-2007.xml\n",
      "t2007-42-algeria-netherlands-bit-2007.xml\n",
      "t2007-42-algeria-netherlands-bit-2007.xml\n",
      "t2007-42-algeria-netherlands-bit-2007.xml\n",
      "t2007-42-algeria-netherlands-bit-2007.xml\n",
      "t2007-70-cambodia-japan-bit-2007.xml\n",
      "t2007-70-cambodia-japan-bit-2007.xml\n",
      "t2007-70-cambodia-japan-bit-2007.xml\n",
      "t2007-70-cambodia-japan-bit-2007.xml\n",
      "t2007-70-cambodia-japan-bit-2007.xml\n",
      "t2007-70-cambodia-japan-bit-2007.xml\n",
      "t2007-70-cambodia-japan-bit-2007.xml\n",
      "t2007-70-cambodia-japan-bit-2007.xml\n",
      "t2007-70-cambodia-japan-bit-2007.xml\n",
      "t2007-70-cambodia-japan-bit-2007.xml\n",
      "t2007-70-cambodia-japan-bit-2007.xml\n",
      "t2007-70-cambodia-japan-bit-2007.xml\n",
      "t2007-70-cambodia-japan-bit-2007.xml\n",
      "t2007-70-cambodia-japan-bit-2007.xml\n",
      "t2007-70-cambodia-japan-bit-2007.xml\n",
      "t2007-70-cambodia-japan-bit-2007.xml\n",
      "t2007-70-cambodia-japan-bit-2007.xml\n",
      "t2007-70-cambodia-japan-bit-2007.xml\n",
      "t2007-70-cambodia-japan-bit-2007.xml\n",
      "t2007-70-cambodia-japan-bit-2007.xml\n",
      "t2007-70-cambodia-japan-bit-2007.xml\n",
      "t2007-70-cambodia-japan-bit-2007.xml\n",
      "t2007-70-cambodia-japan-bit-2007.xml\n",
      "t2007-70-cambodia-japan-bit-2007.xml\n",
      "t2007-70-cambodia-japan-bit-2007.xml\n",
      "t2007-70-cambodia-japan-bit-2007.xml\n",
      "t2007-70-cambodia-japan-bit-2007.xml\n",
      "t2007-73-kenya-libya-bit-2007.xml\n",
      "t2008-59-japan-uzbekistan-bit-2008.xml\n",
      "t2008-59-japan-uzbekistan-bit-2008.xml\n",
      "t2008-59-japan-uzbekistan-bit-2008.xml\n",
      "t2008-59-japan-uzbekistan-bit-2008.xml\n",
      "t2008-59-japan-uzbekistan-bit-2008.xml\n",
      "t2008-59-japan-uzbekistan-bit-2008.xml\n",
      "t2008-59-japan-uzbekistan-bit-2008.xml\n",
      "t2008-59-japan-uzbekistan-bit-2008.xml\n",
      "t2008-59-japan-uzbekistan-bit-2008.xml\n",
      "t2008-59-japan-uzbekistan-bit-2008.xml\n",
      "t2008-59-japan-uzbekistan-bit-2008.xml\n",
      "t2008-59-japan-uzbekistan-bit-2008.xml\n",
      "t2008-59-japan-uzbekistan-bit-2008.xml\n",
      "t2008-59-japan-uzbekistan-bit-2008.xml\n",
      "t2008-59-japan-uzbekistan-bit-2008.xml\n",
      "t2008-59-japan-uzbekistan-bit-2008.xml\n",
      "t2008-59-japan-uzbekistan-bit-2008.xml\n",
      "t2008-59-japan-uzbekistan-bit-2008.xml\n",
      "t2008-59-japan-uzbekistan-bit-2008.xml\n",
      "t2008-59-japan-uzbekistan-bit-2008.xml\n",
      "t2008-59-japan-uzbekistan-bit-2008.xml\n",
      "t2008-59-japan-uzbekistan-bit-2008.xml\n",
      "t2008-59-japan-uzbekistan-bit-2008.xml\n",
      "t2008-59-japan-uzbekistan-bit-2008.xml\n",
      "t2008-59-japan-uzbekistan-bit-2008.xml\n",
      "t2008-59-japan-uzbekistan-bit-2008.xml\n",
      "t2008-61-kazakhstan-qatar-bit-2008.xml\n",
      "t2008-69-macao-china-sar-netherlands-bit-2008.xml\n",
      "t2008-69-macao-china-sar-netherlands-bit-2008.xml\n",
      "t2008-69-macao-china-sar-netherlands-bit-2008.xml\n",
      "t2008-69-macao-china-sar-netherlands-bit-2008.xml\n",
      "t2008-69-macao-china-sar-netherlands-bit-2008.xml\n",
      "t2008-69-macao-china-sar-netherlands-bit-2008.xml\n",
      "t2008-69-macao-china-sar-netherlands-bit-2008.xml\n",
      "t2008-69-macao-china-sar-netherlands-bit-2008.xml\n",
      "t2008-69-macao-china-sar-netherlands-bit-2008.xml\n",
      "t2008-69-macao-china-sar-netherlands-bit-2008.xml\n",
      "t2008-69-macao-china-sar-netherlands-bit-2008.xml\n",
      "t2008-69-macao-china-sar-netherlands-bit-2008.xml\n",
      "t2008-69-macao-china-sar-netherlands-bit-2008.xml\n",
      "t2008-69-macao-china-sar-netherlands-bit-2008.xml\n",
      "t2008-80-saudi-arabia-sweden-bit-2008.xml\n",
      "t2008-80-saudi-arabia-sweden-bit-2008.xml\n",
      "t2008-80-saudi-arabia-sweden-bit-2008.xml\n",
      "t2008-80-saudi-arabia-sweden-bit-2008.xml\n",
      "t2008-80-saudi-arabia-sweden-bit-2008.xml\n",
      "t2008-80-saudi-arabia-sweden-bit-2008.xml\n",
      "t2008-80-saudi-arabia-sweden-bit-2008.xml\n",
      "t2008-80-saudi-arabia-sweden-bit-2008.xml\n",
      "t2008-80-saudi-arabia-sweden-bit-2008.xml\n",
      "t2008-80-saudi-arabia-sweden-bit-2008.xml\n",
      "t2008-80-saudi-arabia-sweden-bit-2008.xml\n",
      "t2008-80-saudi-arabia-sweden-bit-2008.xml\n",
      "t2008-80-saudi-arabia-sweden-bit-2008.xml\n",
      "t2008-81-saudi-arabia-ukraine-bit-2008.xml\n",
      "t2008-81-saudi-arabia-ukraine-bit-2008.xml\n",
      "t2008-81-saudi-arabia-ukraine-bit-2008.xml\n",
      "t2008-81-saudi-arabia-ukraine-bit-2008.xml\n",
      "t2008-81-saudi-arabia-ukraine-bit-2008.xml\n",
      "t2008-81-saudi-arabia-ukraine-bit-2008.xml\n",
      "t2008-81-saudi-arabia-ukraine-bit-2008.xml\n",
      "t2008-81-saudi-arabia-ukraine-bit-2008.xml\n",
      "t2008-81-saudi-arabia-ukraine-bit-2008.xml\n",
      "t2008-81-saudi-arabia-ukraine-bit-2008.xml\n",
      "t2008-81-saudi-arabia-ukraine-bit-2008.xml\n",
      "t2008-81-saudi-arabia-ukraine-bit-2008.xml\n",
      "t2008-81-saudi-arabia-ukraine-bit-2008.xml\n",
      "t2009-101-netherlands-oman-bit-2009.xml\n",
      "t2009-101-netherlands-oman-bit-2009.xml\n",
      "t2009-101-netherlands-oman-bit-2009.xml\n",
      "t2009-101-netherlands-oman-bit-2009.xml\n",
      "t2009-101-netherlands-oman-bit-2009.xml\n",
      "t2009-101-netherlands-oman-bit-2009.xml\n",
      "t2009-101-netherlands-oman-bit-2009.xml\n",
      "t2009-101-netherlands-oman-bit-2009.xml\n",
      "t2009-101-netherlands-oman-bit-2009.xml\n",
      "t2009-101-netherlands-oman-bit-2009.xml\n",
      "t2009-101-netherlands-oman-bit-2009.xml\n",
      "t2009-101-netherlands-oman-bit-2009.xml\n",
      "t2009-104-portugal-qatar-bit-2009.xml\n",
      "t2009-104-portugal-qatar-bit-2009.xml\n",
      "t2009-108-slovakia-turkey-bit-2009.xml\n",
      "t2009-22-belarus-estonia-bit-2009.xml\n",
      "t2009-22-belarus-estonia-bit-2009.xml\n",
      "t2009-23-belarus-saudi-arabia-bit-2009.xml\n",
      "t2009-23-belarus-saudi-arabia-bit-2009.xml\n",
      "t2009-23-belarus-saudi-arabia-bit-2009.xml\n",
      "t2009-23-belarus-saudi-arabia-bit-2009.xml\n",
      "t2009-23-belarus-saudi-arabia-bit-2009.xml\n",
      "t2009-23-belarus-saudi-arabia-bit-2009.xml\n",
      "t2009-23-belarus-saudi-arabia-bit-2009.xml\n",
      "t2009-23-belarus-saudi-arabia-bit-2009.xml\n",
      "t2009-23-belarus-saudi-arabia-bit-2009.xml\n",
      "t2009-23-belarus-saudi-arabia-bit-2009.xml\n",
      "t2009-23-belarus-saudi-arabia-bit-2009.xml\n",
      "t2009-23-belarus-saudi-arabia-bit-2009.xml\n",
      "t2009-23-belarus-saudi-arabia-bit-2009.xml\n",
      "t2009-23-belarus-saudi-arabia-bit-2009.xml\n",
      "t2009-24-brunei-darussalam-kuwait-bit-2009.xml\n",
      "t2009-38-cyprus-iran-islamic-republic-of-bit-2009.xml\n",
      "t2009-38-cyprus-iran-islamic-republic-of-bit-2009.xml\n",
      "t2009-41-czech-republic-saudi-arabia-bit-2009.xml\n",
      "t2009-41-czech-republic-saudi-arabia-bit-2009.xml\n",
      "t2009-41-czech-republic-saudi-arabia-bit-2009.xml\n",
      "t2009-41-czech-republic-saudi-arabia-bit-2009.xml\n",
      "t2009-41-czech-republic-saudi-arabia-bit-2009.xml\n",
      "t2009-41-czech-republic-saudi-arabia-bit-2009.xml\n",
      "t2009-41-czech-republic-saudi-arabia-bit-2009.xml\n",
      "t2009-41-czech-republic-saudi-arabia-bit-2009.xml\n",
      "t2009-41-czech-republic-saudi-arabia-bit-2009.xml\n",
      "t2009-41-czech-republic-saudi-arabia-bit-2009.xml\n",
      "t2009-41-czech-republic-saudi-arabia-bit-2009.xml\n",
      "t2009-41-czech-republic-saudi-arabia-bit-2009.xml\n",
      "t2009-41-czech-republic-saudi-arabia-bit-2009.xml\n",
      "t2009-53-equatorial-guinea-ethiopia-bit-2009.xml\n",
      "t2009-73-jordan-portugal-bit-2009.xml\n",
      "t2009-73-jordan-portugal-bit-2009.xml\n",
      "t2009-73-jordan-portugal-bit-2009.xml\n",
      "t2009-73-jordan-portugal-bit-2009.xml\n",
      "t2009-73-jordan-portugal-bit-2009.xml\n",
      "t2009-86-libya-singapore-bit-2009.xml\n",
      "t2009-87-libya-slovakia-bit-2009.xml\n",
      "t2009-87-libya-slovakia-bit-2009.xml\n",
      "t2009-88-libya-turkey-bit-2009.xml\n",
      "t2010-40-guyana-kuwait-bit-2010.xml\n",
      "t2010-40-guyana-kuwait-bit-2010.xml\n",
      "t2010-40-guyana-kuwait-bit-2010.xml\n",
      "t2010-40-guyana-kuwait-bit-2010.xml\n",
      "t2010-40-guyana-kuwait-bit-2010.xml\n",
      "t2010-40-guyana-kuwait-bit-2010.xml\n",
      "t2010-40-guyana-kuwait-bit-2010.xml\n",
      "t2010-40-guyana-kuwait-bit-2010.xml\n",
      "t2010-40-guyana-kuwait-bit-2010.xml\n",
      "t2010-41-hong-kong-china-sar-kuwait-bit-2010.xml\n",
      "t2010-54-malta-montenegro-bit-2010.xml\n",
      "t2010-6-azerbaijan-belarus-bit-2010.xml\n",
      "t2011-22-colombia-japan-bit-2011.xml\n",
      "t2011-46-oman-viet-nam-bit-2011.xml\n",
      "t2011-46-oman-viet-nam-bit-2011.xml\n",
      "t2011-49-qatar-tajikistan-bit-2011.xml\n",
      "t2011-49-qatar-tajikistan-bit-2011.xml\n",
      "t2011-49-qatar-tajikistan-bit-2011.xml\n",
      "t2011-49-qatar-tajikistan-bit-2011.xml\n",
      "t2011-49-qatar-tajikistan-bit-2011.xml\n",
      "t2011-49-qatar-tajikistan-bit-2011.xml\n",
      "t2011-49-qatar-tajikistan-bit-2011.xml\n",
      "t2011-49-qatar-tajikistan-bit-2011.xml\n",
      "t2011-49-qatar-tajikistan-bit-2011.xml\n",
      "t2011-49-qatar-tajikistan-bit-2011.xml\n",
      "t2011-albania-malta-bit-2011.xml\n",
      "t2011-albania-malta-bit-2011.xml\n",
      "t2011-albania-malta-bit-2011.xml\n",
      "t2012-10-switzerland-tunisia-bit-2012.xml\n",
      "t2013-2-netherlands-united-arab-emirates-bit-2013.xml\n",
      "t2013-2-netherlands-united-arab-emirates-bit-2013.xml\n",
      "t2013-2-netherlands-united-arab-emirates-bit-2013.xml\n",
      "t2013-33-japan-mozambique-bit-2013.xml\n",
      "t2013-34-japan-saudi-arabia-bit-2013.xml\n",
      "t2013-34-japan-saudi-arabia-bit-2013.xml\n",
      "t2013-34-japan-saudi-arabia-bit-2013.xml\n",
      "t2013-34-japan-saudi-arabia-bit-2013.xml\n",
      "t2013-34-japan-saudi-arabia-bit-2013.xml\n",
      "t2013-34-japan-saudi-arabia-bit-2013.xml\n",
      "t2013-34-japan-saudi-arabia-bit-2013.xml\n",
      "t2013-34-japan-saudi-arabia-bit-2013.xml\n",
      "t2013-34-japan-saudi-arabia-bit-2013.xml\n",
      "t2013-34-japan-saudi-arabia-bit-2013.xml\n",
      "t2013-34-japan-saudi-arabia-bit-2013.xml\n",
      "t2013-34-japan-saudi-arabia-bit-2013.xml\n",
      "t2013-34-japan-saudi-arabia-bit-2013.xml\n",
      "t2013-34-japan-saudi-arabia-bit-2013.xml\n",
      "t2013-34-japan-saudi-arabia-bit-2013.xml\n",
      "t2013-34-japan-saudi-arabia-bit-2013.xml\n",
      "t2013-34-japan-saudi-arabia-bit-2013.xml\n",
      "t2013-34-japan-saudi-arabia-bit-2013.xml\n",
      "t2013-34-japan-saudi-arabia-bit-2013.xml\n",
      "t2013-34-japan-saudi-arabia-bit-2013.xml\n",
      "t2013-34-japan-saudi-arabia-bit-2013.xml\n",
      "t2013-34-japan-saudi-arabia-bit-2013.xml\n",
      "t2013-34-japan-saudi-arabia-bit-2013.xml\n",
      "t2013-9-belarus-lao-people-s-democratic-republic-bit-2013.xml\n",
      "t2014-11-belarus-cambodia-bit.xml\n",
      "t2014-15-canada-mali-bit-2014.xml\n",
      "t2014-15-canada-mali-bit-2014.xml\n",
      "t2014-29-israel-myanmar-bit-2014.xml\n",
      "t2014-29-israel-myanmar-bit-2014.xml\n",
      "t2014-30-japan-kazakhstan-bit-2014.xml\n",
      "t2014-30-japan-kazakhstan-bit-2014.xml\n",
      "t2014-30-japan-kazakhstan-bit-2014.xml\n",
      "t2014-30-japan-kazakhstan-bit-2014.xml\n",
      "t2014-30-japan-kazakhstan-bit-2014.xml\n",
      "t2014-30-japan-kazakhstan-bit-2014.xml\n",
      "t2014-30-japan-kazakhstan-bit-2014.xml\n",
      "t2014-30-japan-kazakhstan-bit-2014.xml\n",
      "t2014-30-japan-kazakhstan-bit-2014.xml\n",
      "t2014-30-japan-kazakhstan-bit-2014.xml\n",
      "t2014-30-japan-kazakhstan-bit-2014.xml\n",
      "t2014-30-japan-kazakhstan-bit-2014.xml\n",
      "t2014-30-japan-kazakhstan-bit-2014.xml\n",
      "t2014-30-japan-kazakhstan-bit-2014.xml\n",
      "t2014-30-japan-kazakhstan-bit-2014.xml\n",
      "t2014-30-japan-kazakhstan-bit-2014.xml\n",
      "t2014-30-japan-kazakhstan-bit-2014.xml\n",
      "t2014-30-japan-kazakhstan-bit-2014.xml\n",
      "t2014-30-japan-kazakhstan-bit-2014.xml\n",
      "t2014-30-japan-kazakhstan-bit-2014.xml\n",
      "t2014-30-japan-kazakhstan-bit-2014.xml\n",
      "t2014-30-japan-kazakhstan-bit-2014.xml\n",
      "t2014-30-japan-kazakhstan-bit-2014.xml\n",
      "t2014-30-japan-kazakhstan-bit-2014.xml\n",
      "t2014-30-japan-kazakhstan-bit-2014.xml\n",
      "t2014-30-japan-kazakhstan-bit-2014.xml\n",
      "t2015-20-denmark-north-macedonia-bit-2015.xml\n",
      "t2015-28-haiti-mexico-bit-2015.xml\n",
      "t2015-32-japan-ukraine-bit-2015.xml\n",
      "t2015-32-japan-ukraine-bit-2015.xml\n",
      "t2015-32-japan-ukraine-bit-2015.xml\n",
      "t2015-32-japan-ukraine-bit-2015.xml\n",
      "t2015-32-japan-ukraine-bit-2015.xml\n",
      "t2015-32-japan-ukraine-bit-2015.xml\n",
      "t2015-32-japan-ukraine-bit-2015.xml\n",
      "t2015-32-japan-ukraine-bit-2015.xml\n",
      "t2015-32-japan-ukraine-bit-2015.xml\n",
      "t2015-32-japan-ukraine-bit-2015.xml\n",
      "t2015-32-japan-ukraine-bit-2015.xml\n",
      "t2015-32-japan-ukraine-bit-2015.xml\n",
      "t2015-32-japan-ukraine-bit-2015.xml\n",
      "t2015-32-japan-ukraine-bit-2015.xml\n",
      "t2015-32-japan-ukraine-bit-2015.xml\n",
      "t2015-32-japan-ukraine-bit-2015.xml\n",
      "t2015-32-japan-ukraine-bit-2015.xml\n",
      "t2015-32-japan-ukraine-bit-2015.xml\n",
      "t2015-32-japan-ukraine-bit-2015.xml\n",
      "t2015-32-japan-ukraine-bit-2015.xml\n",
      "t2015-32-japan-ukraine-bit-2015.xml\n",
      "t2015-32-japan-ukraine-bit-2015.xml\n",
      "t2015-32-japan-ukraine-bit-2015.xml\n",
      "t2015-32-japan-ukraine-bit-2015.xml\n",
      "t2015-32-japan-ukraine-bit-2015.xml\n",
      "t2015-32-japan-ukraine-bit-2015.xml\n",
      "t2015-32-japan-ukraine-bit-2015.xml\n",
      "t2015-32-japan-ukraine-bit-2015.xml\n",
      "t2016-11-canada-hong-kong-china-sar-bit.xml\n",
      "t2016-11-canada-hong-kong-china-sar-bit.xml\n",
      "t2016-23-iran-islamic-republic-of-japan-bit-2016.xml\n",
      "t2016-3-mexico-united-arab-emirates-bit-2015.xml\n",
      "t2016-5-argentina-qatar-bit-2016.xml\n",
      "t2019-16-iraq-saudi-arabia-bit-2019.xml\n",
      "t2019-16-iraq-saudi-arabia-bit-2019.xml\n",
      "t2019-16-iraq-saudi-arabia-bit-2019.xml\n",
      "t2019-16-iraq-saudi-arabia-bit-2019.xml\n",
      "t2019-16-iraq-saudi-arabia-bit-2019.xml\n",
      "t2019-16-iraq-saudi-arabia-bit-2019.xml\n",
      "t2019-16-iraq-saudi-arabia-bit-2019.xml\n",
      "t2019-16-iraq-saudi-arabia-bit-2019.xml\n",
      "t2019-16-iraq-saudi-arabia-bit-2019.xml\n",
      "t2019-16-iraq-saudi-arabia-bit-2019.xml\n",
      "t2019-16-iraq-saudi-arabia-bit-2019.xml\n",
      "t2019-16-iraq-saudi-arabia-bit-2019.xml\n",
      "t2019-16-iraq-saudi-arabia-bit-2019.xml\n",
      "t2019-16-iraq-saudi-arabia-bit-2019.xml\n",
      "t2019-16-iraq-saudi-arabia-bit-2019.xml\n",
      "t2019-16-iraq-saudi-arabia-bit-2019.xml\n",
      "t2019-16-iraq-saudi-arabia-bit-2019.xml\n",
      "t2019-16-iraq-saudi-arabia-bit-2019.xml\n",
      "t2019-16-iraq-saudi-arabia-bit-2019.xml\n",
      "t2019-16-iraq-saudi-arabia-bit-2019.xml\n",
      "t2019-16-iraq-saudi-arabia-bit-2019.xml\n",
      "t2019-16-iraq-saudi-arabia-bit-2019.xml\n",
      "t2019-16-iraq-saudi-arabia-bit-2019.xml\n",
      "t2019-16-iraq-saudi-arabia-bit-2019.xml\n",
      "t2020-50-israel-united-arab-emirates-bit-2020.xml\n",
      "t2021-china-eu-comprehensive-agreement-on-investment-2021.xml\n",
      "t2021-china-eu-comprehensive-agreement-on-investment-2021.xml\n"
     ]
    }
   ],
   "source": [
    "total_training_articles, total_testing_articles = 0, 0\n",
    "total_training_articles_with_missing_topic, total_testing_articles_with_missing_topic = 0, 0\n",
    "\n",
    "#iterate through all documents\n",
    "for file_name in os.listdir(dir):\n",
    "    try:\n",
    "        root = ET.parse(dir + file_name).getroot()\n",
    "        meta_data = root[0]\n",
    "        doc_body = root[1][2]\n",
    "        all_articles = doc_body.findall(\".//div[@type='article']\")\n",
    "        year = int(meta_data.find('date_signed').text.split('-')[0])\n",
    "\n",
    "        #check how many articles don't have a title\n",
    "        for article in all_articles:\n",
    "            if year < 2006:\n",
    "                total_training_articles += 1\n",
    "                if not article.get('title'):\n",
    "                    total_training_articles_with_missing_topic += 1\n",
    "            else:\n",
    "                total_testing_articles += 1\n",
    "                if not article.get('title'):\n",
    "                    total_testing_articles_with_missing_topic += 1\n",
    "                    print(file_name)\n",
    "        \n",
    "    except Exception as e:\n",
    "        continue"
   ]
  },
  {
   "cell_type": "code",
   "execution_count": 51,
   "metadata": {},
   "outputs": [
    {
     "data": {
      "text/plain": [
       "(32298, 10280)"
      ]
     },
     "execution_count": 51,
     "metadata": {},
     "output_type": "execute_result"
    }
   ],
   "source": [
    "total_training_articles, total_testing_articles"
   ]
  },
  {
   "cell_type": "markdown",
   "metadata": {},
   "source": [
    "We can see from the above data, there are 32298 articles in training set and 10280 articles in testing set."
   ]
  },
  {
   "cell_type": "code",
   "execution_count": 49,
   "metadata": {},
   "outputs": [
    {
     "data": {
      "text/plain": [
       "(6700, 410)"
      ]
     },
     "execution_count": 49,
     "metadata": {},
     "output_type": "execute_result"
    }
   ],
   "source": [
    "total_training_articles_with_missing_topic, total_testing_articles_with_missing_topic"
   ]
  },
  {
   "cell_type": "markdown",
   "metadata": {},
   "source": [
    "The are 6700 articles in the training set has no title and 410 articles in the testing set has no title."
   ]
  }
 ],
 "metadata": {
  "kernelspec": {
   "display_name": "Python 3.8.13 ('legal')",
   "language": "python",
   "name": "python3"
  },
  "language_info": {
   "codemirror_mode": {
    "name": "ipython",
    "version": 3
   },
   "file_extension": ".py",
   "mimetype": "text/x-python",
   "name": "python",
   "nbconvert_exporter": "python",
   "pygments_lexer": "ipython3",
   "version": "3.8.13"
  },
  "orig_nbformat": 4,
  "vscode": {
   "interpreter": {
    "hash": "06852cdbcf28824f4856c911260dff4aa3407a086ba977abbb1a931f2b398117"
   }
  }
 },
 "nbformat": 4,
 "nbformat_minor": 2
}
