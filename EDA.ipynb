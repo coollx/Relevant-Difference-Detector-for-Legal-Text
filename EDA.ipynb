{
 "cells": [
  {
   "cell_type": "code",
   "execution_count": 1,
   "metadata": {},
   "outputs": [
    {
     "name": "stdout",
     "output_type": "stream",
     "text": [
      "t1961-6-germany-togo-bit-1961.xml\n",
      "t1963-6-germany-tunisia-bit-1963.xml\n",
      "t1993-71-germany-slovenia-bit-1993.xml\n"
     ]
    }
   ],
   "source": [
    "dir = 'data/full data/'\n",
    "\n",
    "import os\n",
    "import xml.etree.ElementTree as ET\n",
    "\n",
    "#print all the files in the directory\n",
    "excluded_files = []\n",
    "for file_name in os.listdir(dir):\n",
    "    try:\n",
    "        tree = ET.parse(dir + file_name)\n",
    "    except:\n",
    "        excluded_files.append(file_name)\n",
    "        print(file_name)\n",
    "        continue\n",
    "    "
   ]
  },
  {
   "cell_type": "markdown",
   "metadata": {},
   "source": [
    "check if all the documents' metadata are in the same format"
   ]
  },
  {
   "cell_type": "code",
   "execution_count": 2,
   "metadata": {},
   "outputs": [
    {
     "name": "stderr",
     "output_type": "stream",
     "text": [
      "C:\\Users\\Xiang\\AppData\\Local\\Temp\\ipykernel_32536\\4210734556.py:4: DeprecationWarning: This method will be removed in future versions.  Use 'list(elem)' or iteration over elem instead.\n",
      "  meta_data_children_template = set(child.tag for child in meta_data.getchildren())\n"
     ]
    }
   ],
   "source": [
    "file1 = 'data/full data/t1990-14-canada-czech-republic-bit-1990.xml'\n",
    "root = ET.parse(file1).getroot()\n",
    "meta_data = root[0]\n",
    "meta_data_children_template = set(child.tag for child in meta_data.getchildren())\n"
   ]
  },
  {
   "cell_type": "code",
   "execution_count": 3,
   "metadata": {},
   "outputs": [
    {
     "name": "stderr",
     "output_type": "stream",
     "text": [
      "C:\\Users\\Xiang\\AppData\\Local\\Temp\\ipykernel_32536\\1321602988.py:10: DeprecationWarning: This method will be removed in future versions.  Use 'list(elem)' or iteration over elem instead.\n",
      "  meta_data_children = set(child.tag for child in meta_data.getchildren())\n"
     ]
    }
   ],
   "source": [
    "flag = True\n",
    "n = 0\n",
    "\n",
    "for file_name in os.listdir(dir):\n",
    "    if file_name not in excluded_files:\n",
    "        n += 1\n",
    "        tree = ET.parse(dir + file_name)\n",
    "        root = tree.getroot()\n",
    "        meta_data = root[0]\n",
    "        meta_data_children = set(child.tag for child in meta_data.getchildren())\n",
    "        meta_data_children_template = meta_data_children_template.intersection(meta_data_children)\n"
   ]
  },
  {
   "cell_type": "code",
   "execution_count": 4,
   "metadata": {},
   "outputs": [
    {
     "data": {
      "text/plain": [
       "3306"
      ]
     },
     "execution_count": 4,
     "metadata": {},
     "output_type": "execute_result"
    }
   ],
   "source": [
    "n"
   ]
  },
  {
   "cell_type": "code",
   "execution_count": 5,
   "metadata": {},
   "outputs": [
    {
     "data": {
      "text/plain": [
       "{'code',\n",
       " 'comments',\n",
       " 'date_into_force',\n",
       " 'date_signed',\n",
       " 'date_terminated',\n",
       " 'name',\n",
       " 'partyisocode',\n",
       " 'rev_date_into_force',\n",
       " 'rev_date_signed',\n",
       " 'side_date_into_force',\n",
       " 'side_date_signed',\n",
       " 'source',\n",
       " 'termination_type',\n",
       " 'type'}"
      ]
     },
     "execution_count": 5,
     "metadata": {},
     "output_type": "execute_result"
    }
   ],
   "source": [
    "meta_data_children_template"
   ]
  },
  {
   "cell_type": "markdown",
   "metadata": {},
   "source": [
    "we can see that all treadies have:\n",
    "1. name\n",
    "2. partyisocode\n",
    "3. date_into_force\n",
    "4. date_signed\n",
    "\n",
    "now we tring to plot the distribution of date_signed in a histogram."
   ]
  },
  {
   "cell_type": "code",
   "execution_count": 6,
   "metadata": {},
   "outputs": [
    {
     "name": "stdout",
     "output_type": "stream",
     "text": [
      "6\n",
      "3\n",
      "3\n",
      "4\n",
      "5\n",
      "6\n",
      "3\n",
      "4\n",
      "3\n",
      "3\n",
      "8\n",
      "3\n",
      "3\n",
      "3\n",
      "3\n",
      "5\n",
      "3\n",
      "5\n",
      "3\n",
      "5\n",
      "3\n",
      "5\n",
      "6\n",
      "3\n",
      "5\n",
      "3\n"
     ]
    }
   ],
   "source": [
    "# store all meta data in a pandas dataframe\n",
    "import pandas as pd\n",
    "\n",
    "meta_data_df = pd.DataFrame(columns = ['code', 'name', 'date_into_force', 'date_signed', 'date_terminated', 'partyisocode0', 'partyisocode1'])\n",
    "\n",
    "for file_name in os.listdir(dir):\n",
    "    if file_name not in excluded_files:\n",
    "        meta_data = ET.parse(dir + file_name).getroot()[0]\n",
    "        row = [\n",
    "            meta_data.find('code').text,\n",
    "            meta_data.find('name').text,\n",
    "            meta_data.find('date_into_force').text,\n",
    "            meta_data.find('date_signed').text ,\n",
    "            meta_data.find('date_terminated').text,\n",
    "            ]\n",
    "        temp = [elem.text for elem in meta_data.findall('partyisocode')]\n",
    "        if len(temp) > 2:\n",
    "            print(len(temp))\n",
    "        row += [elem.text for elem in meta_data.findall('partyisocode')][:2]\n",
    "        meta_data_df.loc[len(meta_data_df)] = row\n",
    "        "
   ]
  },
  {
   "cell_type": "code",
   "execution_count": 7,
   "metadata": {},
   "outputs": [
    {
     "data": {
      "text/html": [
       "<div>\n",
       "<style scoped>\n",
       "    .dataframe tbody tr th:only-of-type {\n",
       "        vertical-align: middle;\n",
       "    }\n",
       "\n",
       "    .dataframe tbody tr th {\n",
       "        vertical-align: top;\n",
       "    }\n",
       "\n",
       "    .dataframe thead th {\n",
       "        text-align: right;\n",
       "    }\n",
       "</style>\n",
       "<table border=\"1\" class=\"dataframe\">\n",
       "  <thead>\n",
       "    <tr style=\"text-align: right;\">\n",
       "      <th></th>\n",
       "      <th>code</th>\n",
       "      <th>name</th>\n",
       "      <th>date_into_force</th>\n",
       "      <th>date_signed</th>\n",
       "      <th>date_terminated</th>\n",
       "      <th>partyisocode0</th>\n",
       "      <th>partyisocode1</th>\n",
       "    </tr>\n",
       "  </thead>\n",
       "  <tbody>\n",
       "    <tr>\n",
       "      <th>0</th>\n",
       "      <td>T1959-1</td>\n",
       "      <td>Germany - Pakistan BIT (1959)</td>\n",
       "      <td>1962-04-28</td>\n",
       "      <td>1959-11-25</td>\n",
       "      <td>None</td>\n",
       "      <td>DEU</td>\n",
       "      <td>PAK</td>\n",
       "    </tr>\n",
       "    <tr>\n",
       "      <th>1</th>\n",
       "      <td>T1960-2</td>\n",
       "      <td>Germany - Malaysia BIT (1960)</td>\n",
       "      <td>1963-07-06</td>\n",
       "      <td>1960-12-22</td>\n",
       "      <td>None</td>\n",
       "      <td>DEU</td>\n",
       "      <td>MYS</td>\n",
       "    </tr>\n",
       "    <tr>\n",
       "      <th>2</th>\n",
       "      <td>T1961-2</td>\n",
       "      <td>Switzerland - Tunisia BIT (1961)</td>\n",
       "      <td>1964-01-19</td>\n",
       "      <td>1961-12-02</td>\n",
       "      <td>2014-07-08</td>\n",
       "      <td>CHE</td>\n",
       "      <td>TUN</td>\n",
       "    </tr>\n",
       "    <tr>\n",
       "      <th>3</th>\n",
       "      <td>T1961-3</td>\n",
       "      <td>Germany - Greece BIT (1961)</td>\n",
       "      <td>1963-07-15</td>\n",
       "      <td>1961-03-27</td>\n",
       "      <td>2021-10-29</td>\n",
       "      <td>DEU</td>\n",
       "      <td>GRC</td>\n",
       "    </tr>\n",
       "    <tr>\n",
       "      <th>4</th>\n",
       "      <td>T1961-4</td>\n",
       "      <td>Germany - Liberia BIT (1961)</td>\n",
       "      <td>1967-10-22</td>\n",
       "      <td>1961-12-12</td>\n",
       "      <td>None</td>\n",
       "      <td>DEU</td>\n",
       "      <td>LBR</td>\n",
       "    </tr>\n",
       "  </tbody>\n",
       "</table>\n",
       "</div>"
      ],
      "text/plain": [
       "      code                              name date_into_force date_signed  \\\n",
       "0  T1959-1     Germany - Pakistan BIT (1959)      1962-04-28  1959-11-25   \n",
       "1  T1960-2     Germany - Malaysia BIT (1960)      1963-07-06  1960-12-22   \n",
       "2  T1961-2  Switzerland - Tunisia BIT (1961)      1964-01-19  1961-12-02   \n",
       "3  T1961-3       Germany - Greece BIT (1961)      1963-07-15  1961-03-27   \n",
       "4  T1961-4      Germany - Liberia BIT (1961)      1967-10-22  1961-12-12   \n",
       "\n",
       "  date_terminated partyisocode0 partyisocode1  \n",
       "0            None           DEU           PAK  \n",
       "1            None           DEU           MYS  \n",
       "2      2014-07-08           CHE           TUN  \n",
       "3      2021-10-29           DEU           GRC  \n",
       "4            None           DEU           LBR  "
      ]
     },
     "execution_count": 7,
     "metadata": {},
     "output_type": "execute_result"
    }
   ],
   "source": [
    "meta_data_df.head()"
   ]
  },
  {
   "cell_type": "code",
   "execution_count": 8,
   "metadata": {},
   "outputs": [
    {
     "data": {
      "text/plain": [
       "0"
      ]
     },
     "execution_count": 8,
     "metadata": {},
     "output_type": "execute_result"
    }
   ],
   "source": [
    "meta_data_df['date_signed'].isna().sum()"
   ]
  },
  {
   "cell_type": "markdown",
   "metadata": {},
   "source": [
    "We are happy to see that there is no missing data in date_signed."
   ]
  },
  {
   "cell_type": "code",
   "execution_count": 12,
   "metadata": {},
   "outputs": [
    {
     "data": {
      "text/plain": [
       "<AxesSubplot:xlabel='year', ylabel='count'>"
      ]
     },
     "execution_count": 12,
     "metadata": {},
     "output_type": "execute_result"
    },
    {
     "data": {
      "image/png": "[encoded data removed]",
      "text/plain": [
       "<Figure size 1800x864 with 1 Axes>"
      ]
     },
     "metadata": {},
     "output_type": "display_data"
    }
   ],
   "source": [
    "# now plot the signed date\n",
    "import matplotlib as mpl\n",
    "mpl.rcParams['figure.facecolor'] = 'white'\n",
    "\n",
    "meta_data_df['date_signed'] = pd.to_datetime(meta_data_df['date_signed'])\n",
    "\n",
    "# create a representation of the month with strfmt\n",
    "meta_data_df['year_of_date_signed'] = meta_data_df['date_signed'].map(lambda dt: dt.strftime('%Y'))\n",
    "\n",
    "grouped_df = meta_data_df.groupby('year_of_date_signed').size().to_frame(\"count\").reset_index()\n",
    "grouped_df.plot(kind='bar', x='year_of_date_signed', y='count', figsize=(25,12), xlabel = 'year', ylabel = 'count')"
   ]
  },
  {
   "cell_type": "code",
   "execution_count": null,
   "metadata": {},
   "outputs": [],
   "source": []
  }
 ],
 "metadata": {
  "kernelspec": {
   "display_name": "Python 3.8.13 ('legal')",
   "language": "python",
   "name": "python3"
  },
  "language_info": {
   "codemirror_mode": {
    "name": "ipython",
    "version": 3
   },
   "file_extension": ".py",
   "mimetype": "text/x-python",
   "name": "python",
   "nbconvert_exporter": "python",
   "pygments_lexer": "ipython3",
   "version": "3.8.13"
  },
  "orig_nbformat": 4,
  "vscode": {
   "interpreter": {
    "hash": "06852cdbcf28824f4856c911260dff4aa3407a086ba977abbb1a931f2b398117"
   }
  }
 },
 "nbformat": 4,
 "nbformat_minor": 2
}
