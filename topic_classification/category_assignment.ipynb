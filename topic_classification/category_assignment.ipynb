{
 "cells": [
  {
   "cell_type": "markdown",
   "metadata": {},
   "source": [
    "## Dataset Construction"
   ]
  },
  {
   "cell_type": "code",
   "execution_count": 1,
   "metadata": {},
   "outputs": [],
   "source": [
    "import sys\n",
    " \n",
    "# setting path\n",
    "sys.path.append('../')\n",
    "\n",
    "dir = '../data/full data/'\n",
    "\n",
    "import json\n",
    "import os\n",
    "import pandas as pd\n",
    "import xml.etree.ElementTree as ET\n",
    "from sklearn.model_selection import train_test_split\n",
    "\n",
    "from utils import elem2sent\n",
    "\n",
    "import warnings\n",
    "warnings.filterwarnings('ignore')"
   ]
  },
  {
   "cell_type": "code",
   "execution_count": 2,
   "metadata": {},
   "outputs": [],
   "source": [
    "meta_data_df = pd.read_excel('../data/category_configuration_marked.xlsx', sheet_name = 'article_names_matching')\n",
    "title2category = dict(zip(meta_data_df[\"Article Title\"], meta_data_df[\"Category 2\"]))"
   ]
  },
  {
   "cell_type": "code",
   "execution_count": 4,
   "metadata": {},
   "outputs": [
    {
     "ename": "KeyboardInterrupt",
     "evalue": "",
     "output_type": "error",
     "traceback": [
      "\u001b[1;31m---------------------------------------------------------------------------\u001b[0m",
      "\u001b[1;31mKeyboardInterrupt\u001b[0m                         Traceback (most recent call last)",
      "\u001b[1;32md:\\x\\cs\\project\\AI4LEGAL\\topic_classification\\category_assignment.ipynb Cell 4\u001b[0m in \u001b[0;36m<cell line: 24>\u001b[1;34m()\u001b[0m\n\u001b[0;32m     <a href='vscode-notebook-cell://ssh-remote%2Balchemist/d%3A/x/cs/project/AI4LEGAL/topic_classification/category_assignment.ipynb#W3sdnNjb2RlLXJlbW90ZQ%3D%3D?line=19'>20</a>\u001b[0m             cnt \u001b[39m+\u001b[39m\u001b[39m=\u001b[39m \u001b[39m1\u001b[39m\n\u001b[0;32m     <a href='vscode-notebook-cell://ssh-remote%2Balchemist/d%3A/x/cs/project/AI4LEGAL/topic_classification/category_assignment.ipynb#W3sdnNjb2RlLXJlbW90ZQ%3D%3D?line=21'>22</a>\u001b[0m     \u001b[39mreturn\u001b[39;00m df\n\u001b[1;32m---> <a href='vscode-notebook-cell://ssh-remote%2Balchemist/d%3A/x/cs/project/AI4LEGAL/topic_classification/category_assignment.ipynb#W3sdnNjb2RlLXJlbW90ZQ%3D%3D?line=23'>24</a>\u001b[0m df \u001b[39m=\u001b[39m get_df(\u001b[39mdir\u001b[39;49m)\n\u001b[0;32m     <a href='vscode-notebook-cell://ssh-remote%2Balchemist/d%3A/x/cs/project/AI4LEGAL/topic_classification/category_assignment.ipynb#W3sdnNjb2RlLXJlbW90ZQ%3D%3D?line=24'>25</a>\u001b[0m df\u001b[39m.\u001b[39mto_csv(\u001b[39m'\u001b[39m\u001b[39mgenerated_data/category_assignment_full.csv\u001b[39m\u001b[39m'\u001b[39m, index\u001b[39m=\u001b[39m\u001b[39mFalse\u001b[39;00m)\n",
      "\u001b[1;32md:\\x\\cs\\project\\AI4LEGAL\\topic_classification\\category_assignment.ipynb Cell 4\u001b[0m in \u001b[0;36mget_df\u001b[1;34m(dir)\u001b[0m\n\u001b[0;32m      <a href='vscode-notebook-cell://ssh-remote%2Balchemist/d%3A/x/cs/project/AI4LEGAL/topic_classification/category_assignment.ipynb#W3sdnNjb2RlLXJlbW90ZQ%3D%3D?line=4'>5</a>\u001b[0m \u001b[39mfor\u001b[39;00m file_name \u001b[39min\u001b[39;00m os\u001b[39m.\u001b[39mlistdir(\u001b[39mdir\u001b[39m):\n\u001b[0;32m      <a href='vscode-notebook-cell://ssh-remote%2Balchemist/d%3A/x/cs/project/AI4LEGAL/topic_classification/category_assignment.ipynb#W3sdnNjb2RlLXJlbW90ZQ%3D%3D?line=5'>6</a>\u001b[0m     \u001b[39mtry\u001b[39;00m:\n\u001b[1;32m----> <a href='vscode-notebook-cell://ssh-remote%2Balchemist/d%3A/x/cs/project/AI4LEGAL/topic_classification/category_assignment.ipynb#W3sdnNjb2RlLXJlbW90ZQ%3D%3D?line=6'>7</a>\u001b[0m         root \u001b[39m=\u001b[39m ET\u001b[39m.\u001b[39;49mparse(\u001b[39mdir\u001b[39;49m \u001b[39m+\u001b[39;49m file_name)\u001b[39m.\u001b[39mgetroot()\n\u001b[0;32m      <a href='vscode-notebook-cell://ssh-remote%2Balchemist/d%3A/x/cs/project/AI4LEGAL/topic_classification/category_assignment.ipynb#W3sdnNjb2RlLXJlbW90ZQ%3D%3D?line=7'>8</a>\u001b[0m         meta_data \u001b[39m=\u001b[39m root[\u001b[39m0\u001b[39m]\n\u001b[0;32m      <a href='vscode-notebook-cell://ssh-remote%2Balchemist/d%3A/x/cs/project/AI4LEGAL/topic_classification/category_assignment.ipynb#W3sdnNjb2RlLXJlbW90ZQ%3D%3D?line=8'>9</a>\u001b[0m         doc_body \u001b[39m=\u001b[39m root[\u001b[39m1\u001b[39m][\u001b[39m2\u001b[39m]\n",
      "File \u001b[1;32mc:\\ProgramData\\Anaconda3\\envs\\legal\\lib\\xml\\etree\\ElementTree.py:1202\u001b[0m, in \u001b[0;36mparse\u001b[1;34m(source, parser)\u001b[0m\n\u001b[0;32m   1193\u001b[0m \u001b[39m\"\"\"Parse XML document into element tree.\u001b[39;00m\n\u001b[0;32m   1194\u001b[0m \n\u001b[0;32m   1195\u001b[0m \u001b[39m*source* is a filename or file object containing XML data,\u001b[39;00m\n\u001b[1;32m   (...)\u001b[0m\n\u001b[0;32m   1199\u001b[0m \n\u001b[0;32m   1200\u001b[0m \u001b[39m\"\"\"\u001b[39;00m\n\u001b[0;32m   1201\u001b[0m tree \u001b[39m=\u001b[39m ElementTree()\n\u001b[1;32m-> 1202\u001b[0m tree\u001b[39m.\u001b[39;49mparse(source, parser)\n\u001b[0;32m   1203\u001b[0m \u001b[39mreturn\u001b[39;00m tree\n",
      "File \u001b[1;32mc:\\ProgramData\\Anaconda3\\envs\\legal\\lib\\xml\\etree\\ElementTree.py:584\u001b[0m, in \u001b[0;36mElementTree.parse\u001b[1;34m(self, source, parser)\u001b[0m\n\u001b[0;32m    582\u001b[0m close_source \u001b[39m=\u001b[39m \u001b[39mFalse\u001b[39;00m\n\u001b[0;32m    583\u001b[0m \u001b[39mif\u001b[39;00m \u001b[39mnot\u001b[39;00m \u001b[39mhasattr\u001b[39m(source, \u001b[39m\"\u001b[39m\u001b[39mread\u001b[39m\u001b[39m\"\u001b[39m):\n\u001b[1;32m--> 584\u001b[0m     source \u001b[39m=\u001b[39m \u001b[39mopen\u001b[39;49m(source, \u001b[39m\"\u001b[39;49m\u001b[39mrb\u001b[39;49m\u001b[39m\"\u001b[39;49m)\n\u001b[0;32m    585\u001b[0m     close_source \u001b[39m=\u001b[39m \u001b[39mTrue\u001b[39;00m\n\u001b[0;32m    586\u001b[0m \u001b[39mtry\u001b[39;00m:\n",
      "\u001b[1;31mKeyboardInterrupt\u001b[0m: "
     ]
    }
   ],
   "source": [
    "def get_df(dir):\n",
    "    cnt = 0\n",
    "    df = pd.DataFrame(columns=['article', 'category'])\n",
    "    \n",
    "    for file_name in os.listdir(dir):\n",
    "        try:\n",
    "            root = ET.parse(dir + file_name).getroot()\n",
    "            meta_data = root[0]\n",
    "            doc_body = root[1][2]\n",
    "        except Exception as e:\n",
    "            continue\n",
    "\n",
    "        all_articles_with_title = [_ for _ in doc_body.findall(\".//div[@type='article']\") if 'title' in _.attrib]\n",
    "\n",
    "        for article in all_articles_with_title:\n",
    "            title = article.attrib['title'].lower()\n",
    "            sentences = ''.join(elem2sent(article))\n",
    "            category = title2category.get(title, 'unknown')\n",
    "            df = df.append({'article': sentences, 'title':title, 'category': category}, ignore_index=True)\n",
    "            cnt += 1\n",
    "\n",
    "    return df\n",
    "\n",
    "df = get_df(dir)\n",
    "df.to_csv('generated_data/category_assignment_full.csv', index=False)\n"
   ]
  },
  {
   "cell_type": "code",
   "execution_count": 5,
   "metadata": {},
   "outputs": [
    {
     "ename": "NameError",
     "evalue": "name 'df' is not defined",
     "output_type": "error",
     "traceback": [
      "\u001b[1;31m---------------------------------------------------------------------------\u001b[0m",
      "\u001b[1;31mNameError\u001b[0m                                 Traceback (most recent call last)",
      "\u001b[1;32md:\\x\\cs\\project\\AI4LEGAL\\topic_classification\\category_assignment.ipynb Cell 5\u001b[0m in \u001b[0;36m<cell line: 1>\u001b[1;34m()\u001b[0m\n\u001b[1;32m----> <a href='vscode-notebook-cell://ssh-remote%2Balchemist/d%3A/x/cs/project/AI4LEGAL/topic_classification/category_assignment.ipynb#W4sdnNjb2RlLXJlbW90ZQ%3D%3D?line=0'>1</a>\u001b[0m df\u001b[39m.\u001b[39mhead()\n",
      "\u001b[1;31mNameError\u001b[0m: name 'df' is not defined"
     ]
    }
   ],
   "source": [
    "df.head()"
   ]
  },
  {
   "cell_type": "markdown",
   "metadata": {},
   "source": [
    "## Data preprocessing"
   ]
  },
  {
   "cell_type": "markdown",
   "metadata": {},
   "source": [
    "The data preprocessing is done in the following steps:\n",
    "1. drop all the articles that have no title\n",
    "2. replace all the category with less than 5 articles with \"other\". This is done to reduce the number of categories and to avoid overfitting. Moreover, the categories with less than 5 articles are not very informative. The autogluon framework is unable to handle the categories with single instance. If we do not replace the categories with less than 5 articles, the model will not be able to predict the category of the test data.\n",
    "3. replace the category names with the category id. This is done to make the model training easier.\n",
    "4. split the data into train and test data. The test data is used to evaluate the model performance."
   ]
  },
  {
   "cell_type": "code",
   "execution_count": 42,
   "metadata": {},
   "outputs": [],
   "source": [
    "df_with_category = df[df['category'] != 'unknown']\n",
    "\n",
    "#drop the title column\n",
    "df_with_category = df_with_category.drop(columns=['title'])\n",
    "\n",
    "#replace the category with less than 5 samples with 'others'\n",
    "df_with_category['category'] = df_with_category['category'].apply(lambda x: 'others' if len(df_with_category[df_with_category['category'] == x]) < 5 else x)\n",
    "\n",
    "#extract the category labels as a map\n",
    "category2label = dict(zip(df_with_category['category'].unique(), range(len(df_with_category['category'].unique()))))\n",
    "#save the map\n",
    "with open('generated_data/category2label.json', 'w') as f:\n",
    "    json.dump(category2label, f)\n",
    "\n",
    "#replace the category with the label\n",
    "df_with_category['category'] = df_with_category['category'].apply(lambda x: category2label[x])\n",
    "\n",
    "#train test split\n",
    "train_df, test_df = train_test_split(df_with_category, test_size=0.2, random_state=42)\n",
    "\n",
    "#save the train and test data\n",
    "train_df.to_csv('generated_data/category_train.csv', index=False)\n",
    "test_df.to_csv('generated_data/category_test.csv', index=False)"
   ]
  },
  {
   "cell_type": "markdown",
   "metadata": {},
   "source": [
    "## Test with a auto ml model as baseline"
   ]
  },
  {
   "cell_type": "markdown",
   "metadata": {},
   "source": [
    "#### Load the data"
   ]
  },
  {
   "cell_type": "code",
   "execution_count": 3,
   "metadata": {},
   "outputs": [],
   "source": [
    "import pandas as pd\n",
    "train_df = pd.read_csv('../generated_data/category_train.csv')\n",
    "test_df = pd.read_csv('../generated_data/category_test.csv')"
   ]
  },
  {
   "cell_type": "code",
   "execution_count": 4,
   "metadata": {},
   "outputs": [
    {
     "data": {
      "text/plain": [
       "11    2521\n",
       "5     2106\n",
       "7     2087\n",
       "0     2013\n",
       "9     2004\n",
       "      ... \n",
       "56       6\n",
       "43       5\n",
       "60       5\n",
       "46       5\n",
       "38       3\n",
       "Name: category, Length: 61, dtype: int64"
      ]
     },
     "execution_count": 4,
     "metadata": {},
     "output_type": "execute_result"
    }
   ],
   "source": [
    "train_df.category.value_counts()"
   ]
  },
  {
   "cell_type": "markdown",
   "metadata": {},
   "source": [
    "#### Use autogluon as baseline"
   ]
  },
  {
   "cell_type": "code",
   "execution_count": 5,
   "metadata": {},
   "outputs": [
    {
     "name": "stderr",
     "output_type": "stream",
     "text": [
      "c:\\ProgramData\\Anaconda3\\envs\\autogluon\\lib\\site-packages\\scipy\\__init__.py:146: UserWarning: A NumPy version >=1.16.5 and <1.23.0 is required for this version of SciPy (detected version 1.23.1\n",
      "  warnings.warn(f\"A NumPy version >={np_minversion} and <{np_maxversion}\"\n",
      "Global seed set to 42\n",
      "Warning: path already exists! This predictor may overwrite an existing predictor! path=\"./models\"\n",
      "c:\\ProgramData\\Anaconda3\\envs\\autogluon\\lib\\site-packages\\autogluon\\multimodal\\utils.py:138: UserWarning: Currently, we cannot convert the metric: f1_weighted to a metric supported in torchmetrics. Thus, we will fall-back to use accuracy for multi-class classification problems , ROC-AUC for binary classification problem, and RMSE for regression problems.\n",
      "  warnings.warn(\n",
      "Auto select gpus: [0]\n",
      "Using 16bit native Automatic Mixed Precision (AMP)\n",
      "GPU available: True, used: True\n",
      "TPU available: False, using: 0 TPU cores\n",
      "IPU available: False, using: 0 IPUs\n",
      "HPU available: False, using: 0 HPUs\n",
      "LOCAL_RANK: 0 - CUDA_VISIBLE_DEVICES: [0]\n",
      "\n",
      "  | Name              | Type                         | Params\n",
      "-------------------------------------------------------------------\n",
      "0 | model             | HFAutoModelForTextPrediction | 109 M \n",
      "1 | validation_metric | Accuracy                     | 0     \n",
      "2 | loss_func         | CrossEntropyLoss             | 0     \n",
      "-------------------------------------------------------------------\n",
      "109 M     Trainable params\n",
      "0         Non-trainable params\n",
      "109 M     Total params\n",
      "219.058   Total estimated model params size (MB)\n"
     ]
    },
    {
     "data": {
      "application/vnd.jupyter.widget-view+json": {
       "model_id": "b30884326dfa45539711e8702c1e09a4",
       "version_major": 2,
       "version_minor": 0
      },
      "text/plain": [
       "Sanity Checking: 0it [00:00, ?it/s]"
      ]
     },
     "metadata": {},
     "output_type": "display_data"
    },
    {
     "data": {
      "application/vnd.jupyter.widget-view+json": {
       "model_id": "705b22e3f772440d8ceb2ee83a488152",
       "version_major": 2,
       "version_minor": 0
      },
      "text/plain": [
       "Training: 0it [00:00, ?it/s]"
      ]
     },
     "metadata": {},
     "output_type": "display_data"
    },
    {
     "data": {
      "application/vnd.jupyter.widget-view+json": {
       "model_id": "cda9a7a6dd4644d590176530a4b6ce30",
       "version_major": 2,
       "version_minor": 0
      },
      "text/plain": [
       "Validation: 0it [00:00, ?it/s]"
      ]
     },
     "metadata": {},
     "output_type": "display_data"
    },
    {
     "name": "stderr",
     "output_type": "stream",
     "text": [
      "Epoch 0, global step 97: 'val_accuracy' reached 0.88840 (best 0.88840), saving model to 'D:\\\\x\\\\cs\\\\project\\\\AI4LEGAL\\\\topic_classification\\\\models\\\\epoch=0-step=97.ckpt' as top 3\n"
     ]
    },
    {
     "data": {
      "application/vnd.jupyter.widget-view+json": {
       "model_id": "f1e856a62b0a4b5685590e42b6e64bdf",
       "version_major": 2,
       "version_minor": 0
      },
      "text/plain": [
       "Validation: 0it [00:00, ?it/s]"
      ]
     },
     "metadata": {},
     "output_type": "display_data"
    },
    {
     "name": "stderr",
     "output_type": "stream",
     "text": [
      "Epoch 0, global step 195: 'val_accuracy' reached 0.91880 (best 0.91880), saving model to 'D:\\\\x\\\\cs\\\\project\\\\AI4LEGAL\\\\topic_classification\\\\models\\\\epoch=0-step=195.ckpt' as top 3\n"
     ]
    },
    {
     "data": {
      "application/vnd.jupyter.widget-view+json": {
       "model_id": "c7cbf5803af1481ea96181b32a50bde0",
       "version_major": 2,
       "version_minor": 0
      },
      "text/plain": [
       "Validation: 0it [00:00, ?it/s]"
      ]
     },
     "metadata": {},
     "output_type": "display_data"
    },
    {
     "name": "stderr",
     "output_type": "stream",
     "text": [
      "Epoch 1, global step 293: 'val_accuracy' reached 0.94800 (best 0.94800), saving model to 'D:\\\\x\\\\cs\\\\project\\\\AI4LEGAL\\\\topic_classification\\\\models\\\\epoch=1-step=293.ckpt' as top 3\n"
     ]
    },
    {
     "data": {
      "application/vnd.jupyter.widget-view+json": {
       "model_id": "8c4441beb6e245ffb95d92f74c1fe448",
       "version_major": 2,
       "version_minor": 0
      },
      "text/plain": [
       "Validation: 0it [00:00, ?it/s]"
      ]
     },
     "metadata": {},
     "output_type": "display_data"
    },
    {
     "name": "stderr",
     "output_type": "stream",
     "text": [
      "Epoch 1, global step 391: 'val_accuracy' reached 0.95120 (best 0.95120), saving model to 'D:\\\\x\\\\cs\\\\project\\\\AI4LEGAL\\\\topic_classification\\\\models\\\\epoch=1-step=391.ckpt' as top 3\n"
     ]
    },
    {
     "data": {
      "application/vnd.jupyter.widget-view+json": {
       "model_id": "12db7d2e1cdf41ae8d7672066c4d6b1a",
       "version_major": 2,
       "version_minor": 0
      },
      "text/plain": [
       "Validation: 0it [00:00, ?it/s]"
      ]
     },
     "metadata": {},
     "output_type": "display_data"
    },
    {
     "name": "stderr",
     "output_type": "stream",
     "text": [
      "Epoch 2, global step 489: 'val_accuracy' reached 0.95120 (best 0.95120), saving model to 'D:\\\\x\\\\cs\\\\project\\\\AI4LEGAL\\\\topic_classification\\\\models\\\\epoch=2-step=489.ckpt' as top 3\n"
     ]
    },
    {
     "data": {
      "application/vnd.jupyter.widget-view+json": {
       "model_id": "0d962f0baf524e5c916b2bd1f3e2391d",
       "version_major": 2,
       "version_minor": 0
      },
      "text/plain": [
       "Validation: 0it [00:00, ?it/s]"
      ]
     },
     "metadata": {},
     "output_type": "display_data"
    },
    {
     "name": "stderr",
     "output_type": "stream",
     "text": [
      "Epoch 2, global step 587: 'val_accuracy' reached 0.95040 (best 0.95120), saving model to 'D:\\\\x\\\\cs\\\\project\\\\AI4LEGAL\\\\topic_classification\\\\models\\\\epoch=2-step=587.ckpt' as top 3\n"
     ]
    },
    {
     "data": {
      "application/vnd.jupyter.widget-view+json": {
       "model_id": "50b090c651a74a82b3bcec1e95a1bdd0",
       "version_major": 2,
       "version_minor": 0
      },
      "text/plain": [
       "Validation: 0it [00:00, ?it/s]"
      ]
     },
     "metadata": {},
     "output_type": "display_data"
    },
    {
     "name": "stderr",
     "output_type": "stream",
     "text": [
      "Epoch 3, global step 685: 'val_accuracy' reached 0.95840 (best 0.95840), saving model to 'D:\\\\x\\\\cs\\\\project\\\\AI4LEGAL\\\\topic_classification\\\\models\\\\epoch=3-step=685-v1.ckpt' as top 3\n"
     ]
    },
    {
     "data": {
      "application/vnd.jupyter.widget-view+json": {
       "model_id": "2c1d303c36504d60ae84cddde65f2a63",
       "version_major": 2,
       "version_minor": 0
      },
      "text/plain": [
       "Validation: 0it [00:00, ?it/s]"
      ]
     },
     "metadata": {},
     "output_type": "display_data"
    },
    {
     "name": "stderr",
     "output_type": "stream",
     "text": [
      "Epoch 3, global step 783: 'val_accuracy' was not in top 3\n"
     ]
    },
    {
     "data": {
      "application/vnd.jupyter.widget-view+json": {
       "model_id": "df04c0163c074e5ab8ff79e38143a99f",
       "version_major": 2,
       "version_minor": 0
      },
      "text/plain": [
       "Validation: 0it [00:00, ?it/s]"
      ]
     },
     "metadata": {},
     "output_type": "display_data"
    },
    {
     "name": "stderr",
     "output_type": "stream",
     "text": [
      "Epoch 4, global step 881: 'val_accuracy' reached 0.95800 (best 0.95840), saving model to 'D:\\\\x\\\\cs\\\\project\\\\AI4LEGAL\\\\topic_classification\\\\models\\\\epoch=4-step=881-v1.ckpt' as top 3\n"
     ]
    },
    {
     "data": {
      "application/vnd.jupyter.widget-view+json": {
       "model_id": "26433e3f02474a50bb709093dbcb0aef",
       "version_major": 2,
       "version_minor": 0
      },
      "text/plain": [
       "Validation: 0it [00:00, ?it/s]"
      ]
     },
     "metadata": {},
     "output_type": "display_data"
    },
    {
     "name": "stderr",
     "output_type": "stream",
     "text": [
      "Epoch 4, global step 979: 'val_accuracy' was not in top 3\n"
     ]
    },
    {
     "data": {
      "application/vnd.jupyter.widget-view+json": {
       "model_id": "78d344336f974086a54576efbb5d8a49",
       "version_major": 2,
       "version_minor": 0
      },
      "text/plain": [
       "Validation: 0it [00:00, ?it/s]"
      ]
     },
     "metadata": {},
     "output_type": "display_data"
    },
    {
     "name": "stderr",
     "output_type": "stream",
     "text": [
      "Epoch 5, global step 1077: 'val_accuracy' reached 0.95760 (best 0.95840), saving model to 'D:\\\\x\\\\cs\\\\project\\\\AI4LEGAL\\\\topic_classification\\\\models\\\\epoch=5-step=1077-v1.ckpt' as top 3\n"
     ]
    },
    {
     "data": {
      "application/vnd.jupyter.widget-view+json": {
       "model_id": "4966d2cda0e64e11b089efaf480af5d9",
       "version_major": 2,
       "version_minor": 0
      },
      "text/plain": [
       "Validation: 0it [00:00, ?it/s]"
      ]
     },
     "metadata": {},
     "output_type": "display_data"
    },
    {
     "name": "stderr",
     "output_type": "stream",
     "text": [
      "Epoch 5, global step 1175: 'val_accuracy' was not in top 3\n"
     ]
    },
    {
     "data": {
      "application/vnd.jupyter.widget-view+json": {
       "model_id": "2c07cdb35856422ea7fe5a4a754ee96a",
       "version_major": 2,
       "version_minor": 0
      },
      "text/plain": [
       "Validation: 0it [00:00, ?it/s]"
      ]
     },
     "metadata": {},
     "output_type": "display_data"
    },
    {
     "name": "stderr",
     "output_type": "stream",
     "text": [
      "Epoch 6, global step 1273: 'val_accuracy' was not in top 3\n"
     ]
    },
    {
     "data": {
      "application/vnd.jupyter.widget-view+json": {
       "model_id": "6bb992c8d865429a90a290133c200104",
       "version_major": 2,
       "version_minor": 0
      },
      "text/plain": [
       "Validation: 0it [00:00, ?it/s]"
      ]
     },
     "metadata": {},
     "output_type": "display_data"
    },
    {
     "name": "stderr",
     "output_type": "stream",
     "text": [
      "Epoch 6, global step 1371: 'val_accuracy' was not in top 3\n"
     ]
    },
    {
     "data": {
      "application/vnd.jupyter.widget-view+json": {
       "model_id": "1b64d1743f9841958ea69e5568556ba7",
       "version_major": 2,
       "version_minor": 0
      },
      "text/plain": [
       "Validation: 0it [00:00, ?it/s]"
      ]
     },
     "metadata": {},
     "output_type": "display_data"
    },
    {
     "name": "stderr",
     "output_type": "stream",
     "text": [
      "Epoch 7, global step 1469: 'val_accuracy' reached 0.96040 (best 0.96040), saving model to 'D:\\\\x\\\\cs\\\\project\\\\AI4LEGAL\\\\topic_classification\\\\models\\\\epoch=7-step=1469.ckpt' as top 3\n"
     ]
    },
    {
     "data": {
      "application/vnd.jupyter.widget-view+json": {
       "model_id": "aa0cc769eff942e6a1c7d3678782751e",
       "version_major": 2,
       "version_minor": 0
      },
      "text/plain": [
       "Validation: 0it [00:00, ?it/s]"
      ]
     },
     "metadata": {},
     "output_type": "display_data"
    },
    {
     "name": "stderr",
     "output_type": "stream",
     "text": [
      "Epoch 7, global step 1567: 'val_accuracy' was not in top 3\n"
     ]
    },
    {
     "data": {
      "application/vnd.jupyter.widget-view+json": {
       "model_id": "5f97aa5cef9247e7a1da2b1193a3d410",
       "version_major": 2,
       "version_minor": 0
      },
      "text/plain": [
       "Validation: 0it [00:00, ?it/s]"
      ]
     },
     "metadata": {},
     "output_type": "display_data"
    },
    {
     "name": "stderr",
     "output_type": "stream",
     "text": [
      "Epoch 8, global step 1665: 'val_accuracy' reached 0.95880 (best 0.96040), saving model to 'D:\\\\x\\\\cs\\\\project\\\\AI4LEGAL\\\\topic_classification\\\\models\\\\epoch=8-step=1665.ckpt' as top 3\n"
     ]
    },
    {
     "data": {
      "application/vnd.jupyter.widget-view+json": {
       "model_id": "268ae617e3684151aa9905ee6f537adb",
       "version_major": 2,
       "version_minor": 0
      },
      "text/plain": [
       "Validation: 0it [00:00, ?it/s]"
      ]
     },
     "metadata": {},
     "output_type": "display_data"
    },
    {
     "name": "stderr",
     "output_type": "stream",
     "text": [
      "Epoch 8, global step 1763: 'val_accuracy' reached 0.96040 (best 0.96040), saving model to 'D:\\\\x\\\\cs\\\\project\\\\AI4LEGAL\\\\topic_classification\\\\models\\\\epoch=8-step=1763.ckpt' as top 3\n"
     ]
    },
    {
     "data": {
      "application/vnd.jupyter.widget-view+json": {
       "model_id": "1b1ef49b05a9434a95a121e9b6835c8a",
       "version_major": 2,
       "version_minor": 0
      },
      "text/plain": [
       "Validation: 0it [00:00, ?it/s]"
      ]
     },
     "metadata": {},
     "output_type": "display_data"
    },
    {
     "name": "stderr",
     "output_type": "stream",
     "text": [
      "Epoch 9, global step 1861: 'val_accuracy' reached 0.96160 (best 0.96160), saving model to 'D:\\\\x\\\\cs\\\\project\\\\AI4LEGAL\\\\topic_classification\\\\models\\\\epoch=9-step=1861.ckpt' as top 3\n"
     ]
    },
    {
     "data": {
      "application/vnd.jupyter.widget-view+json": {
       "model_id": "f7379bcb18da47e9ba04ddaaf67ac1ca",
       "version_major": 2,
       "version_minor": 0
      },
      "text/plain": [
       "Validation: 0it [00:00, ?it/s]"
      ]
     },
     "metadata": {},
     "output_type": "display_data"
    },
    {
     "name": "stderr",
     "output_type": "stream",
     "text": [
      "Epoch 9, global step 1959: 'val_accuracy' reached 0.96120 (best 0.96160), saving model to 'D:\\\\x\\\\cs\\\\project\\\\AI4LEGAL\\\\topic_classification\\\\models\\\\epoch=9-step=1959.ckpt' as top 3\n",
      "Start to fuse 3 checkpoints via the greedy soup algorithm.\n"
     ]
    },
    {
     "data": {
      "application/vnd.jupyter.widget-view+json": {
       "model_id": "771b6dfdcf174371b07543792b43f616",
       "version_major": 2,
       "version_minor": 0
      },
      "text/plain": [
       "Predicting: 0it [00:00, ?it/s]"
      ]
     },
     "metadata": {},
     "output_type": "display_data"
    },
    {
     "data": {
      "application/vnd.jupyter.widget-view+json": {
       "model_id": "d424df7c6c7441d5b20496c4eba36e13",
       "version_major": 2,
       "version_minor": 0
      },
      "text/plain": [
       "Predicting: 0it [00:00, ?it/s]"
      ]
     },
     "metadata": {},
     "output_type": "display_data"
    },
    {
     "data": {
      "application/vnd.jupyter.widget-view+json": {
       "model_id": "7de15dd43feb413497470dc1d82d1b15",
       "version_major": 2,
       "version_minor": 0
      },
      "text/plain": [
       "Predicting: 0it [00:00, ?it/s]"
      ]
     },
     "metadata": {},
     "output_type": "display_data"
    },
    {
     "data": {
      "text/plain": [
       "<autogluon.text.text_prediction.predictor.TextPredictor at 0x1fc0d2dac40>"
      ]
     },
     "execution_count": 5,
     "metadata": {},
     "output_type": "execute_result"
    }
   ],
   "source": [
    "from autogluon.text import TextPredictor\n",
    "\n",
    "baseline_predictor = TextPredictor(\n",
    "    label='category', \n",
    "    problem_type='multiclass',\n",
    "    eval_metric='f1_weighted', \n",
    "    path='./models'\n",
    ")\n",
    "baseline_predictor.fit(train_df, time_limit=None, hyperparameters={\n",
    "            \"model.hf_text.checkpoint_name\": \"bert-base-uncased\",\n",
    "    }, seed = 42)"
   ]
  },
  {
   "cell_type": "markdown",
   "metadata": {},
   "source": [
    "#### Now we can test the model"
   ]
  },
  {
   "cell_type": "code",
   "execution_count": 6,
   "metadata": {},
   "outputs": [
    {
     "data": {
      "application/vnd.jupyter.widget-view+json": {
       "model_id": "2e5c8b24ade140d3afe3316ff72eb4f8",
       "version_major": 2,
       "version_minor": 0
      },
      "text/plain": [
       "Predicting: 0it [00:00, ?it/s]"
      ]
     },
     "metadata": {},
     "output_type": "display_data"
    },
    {
     "name": "stdout",
     "output_type": "stream",
     "text": [
      "{'acc': 0.9596165020337013, 'f1_weighted': 0.9587883232546399}\n"
     ]
    }
   ],
   "source": [
    "test_score = baseline_predictor.evaluate(test_df, metrics=['acc', 'f1_weighted'])\n",
    "print(test_score)"
   ]
  },
  {
   "cell_type": "code",
   "execution_count": 14,
   "metadata": {},
   "outputs": [
    {
     "data": {
      "text/plain": [
       "76"
      ]
     },
     "execution_count": 14,
     "metadata": {},
     "output_type": "execute_result"
    }
   ],
   "source": [
    "#load category2label map \n",
    "with open('generated_data/category2label.json', 'r') as f:\n",
    "    category2label = json.load(f)\n",
    "\n",
    "sum(train_df.category == category2label['Fair and Equitable Treatment'])"
   ]
  },
  {
   "cell_type": "code",
   "execution_count": 15,
   "metadata": {},
   "outputs": [
    {
     "data": {
      "text/plain": [
       "15"
      ]
     },
     "execution_count": 15,
     "metadata": {},
     "output_type": "execute_result"
    }
   ],
   "source": [
    "sum(test_df.category == category2label['Fair and Equitable Treatment'])"
   ]
  },
  {
   "cell_type": "code",
   "execution_count": null,
   "metadata": {},
   "outputs": [],
   "source": []
  }
 ],
 "metadata": {
  "kernelspec": {
   "display_name": "Python 3",
   "language": "python",
   "name": "python3"
  },
  "language_info": {
   "codemirror_mode": {
    "name": "ipython",
    "version": 3
   },
   "file_extension": ".py",
   "mimetype": "text/x-python",
   "name": "python",
   "nbconvert_exporter": "python",
   "pygments_lexer": "ipython3",
   "version": "3.8.10 (tags/v3.8.10:3d8993a, May  3 2021, 11:48:03) [MSC v.1928 64 bit (AMD64)]"
  },
  "orig_nbformat": 4,
  "vscode": {
   "interpreter": {
    "hash": "b81ca590b271799da31fa16a2fc68bc63207c343351f0c305987a9f4f18afaa3"
   }
  }
 },
 "nbformat": 4,
 "nbformat_minor": 2
}
