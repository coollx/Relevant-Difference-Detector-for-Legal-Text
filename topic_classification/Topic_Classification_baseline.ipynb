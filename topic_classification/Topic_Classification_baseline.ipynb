{
  "nbformat": 4,
  "nbformat_minor": 0,
  "metadata": {
    "colab": {
      "provenance": [],
      "collapsed_sections": []
    },
    "kernelspec": {
      "name": "python3",
      "display_name": "Python 3"
    },
    "language_info": {
      "name": "python"
    }
  },
  "cells": [
    {
      "cell_type": "code",
      "execution_count": 1,
      "metadata": {
        "id": "zvvjE7eIYmRe"
      },
      "outputs": [],
      "source": [
        "from sklearn.feature_extraction.text import TfidfVectorizer,CountVectorizer\n",
        "import pandas as pd\n",
        "import nltk\n",
        "from nltk.stem import WordNetLemmatizer"
      ]
    },
    {
      "cell_type": "code",
      "source": [
        "import pandas as pd\n",
        "import numpy as np\n",
        "from nltk.tokenize import word_tokenize\n",
        "from nltk import pos_tag\n",
        "from nltk.corpus import stopwords\n",
        "from nltk.stem import WordNetLemmatizer\n",
        "from sklearn.preprocessing import LabelEncoder\n",
        "from collections import defaultdict\n",
        "from nltk.corpus import wordnet as wn\n",
        "from sklearn.feature_extraction.text import TfidfVectorizer\n",
        "from sklearn import model_selection, naive_bayes, svm\n",
        "from sklearn.metrics import accuracy_score, f1_score, precision_score, recall_score"
      ],
      "metadata": {
        "id": "plLXOuY6aBi6"
      },
      "execution_count": 92,
      "outputs": []
    },
    {
      "cell_type": "code",
      "source": [
        "train_df = pd.read_csv('category_train.csv')\n",
        "test_df = pd.read_csv('category_test.csv')\n",
        "train_df.head()"
      ],
      "metadata": {
        "colab": {
          "base_uri": "https://localhost:8080/",
          "height": 206
        },
        "id": "LrIq705EY80q",
        "outputId": "5d0118d4-7d05-4b29-ace1-262eea9471dd"
      },
      "execution_count": 91,
      "outputs": [
        {
          "output_type": "execute_result",
          "data": {
            "text/plain": [
              "                                             article  category\n",
              "0   Either Party shall permit, within the scope o...         5\n",
              "1   Either Contracting Party shall guarantee with...         5\n",
              "2  If the present or future legislation of one Co...        14\n",
              "3  Each Contracting Party shall notify the other ...        11\n",
              "4  (1) Disputes between contracting parties regar...         8"
            ],
            "text/html": [
              "\n",
              "  <div id=\"df-121dd4e2-e58c-4477-95c9-09897095c7b5\">\n",
              "    <div class=\"colab-df-container\">\n",
              "      <div>\n",
              "<style scoped>\n",
              "    .dataframe tbody tr th:only-of-type {\n",
              "        vertical-align: middle;\n",
              "    }\n",
              "\n",
              "    .dataframe tbody tr th {\n",
              "        vertical-align: top;\n",
              "    }\n",
              "\n",
              "    .dataframe thead th {\n",
              "        text-align: right;\n",
              "    }\n",
              "</style>\n",
              "<table border=\"1\" class=\"dataframe\">\n",
              "  <thead>\n",
              "    <tr style=\"text-align: right;\">\n",
              "      <th></th>\n",
              "      <th>article</th>\n",
              "      <th>category</th>\n",
              "    </tr>\n",
              "  </thead>\n",
              "  <tbody>\n",
              "    <tr>\n",
              "      <th>0</th>\n",
              "      <td>Either Party shall permit, within the scope o...</td>\n",
              "      <td>5</td>\n",
              "    </tr>\n",
              "    <tr>\n",
              "      <th>1</th>\n",
              "      <td>Either Contracting Party shall guarantee with...</td>\n",
              "      <td>5</td>\n",
              "    </tr>\n",
              "    <tr>\n",
              "      <th>2</th>\n",
              "      <td>If the present or future legislation of one Co...</td>\n",
              "      <td>14</td>\n",
              "    </tr>\n",
              "    <tr>\n",
              "      <th>3</th>\n",
              "      <td>Each Contracting Party shall notify the other ...</td>\n",
              "      <td>11</td>\n",
              "    </tr>\n",
              "    <tr>\n",
              "      <th>4</th>\n",
              "      <td>(1) Disputes between contracting parties regar...</td>\n",
              "      <td>8</td>\n",
              "    </tr>\n",
              "  </tbody>\n",
              "</table>\n",
              "</div>\n",
              "      <button class=\"colab-df-convert\" onclick=\"convertToInteractive('df-121dd4e2-e58c-4477-95c9-09897095c7b5')\"\n",
              "              title=\"Convert this dataframe to an interactive table.\"\n",
              "              style=\"display:none;\">\n",
              "        \n",
              "  <svg xmlns=\"http://www.w3.org/2000/svg\" height=\"24px\"viewBox=\"0 0 24 24\"\n",
              "       width=\"24px\">\n",
              "    <path d=\"M0 0h24v24H0V0z\" fill=\"none\"/>\n",
              "    <path d=\"M18.56 5.44l.94 2.06.94-2.06 2.06-.94-2.06-.94-.94-2.06-.94 2.06-2.06.94zm-11 1L8.5 8.5l.94-2.06 2.06-.94-2.06-.94L8.5 2.5l-.94 2.06-2.06.94zm10 10l.94 2.06.94-2.06 2.06-.94-2.06-.94-.94-2.06-.94 2.06-2.06.94z\"/><path d=\"M17.41 7.96l-1.37-1.37c-.4-.4-.92-.59-1.43-.59-.52 0-1.04.2-1.43.59L10.3 9.45l-7.72 7.72c-.78.78-.78 2.05 0 2.83L4 21.41c.39.39.9.59 1.41.59.51 0 1.02-.2 1.41-.59l7.78-7.78 2.81-2.81c.8-.78.8-2.07 0-2.86zM5.41 20L4 18.59l7.72-7.72 1.47 1.35L5.41 20z\"/>\n",
              "  </svg>\n",
              "      </button>\n",
              "      \n",
              "  <style>\n",
              "    .colab-df-container {\n",
              "      display:flex;\n",
              "      flex-wrap:wrap;\n",
              "      gap: 12px;\n",
              "    }\n",
              "\n",
              "    .colab-df-convert {\n",
              "      background-color: #E8F0FE;\n",
              "      border: none;\n",
              "      border-radius: 50%;\n",
              "      cursor: pointer;\n",
              "      display: none;\n",
              "      fill: #1967D2;\n",
              "      height: 32px;\n",
              "      padding: 0 0 0 0;\n",
              "      width: 32px;\n",
              "    }\n",
              "\n",
              "    .colab-df-convert:hover {\n",
              "      background-color: #E2EBFA;\n",
              "      box-shadow: 0px 1px 2px rgba(60, 64, 67, 0.3), 0px 1px 3px 1px rgba(60, 64, 67, 0.15);\n",
              "      fill: #174EA6;\n",
              "    }\n",
              "\n",
              "    [theme=dark] .colab-df-convert {\n",
              "      background-color: #3B4455;\n",
              "      fill: #D2E3FC;\n",
              "    }\n",
              "\n",
              "    [theme=dark] .colab-df-convert:hover {\n",
              "      background-color: #434B5C;\n",
              "      box-shadow: 0px 1px 3px 1px rgba(0, 0, 0, 0.15);\n",
              "      filter: drop-shadow(0px 1px 2px rgba(0, 0, 0, 0.3));\n",
              "      fill: #FFFFFF;\n",
              "    }\n",
              "  </style>\n",
              "\n",
              "      <script>\n",
              "        const buttonEl =\n",
              "          document.querySelector('#df-121dd4e2-e58c-4477-95c9-09897095c7b5 button.colab-df-convert');\n",
              "        buttonEl.style.display =\n",
              "          google.colab.kernel.accessAllowed ? 'block' : 'none';\n",
              "\n",
              "        async function convertToInteractive(key) {\n",
              "          const element = document.querySelector('#df-121dd4e2-e58c-4477-95c9-09897095c7b5');\n",
              "          const dataTable =\n",
              "            await google.colab.kernel.invokeFunction('convertToInteractive',\n",
              "                                                     [key], {});\n",
              "          if (!dataTable) return;\n",
              "\n",
              "          const docLinkHtml = 'Like what you see? Visit the ' +\n",
              "            '<a target=\"_blank\" href=https://colab.research.google.com/notebooks/data_table.ipynb>data table notebook</a>'\n",
              "            + ' to learn more about interactive tables.';\n",
              "          element.innerHTML = '';\n",
              "          dataTable['output_type'] = 'display_data';\n",
              "          await google.colab.output.renderOutput(dataTable, element);\n",
              "          const docLink = document.createElement('div');\n",
              "          docLink.innerHTML = docLinkHtml;\n",
              "          element.appendChild(docLink);\n",
              "        }\n",
              "      </script>\n",
              "    </div>\n",
              "  </div>\n",
              "  "
            ]
          },
          "metadata": {},
          "execution_count": 91
        }
      ]
    },
    {
      "cell_type": "code",
      "source": [
        "train_df = train_df[train_df['article'].notnull()]\n",
        "test_df = test_df[test_df['article'].notnull()]\n",
        "#lemmatize the text\n",
        "nltk.download('wordnet')\n",
        "nltk.download('omw-1.4')\n",
        "lemmatizer = WordNetLemmatizer()\n",
        "\n",
        "def lemmatize_text(text):\n",
        "    return ' '.join([lemmatizer.lemmatize(word) for word in text.split()])\n",
        "\n",
        "train_df['article'] = train_df['article'].apply(lemmatize_text)\n",
        "test_df['article'] = test_df['article'].apply(lemmatize_text)"
      ],
      "metadata": {
        "colab": {
          "base_uri": "https://localhost:8080/"
        },
        "id": "4azxxcPsZEyR",
        "outputId": "2aa9b831-bf13-436a-b020-dbfa6c15bdf6"
      },
      "execution_count": 93,
      "outputs": [
        {
          "output_type": "stream",
          "name": "stderr",
          "text": [
            "[nltk_data] Downloading package wordnet to /root/nltk_data...\n",
            "[nltk_data]   Package wordnet is already up-to-date!\n",
            "[nltk_data] Downloading package omw-1.4 to /root/nltk_data...\n",
            "[nltk_data]   Package omw-1.4 is already up-to-date!\n"
          ]
        }
      ]
    },
    {
      "cell_type": "code",
      "source": [
        "nltk.download('stopwords')\n",
        "from nltk.corpus import stopwords\n",
        "stop_words = stopwords.words('english')\n",
        "stop_words.extend(['from', 'subject', 're', 'edu', 'use', '(', ')'])\n",
        "def remove_stopwords(text):\n",
        "    return ' '.join([word for word in text.split() if word not in stop_words])\n",
        "\n",
        "train_df['article'] = train_df['article'].apply(remove_stopwords)\n",
        "test_df['article'] = test_df['article'].apply(remove_stopwords)"
      ],
      "metadata": {
        "colab": {
          "base_uri": "https://localhost:8080/"
        },
        "id": "auJ0yNuXs3Fy",
        "outputId": "b0372b4b-6800-46f7-fb62-552d6a739095"
      },
      "execution_count": 94,
      "outputs": [
        {
          "output_type": "stream",
          "name": "stderr",
          "text": [
            "[nltk_data] Downloading package stopwords to /root/nltk_data...\n",
            "[nltk_data]   Package stopwords is already up-to-date!\n"
          ]
        }
      ]
    },
    {
      "cell_type": "code",
      "source": [
        "tfidf_vectorizer = TfidfVectorizer(stop_words='english',max_features=100)\n",
        "tfidf_train = tfidf_vectorizer.fit_transform(train_df['article'])\n",
        "tfidf_test = tfidf_vectorizer.transform(test_df['article'])\n"
      ],
      "metadata": {
        "id": "PELPXHbCZMri"
      },
      "execution_count": 95,
      "outputs": []
    },
    {
      "cell_type": "code",
      "source": [
        "Train_Y =train_df['category']\n",
        "Test_Y = test_df['category']"
      ],
      "metadata": {
        "id": "nNKYLt8gaGKC"
      },
      "execution_count": 96,
      "outputs": []
    },
    {
      "cell_type": "code",
      "source": [
        "SVM = svm.SVC(C=1.0, kernel='linear')\n",
        "SVM.fit(tfidf_train,Train_Y)"
      ],
      "metadata": {
        "colab": {
          "base_uri": "https://localhost:8080/"
        },
        "id": "FEO_TBQra5Li",
        "outputId": "537e44a6-fe32-4520-bf85-5ed2cc97d7b3"
      },
      "execution_count": 97,
      "outputs": [
        {
          "output_type": "execute_result",
          "data": {
            "text/plain": [
              "SVC(kernel='linear')"
            ]
          },
          "metadata": {},
          "execution_count": 97
        }
      ]
    },
    {
      "cell_type": "code",
      "source": [
        "predictions_SVM = SVM.predict(tfidf_test)\n",
        "# Use accuracy_score function to get the accuracy\n",
        "print(\"SVM TF-IDF Accuracy Score -> \",accuracy_score(predictions_SVM, Test_Y)*100)\n",
        "print(\"SVM TF-IDF F1 Score -> \",f1_score(predictions_SVM, Test_Y, average='weighted')*100)\n",
        "print(\"SVM TF-IDF Recall -> \",recall_score(predictions_SVM, Test_Y, average='weighted')*100)\n",
        "print(\"SVM TF-IDF precision -> \",precision_score(predictions_SVM, Test_Y, average='weighted')*100)"
      ],
      "metadata": {
        "colab": {
          "base_uri": "https://localhost:8080/"
        },
        "id": "iOsQuFrZbFpi",
        "outputId": "47588dd9-e69e-4e6b-a7c1-b88b31d79da4"
      },
      "execution_count": 98,
      "outputs": [
        {
          "output_type": "stream",
          "name": "stdout",
          "text": [
            "SVM TF-IDF Accuracy Score ->  91.10852825802702\n",
            "SVM TF-IDF F1 Score ->  91.70297115029908\n",
            "SVM TF-IDF Recall ->  91.10852825802702\n",
            "SVM TF-IDF precision ->  92.74505604769101\n"
          ]
        },
        {
          "output_type": "stream",
          "name": "stderr",
          "text": [
            "/usr/local/lib/python3.7/dist-packages/sklearn/metrics/_classification.py:1318: UndefinedMetricWarning: Recall is ill-defined and being set to 0.0 in labels with no true samples. Use `zero_division` parameter to control this behavior.\n",
            "  _warn_prf(average, modifier, msg_start, len(result))\n"
          ]
        }
      ]
    },
    {
      "cell_type": "code",
      "source": [
        "Naive = naive_bayes.MultinomialNB()\n",
        "Naive.fit(tfidf_train,Train_Y)\n",
        "# predict the labels on validation dataset\n",
        "predictions_NB = Naive.predict(tfidf_test)\n",
        "# Use accuracy_score function to get the accuracy\n",
        "print(\"Naive Bayes TF-IDF Accuracy Score -> \",accuracy_score(predictions_NB, Test_Y)*100)\n",
        "print(\"Naive Bayes TF-IDF F1 Score -> \",f1_score(predictions_NB, Test_Y, average='weighted')*100)\n",
        "print(\"Naive Bayes TF-IDF Recall -> \",recall_score(predictions_NB, Test_Y, average='weighted')*100)\n",
        "print(\"Naive Bayes TF-IDF precision -> \",precision_score(predictions_NB, Test_Y, average='weighted')*100)"
      ],
      "metadata": {
        "colab": {
          "base_uri": "https://localhost:8080/"
        },
        "id": "RvKT6d8EcV_k",
        "outputId": "ea4dbc7f-7406-4f63-ff8b-8ece94e012b5"
      },
      "execution_count": 103,
      "outputs": [
        {
          "output_type": "stream",
          "name": "stdout",
          "text": [
            "Naive Bayes TF-IDF Accuracy Score ->  80.95307278802848\n",
            "Naive Bayes TF-IDF F1 Score ->  84.93069702909327\n",
            "Naive Bayes TF-IDF Recall ->  80.95307278802848\n",
            "Naive Bayes TF-IDF precision ->  91.15879863132108\n"
          ]
        },
        {
          "output_type": "stream",
          "name": "stderr",
          "text": [
            "/usr/local/lib/python3.7/dist-packages/sklearn/metrics/_classification.py:1318: UndefinedMetricWarning: Recall is ill-defined and being set to 0.0 in labels with no true samples. Use `zero_division` parameter to control this behavior.\n",
            "  _warn_prf(average, modifier, msg_start, len(result))\n"
          ]
        }
      ]
    },
    {
      "cell_type": "code",
      "source": [
        "import gensim\n",
        "import gensim.downloader as gensim_api\n",
        "from gensim.models import Word2Vec\n",
        "import numpy"
      ],
      "metadata": {
        "id": "-DI_SfnWiMpn"
      },
      "execution_count": 104,
      "outputs": []
    },
    {
      "cell_type": "code",
      "source": [
        "\n",
        "\n",
        "sent_train = [row.split(' ') for row in train_df['article']]\n",
        "sent_test = [row.split(' ') for row in test_df['article']]\n",
        "\n",
        "sent= sent_train + sent_test\n"
      ],
      "metadata": {
        "id": "_Itf75dDjS0u"
      },
      "execution_count": 105,
      "outputs": []
    },
    {
      "cell_type": "code",
      "source": [
        "model = Word2Vec(sent, min_count=1,size= 300,workers=3, window =3, sg = 1)"
      ],
      "metadata": {
        "id": "jqBRrRsXmZyI"
      },
      "execution_count": 87,
      "outputs": []
    },
    {
      "cell_type": "code",
      "source": [
        "word_vec_train = [numpy.average(model[row.split(' ')],axis = 0) for row in train_df['article']]\n",
        "word_vec_test = [numpy.average(model[row.split(' ')],axis = 0) for row in test_df['article']]"
      ],
      "metadata": {
        "colab": {
          "base_uri": "https://localhost:8080/"
        },
        "id": "ktG7IudSmoPG",
        "outputId": "8f4f7929-054e-4134-d1a5-26fcbc71df88"
      },
      "execution_count": 109,
      "outputs": [
        {
          "output_type": "stream",
          "name": "stderr",
          "text": [
            "/usr/local/lib/python3.7/dist-packages/ipykernel_launcher.py:1: DeprecationWarning: Call to deprecated `__getitem__` (Method will be removed in 4.0.0, use self.wv.__getitem__() instead).\n",
            "  \"\"\"Entry point for launching an IPython kernel.\n",
            "/usr/local/lib/python3.7/dist-packages/ipykernel_launcher.py:2: DeprecationWarning: Call to deprecated `__getitem__` (Method will be removed in 4.0.0, use self.wv.__getitem__() instead).\n",
            "  \n"
          ]
        }
      ]
    },
    {
      "cell_type": "code",
      "source": [
        "len(word_vec_train[0])"
      ],
      "metadata": {
        "colab": {
          "base_uri": "https://localhost:8080/"
        },
        "id": "qNz49mXgrXHi",
        "outputId": "d700b5ed-3d01-4f16-9573-86d0db975eab"
      },
      "execution_count": 107,
      "outputs": [
        {
          "output_type": "execute_result",
          "data": {
            "text/plain": [
              "300"
            ]
          },
          "metadata": {},
          "execution_count": 107
        }
      ]
    },
    {
      "cell_type": "code",
      "source": [
        "SVM_wv = svm.SVC(C=1.0, kernel='rbf')\n",
        "SVM_wv.fit(word_vec_train,Train_Y)\n",
        "predictions_SVM_wv = SVM_wv.predict(word_vec_test)\n",
        "# Use accuracy_score function to get the accuracy\n",
        "print(\"SVM WV Accuracy Score -> \",accuracy_score(predictions_SVM_wv, Test_Y)*100)\n",
        "print(\"SVM WV F1 Score -> \",f1_score(predictions_SVM_wv, Test_Y, average='weighted')*100)\n",
        "print(\"SVM WV Recall -> \",recall_score(predictions_SVM_wv, Test_Y, average='weighted')*100)\n",
        "print(\"SVM WV precision -> \",precision_score(predictions_SVM_wv, Test_Y, average='weighted')*100)"
      ],
      "metadata": {
        "colab": {
          "base_uri": "https://localhost:8080/"
        },
        "id": "hz6rBXlGq12i",
        "outputId": "23a045ae-00f3-4c16-d801-8234247bda5a"
      },
      "execution_count": 110,
      "outputs": [
        {
          "output_type": "stream",
          "name": "stdout",
          "text": [
            "SVM WV Accuracy Score ->  92.00929827110271\n",
            "SVM WV F1 Score ->  92.7901593189673\n",
            "SVM WV Recall ->  92.00929827110271\n",
            "SVM WV precision ->  94.12857793330947\n"
          ]
        },
        {
          "output_type": "stream",
          "name": "stderr",
          "text": [
            "/usr/local/lib/python3.7/dist-packages/sklearn/metrics/_classification.py:1318: UndefinedMetricWarning: Recall is ill-defined and being set to 0.0 in labels with no true samples. Use `zero_division` parameter to control this behavior.\n",
            "  _warn_prf(average, modifier, msg_start, len(result))\n"
          ]
        }
      ]
    }
  ]
}